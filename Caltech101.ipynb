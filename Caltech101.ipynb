{
  "nbformat": 4,
  "nbformat_minor": 0,
  "metadata": {
    "colab": {
      "provenance": [],
      "gpuType": "T4",
      "authorship_tag": "ABX9TyMddCVxkcQy2wJQ9G//R76o",
      "include_colab_link": true
    },
    "kernelspec": {
      "name": "python3",
      "display_name": "Python 3"
    },
    "language_info": {
      "name": "python"
    },
    "accelerator": "GPU"
  },
  "cells": [
    {
      "cell_type": "markdown",
      "metadata": {
        "id": "view-in-github",
        "colab_type": "text"
      },
      "source": [
        "<a href=\"https://colab.research.google.com/github/enVives/Caltech101/blob/main/Caltech101.ipynb\" target=\"_parent\"><img src=\"https://colab.research.google.com/assets/colab-badge.svg\" alt=\"Open In Colab\"/></a>"
      ]
    },
    {
      "cell_type": "code",
      "execution_count": 621,
      "metadata": {
        "id": "TRqBiAE19FY4",
        "colab": {
          "base_uri": "https://localhost:8080/"
        },
        "outputId": "770182bc-799a-450e-fc7f-4f435e15b613"
      },
      "outputs": [
        {
          "output_type": "stream",
          "name": "stderr",
          "text": [
            "\u001b[34m\u001b[1mwandb\u001b[0m: \u001b[33mWARNING\u001b[0m Calling wandb.login() after wandb.init() has no effect.\n"
          ]
        },
        {
          "output_type": "execute_result",
          "data": {
            "text/plain": [
              "True"
            ]
          },
          "metadata": {},
          "execution_count": 621
        }
      ],
      "source": [
        "from itertools import filterfalse\n",
        "from collections import OrderedDict\n",
        "#!pip install ultralytics\n",
        "from ultralytics import YOLO\n",
        "import torch,torchvision\n",
        "import numpy as np\n",
        "import pandas as pd\n",
        "import math\n",
        "import cv2\n",
        "import time\n",
        "import os\n",
        "import wandb\n",
        "import pylab as pl\n",
        "import scipy.io\n",
        "import matplotlib.pyplot as plt\n",
        "\n",
        "\n",
        "from sklearn.metrics import accuracy_score,f1_score,precision_score,recall_score\n",
        "from tqdm.auto import tqdm\n",
        "from torchvision import transforms,models\n",
        "from torch import nn\n",
        "from IPython.display import clear_output,display\n",
        "from torch.utils.data import DataLoader, random_split,Subset,Dataset\n",
        "from google.colab.patches import cv2_imshow\n",
        "from PIL import Image\n",
        "from sklearn.preprocessing import LabelEncoder\n",
        "from glob import glob\n",
        "\n",
        "ROOT = './sample_data/'\n",
        "CLASS_A = 'cougar_body'\n",
        "CLASS_B = 'windsor_chair'\n",
        "\n",
        "DOWNLOAD = False\n",
        "wandb.login()\n",
        "#471be466c8949671a46c67e7aad0d5a0ac8c9dad\n",
        "#!rm -rf /content/sample_data/*\n",
        "\n",
        "\n",
        "# !rm -rf /content/dataset/images/*\n",
        "# !rm -rf /content/dataset/labels/*/*\n",
        "# torch.cuda.default_stream(torch.device('cuda'))"
      ]
    },
    {
      "cell_type": "code",
      "source": [
        "def find_mean_std(dataset):\n",
        "  dataloader = DataLoader(dataset,batch_size = 1,shuffle=FALSE)\n",
        "  mean = torch.zeros(3)\n",
        "  std = torch.zeros(3)\n",
        "  samples = 0\n",
        "\n",
        "  for image,_ in dataloader:\n",
        "    mean += image.mean(dim=[0, 2, 3])  # Mean for each channel [batchsize,channels,height,width]\n",
        "    std += image.std(dim=[0, 2, 3])    # Std for each channel\n",
        "    samples += 1\n",
        "\n",
        "  mean /= samples\n",
        "  std /= samples\n",
        "\n",
        "  print(mean)\n",
        "  print(std)"
      ],
      "metadata": {
        "id": "4JYb0AOJbCdC"
      },
      "execution_count": 622,
      "outputs": []
    },
    {
      "cell_type": "code",
      "source": [
        "from pickle import NONE\n",
        "\n",
        "class Formes(Dataset):\n",
        "    def __init__(self, paths, labels= None, transforms = None,annotations = None,transform_mask = None):\n",
        "        self.images = paths\n",
        "        self.labels = labels\n",
        "        self.transforms = transforms\n",
        "        self.annotations = annotations\n",
        "        self.transforms_mask = transform_mask\n",
        "\n",
        "    def __len__(self):\n",
        "        return len(self.labels)\n",
        "\n",
        "    def __setmodel__(self,model):\n",
        "        self.model = model\n",
        "\n",
        "    def __getdist__(self):\n",
        "      return pd.Series(self.labels).value_counts()\n",
        "\n",
        "    def __showcontours__(self,index):\n",
        "      path = self.images[index]\n",
        "      image = cv2.imread(path, cv2.IMREAD_COLOR)\n",
        "      image = Image.fromarray(cv2.cvtColor(image, cv2.COLOR_BGR2RGB))\n",
        "\n",
        "      plt.imshow(image)\n",
        "\n",
        "      mat_data = scipy.io.loadmat(self.annotations[index])\n",
        "        #print(\"Keys in MAT file:\", polygons_data.keys())\n",
        "\n",
        "      polygons_data = mat_data['obj_contour']\n",
        "\n",
        "      x_points = polygons_data[0]\n",
        "      y_points = polygons_data[1]\n",
        "\n",
        "      contour_points = np.array(list(zip(x_points,y_points)))\n",
        "\n",
        "      plt.plot(contour_points[:, 0], contour_points[:, 1], '-r')  # Red contour line\n",
        "      plt.scatter(contour_points[:, 0], contour_points[:, 1], c='blue')  # Optional: Mark contour points\n",
        "      plt.show()\n",
        "\n",
        "    def __getpureimage__(self,index):\n",
        "      path = self.images[index]\n",
        "      image = cv2.imread(path, cv2.IMREAD_COLOR)\n",
        "      image = Image.fromarray(cv2.cvtColor(image, cv2.COLOR_BGR2RGB))\n",
        "      return image\n",
        "\n",
        "    def __getitem__(self, index):\n",
        "      path = self.images[index]\n",
        "      label = self.labels[index]\n",
        "\n",
        "      seed = torch.random.seed()  # Create a unique seed for random operations\n",
        "\n",
        "      if self.annotations != None:\n",
        "        mat_data = scipy.io.loadmat(self.annotations[index])\n",
        "\n",
        "\n",
        "        polygons_data = mat_data['obj_contour']\n",
        "        boundingbox_data = mat_data['box_coord']\n",
        "\n",
        "        # print(\"Keys in MAT file:\", mat_data.keys())\n",
        "\n",
        "        x_points = polygons_data[0]\n",
        "        y_points = polygons_data[1]\n",
        "\n",
        "        contour_points = list(zip(x_points,y_points))\n",
        "        contour = np.array(contour_points, dtype=np.int32)\n",
        "\n",
        "        #print(contour_points)\n",
        "\n",
        "\n",
        "      image = cv2.imread(path, cv2.IMREAD_COLOR)\n",
        "      image = Image.fromarray(cv2.cvtColor(image, cv2.COLOR_BGR2RGB))\n",
        "\n",
        "      if self.model == 3:\n",
        "        mask = np.zeros(image.size, dtype=np.uint8)\n",
        "        cv2.fillPoly(mask, [contour], color=255)  # White filled polygon\n",
        "        mask = Image.fromarray(mask)  # Convert NumPy array to PIL Image\n",
        "\n",
        "        torch.random.manual_seed(seed)  # Set seed for image\n",
        "        mask_resized = self.transforms_mask(mask)\n",
        "        mask_resized = (mask_resized > 0.5).float()\n",
        "\n",
        "        torch.random.manual_seed(seed)  # Set seed for image\n",
        "        image = self.transforms(image)\n",
        "\n",
        "        return image, mask_resized\n",
        "\n",
        "      image = self.transforms(image)\n",
        "\n",
        "      return image, label"
      ],
      "metadata": {
        "id": "8imK0xLhEnm1"
      },
      "execution_count": 623,
      "outputs": []
    },
    {
      "cell_type": "code",
      "source": [
        "def get_labels(sett):\n",
        "  labels = np.array([])\n",
        "  frequency = np.zeros(101)\n",
        "  for _,label in sett:\n",
        "    labels = np.append(labels,label)\n",
        "    frequency[label] += 1\n",
        "  return labels.astype(int),frequency"
      ],
      "metadata": {
        "id": "ifL4lRvNSHlm"
      },
      "execution_count": 624,
      "outputs": []
    },
    {
      "cell_type": "code",
      "source": [
        "def escriu_informacio_yolo(carpeta,nom_imatge,annotations,class_id,image_size):\n",
        "\n",
        "    label_file = os.path.join(carpeta, f\"{os.path.splitext(nom_imatge)[0]}.txt\")\n",
        "    with open(label_file, \"w\") as f:\n",
        "            x_min, x_max, y_min, y_max = annotations[0]\n",
        "            if image_size:\n",
        "                img_width, img_height = image_size\n",
        "                x_center = ((x_min + x_max) / 2) / img_width\n",
        "                y_center = ((y_min + y_max) / 2) / img_height\n",
        "                width = (x_max - x_min) / img_width\n",
        "                height = (y_max - y_min) / img_height\n",
        "            else:\n",
        "                x_center = (x_min + x_max) / 2\n",
        "                y_center = (y_min + y_max) / 2\n",
        "                width = x_max - x_min\n",
        "                height = y_max - y_min\n",
        "\n",
        "            # Escribe en el archivo\n",
        "            f.write(f\"{class_id} {x_center} {y_center} {width} {height}\\n\")"
      ],
      "metadata": {
        "id": "T-Xip5ijGPqX"
      },
      "execution_count": 625,
      "outputs": []
    },
    {
      "cell_type": "code",
      "source": [
        "#from pickle import FALSE\n",
        "from sklearn.model_selection import train_test_split\n",
        "\n",
        "TRAINING = 0.80\n",
        "VAL = 0.10\n",
        "TESTING = 0.10\n",
        "\n",
        "#[0.5459, 0.5288, 0.5022]\n",
        "#[0.2424, 0.2393, 0.2409]\n",
        "mean = torch.tensor([0.485,0.456,0.406])\n",
        "std = torch.tensor([0.229,0.224,0.225])\n",
        "\n",
        "transform = transforms.Compose([\n",
        "    transforms.Resize((224, 224)),\n",
        "    transforms.ToTensor(),\n",
        "    transforms.Normalize(mean=mean, std=std)\n",
        "])\n",
        "\n",
        "transform_masks = transforms.Compose([\n",
        "    transforms.Resize((224, 224)),\n",
        "    # transforms.RandomHorizontalFlip(p=0.1),\n",
        "    # transforms.RandomVerticalFlip(p=0.1),\n",
        "    transforms.RandomRotation(degrees=20),\n",
        "    transforms.ToTensor(),\n",
        "])\n",
        "\n",
        "\n",
        "transform2 = transforms.Compose([\n",
        "    #transforms.Lambda(lambda img: img.convert(\"RGB\") if img.mode != \"RGB\" else img),  # Ensure all images are RGB\n",
        "    transforms.Resize((224, 224)),\n",
        "    # transforms.RandomHorizontalFlip(p=0.1),\n",
        "    # transforms.RandomVerticalFlip(p=0.1),\n",
        "    transforms.RandomRotation(degrees=20),\n",
        "    transforms.ToTensor(),\n",
        "    transforms.Normalize(mean=mean, std=std)\n",
        "])\n",
        "\n",
        "dataset = torchvision.datasets.Caltech101(root= ROOT,download=DOWNLOAD,transform=transform)\n",
        "img_class_1 = sorted(glob('/content/sample_data/caltech101/101_ObjectCategories/cougar_body/*'))\n",
        "img_class_2 = sorted(glob('/content/sample_data/caltech101/101_ObjectCategories/windsor_chair/*'))\n",
        "\n",
        "img_annotations_class_1 = sorted(glob('/content/sample_data/caltech101/Annotations/cougar_body/*'))\n",
        "img_annotations_class_2 = sorted(glob('/content/sample_data/caltech101/Annotations/windsor_chair/*'))\n",
        "\n",
        "\n",
        "img_files = img_class_1 +  img_class_2\n",
        "img_annotations = img_annotations_class_1 + img_annotations_class_2\n",
        "\n",
        "img_files_duplicated = img_files + img_files  # Duplicate image paths\n",
        "img_annotations_duplicated = img_annotations + img_annotations  # Duplicate annotation paths\n",
        "\n",
        "img_files = img_files_duplicated\n",
        "img_annotations = img_annotations_duplicated\n",
        "\n",
        "labels = []\n",
        "for img_path in img_files:\n",
        "  label = img_path.split(os.path.sep)[-2]\n",
        "  labels.append(label)\n",
        "\n",
        "lb = LabelEncoder()\n",
        "labels = lb.fit_transform(labels)\n",
        "\n",
        "weights = 1.0 / pd.Series(labels).value_counts()\n",
        "weights = weights / weights.sum()\n",
        "weights = torch.tensor(weights,dtype=torch.float32)\n",
        "\n",
        "\n",
        "X_train, X_test, y_train, y_test, annotations_train, annotations_test = train_test_split(\n",
        "    img_files, labels, img_annotations, test_size=TESTING, random_state=42, stratify=labels\n",
        ")\n",
        "\n",
        "# Split the training set further into training and validation sets\n",
        "X_train, X_val, y_train, y_val, annotations_train, annotations_val = train_test_split(\n",
        "    X_train, y_train, annotations_train, test_size=VAL/(TRAINING+VAL), random_state=42, stratify=y_train\n",
        ")\n",
        "\n",
        "training = Formes(X_train,y_train,transform2,annotations_train,transform_masks)\n",
        "testing = Formes(X_test,y_test,transform,annotations_test,transform_masks)\n",
        "validation = Formes(X_val,y_val,transform,annotations_val,transform_masks)\n",
        "\n",
        "#Preparar informació per YOLO\n",
        "\n",
        "carpeta_yolo = \"dataset\"\n",
        "\n",
        "if not os.path.exists(carpeta_yolo):\n",
        "    os.mkdir(carpeta_yolo)\n",
        "\n",
        "#cream l'estructura que utilitzarà yolo de ultralitics\n",
        "\n",
        "directoris = [\"dataset/train/\",\"dataset/test/\",\"dataset/val/\",\"dataset/train/images/\",\"dataset/train/labels/\",\"dataset/val/images/\",\"dataset/val/labels/\",\"dataset/test/images/\",\"dataset/test/labels/\"]\n",
        "\n",
        "for carpeta in directoris:\n",
        "  if not os.path.exists(carpeta):\n",
        "    os.mkdir(carpeta)\n",
        "\n",
        "#cream els fitxers de paths de imatges:\n",
        "\n",
        "with open(directoris[3]+\"train.txt\", 'w') as archivo:\n",
        "    for elemento in X_train:\n",
        "        archivo.write(f\"{elemento}\\n\")  # Escribe cada elemento en una nueva línea\n",
        "\n",
        "with open(directoris[5]+\"val.txt\", 'w') as archivo:\n",
        "    for elemento in X_val:\n",
        "        archivo.write(f\"{elemento}\\n\")  # Escribe cada elemento en una nueva línea\n",
        "\n",
        "with open(directoris[7]+\"test.txt\", 'w') as archivo:\n",
        "    for elemento in X_test:\n",
        "        archivo.write(f\"{elemento}\\n\")  # Escribe cada elemento en una nueva línea\n",
        "\n",
        "#ara a les carpetes de labels training, validation i testing hi afegirem la informació:\n",
        "#class_id,x_center,y_center,width,height de cada imatge que es el que requereix YOLOv5\n",
        "\n",
        "for i in range(len(X_train)):\n",
        "  mat_data = scipy.io.loadmat(annotations_train[i])\n",
        "  nom = X_train[i].split(\"/\")[-1]\n",
        "  label = 0 if y_train[i] == CLASS_A else 1\n",
        "  boundingbox_data = mat_data['box_coord']\n",
        "  width,height = Image.open(X_train[i]).size\n",
        "\n",
        "  escriu_informacio_yolo(\"dataset/train/labels/\",nom,boundingbox_data,label,(width,height))\n",
        "\n",
        "for i in range(len(X_val)):\n",
        "  mat_data = scipy.io.loadmat(annotations_val[i])\n",
        "  nom = X_val[i].split(\"/\")[-1]\n",
        "  label = 0 if y_val[i] == CLASS_A else 1\n",
        "  boundingbox_data = mat_data['box_coord']\n",
        "  width,height = Image.open(X_val[i]).size\n",
        "\n",
        "  escriu_informacio_yolo(\"dataset/val/labels/\",nom,boundingbox_data,label,(width,height))\n",
        "\n",
        "for i in range(len(X_test)):\n",
        "  mat_data = scipy.io.loadmat(annotations_test[i])\n",
        "  nom = X_test[i].split(\"/\")[-1]\n",
        "  label = 0 if y_test[i] == CLASS_A else 1\n",
        "  boundingbox_data = mat_data['box_coord']\n",
        "  width,height = Image.open(X_test[i]).size\n",
        "\n",
        "  escriu_informacio_yolo(\"dataset/test/labels/\",nom,boundingbox_data,label,(width,height))\n",
        "\n",
        "\n",
        "device = torch.device('cuda' if torch.cuda.is_available() else 'cpu')\n",
        "\n",
        "#training,validation,testing = random_split(dataset,[train_size,validation_size,len(dataset)-train_size-validation_size])"
      ],
      "metadata": {
        "id": "5e-PEAT6NDpO",
        "colab": {
          "base_uri": "https://localhost:8080/"
        },
        "outputId": "df1947ad-22ea-46d3-b29a-a142349545aa"
      },
      "execution_count": 626,
      "outputs": [
        {
          "output_type": "stream",
          "name": "stderr",
          "text": [
            "<ipython-input-625-e2960433a517>:9: RuntimeWarning: overflow encountered in scalar add\n",
            "  y_center = ((y_min + y_max) / 2) / img_height\n",
            "<ipython-input-625-e2960433a517>:8: RuntimeWarning: overflow encountered in scalar add\n",
            "  x_center = ((x_min + x_max) / 2) / img_width\n"
          ]
        }
      ]
    },
    {
      "cell_type": "code",
      "source": [
        "print(f\"LONGITUD SET DE TRAINING: {training.__len__()}\")\n",
        "with open(\"training.txt\", \"w\") as file:\n",
        "    for item in training.__getdist__()/training.__len__():\n",
        "        file.write(f\"{item}\\n\")\n",
        "print(f\"LONGITUD SET DE VALIDATION: {validation.__len__()}\")\n",
        "with open(\"valid.txt\", \"w\") as file:\n",
        "    for item in validation.__getdist__()/validation.__len__():\n",
        "        file.write(f\"{item}\\n\")\n",
        "print(f\"LONGITUD SET DE TESTING: {testing.__len__()}\")"
      ],
      "metadata": {
        "id": "npbH2OEvRSVh",
        "colab": {
          "base_uri": "https://localhost:8080/"
        },
        "outputId": "093e4309-7c95-4950-f0d5-a7f3feee9731"
      },
      "execution_count": 627,
      "outputs": [
        {
          "output_type": "stream",
          "name": "stdout",
          "text": [
            "LONGITUD SET DE TRAINING: 164\n",
            "LONGITUD SET DE VALIDATION: 21\n",
            "LONGITUD SET DE TESTING: 21\n"
          ]
        }
      ]
    },
    {
      "cell_type": "markdown",
      "source": [
        "Ara ja sabem que hem de predir si una imatge pertany a les classes 25 o 99"
      ],
      "metadata": {
        "id": "riWfhpfjmgeW"
      }
    },
    {
      "cell_type": "code",
      "source": [
        "def veure_imatges(train_data,std,mean):\n",
        "  for i in range(len(train_data)):\n",
        "    imatge,label = train_data[i]\n",
        "\n",
        "    print(imatge.ndimension())\n",
        "    print(imatge.shape)\n",
        "\n",
        "    imatge = imatge * (std[:, None, None]*255) + (mean[:, None, None]*255)\n",
        "    # Convert the tensor back to a NumPy array\n",
        "    img_numpy = imatge.permute(1, 2, 0).numpy()  # Change from (C, H, W) to (H, W, C)\n",
        "    cv2_imshow(img_numpy)\n",
        "    time.sleep(5)\n",
        "    clear_output(wait=True)"
      ],
      "metadata": {
        "id": "q6rpD5v8EW8G"
      },
      "execution_count": 628,
      "outputs": []
    },
    {
      "cell_type": "code",
      "source": [
        "class UNet(nn.Module):\n",
        "\n",
        "    def __init__(self, in_channels=3, out_channels=1, init_features=32):\n",
        "        super(UNet, self).__init__()\n",
        "\n",
        "        features = init_features\n",
        "\n",
        "        ## CODER\n",
        "        self.encoder1 = UNet._block(in_channels, features, name=\"enc1\")\n",
        "        self.pool1 = nn.MaxPool2d(kernel_size=2, stride=2)\n",
        "        self.encoder2 = UNet._block(features, features * 2, name=\"enc2\")\n",
        "        self.pool2 = nn.MaxPool2d(kernel_size=2, stride=2)\n",
        "        self.encoder3 = UNet._block(features * 2, features * 4, name=\"enc3\")\n",
        "        self.pool3 = nn.MaxPool2d(kernel_size=2, stride=2)\n",
        "        self.encoder4 = UNet._block(features * 4, features * 8, name=\"enc4\")\n",
        "        self.pool4 = nn.MaxPool2d(kernel_size=2, stride=2)\n",
        "\n",
        "        self.bottleneck = UNet._block(features * 8, features * 16, name=\"bottleneck\")\n",
        "\n",
        "        ## DECODER\n",
        "\n",
        "        self.upconv4 = nn.ConvTranspose2d(features * 16, features * 8, kernel_size=2,\n",
        "                                          stride=2)  # Empra aquesta capa com exemple\n",
        "        self.decoder4 = UNet._block(features * 16, features * 8, name=\"dec4\")\n",
        "\n",
        "        self.upconv3 = nn.ConvTranspose2d(features * 8, features * 4, kernel_size=2, stride=2)\n",
        "        self.decoder3 = UNet._block(features * 8, features * 4, name=\"dec3\")\n",
        "\n",
        "        self.upconv2 = nn.ConvTranspose2d(features * 4, features * 2, kernel_size=2, stride=2)\n",
        "        self.decoder2 = UNet._block(features * 4, features * 2, name=\"dec2\")\n",
        "\n",
        "        self.upconv1 = nn.ConvTranspose2d(features * 2, features, kernel_size=2, stride=2)\n",
        "        self.decoder1 = UNet._block(features * 2, features, name=\"dec1\")\n",
        "\n",
        "        self.final = nn.Conv2d(\n",
        "            in_channels=features,\n",
        "            out_channels=out_channels,\n",
        "            kernel_size=1,\n",
        "            padding=0,\n",
        "            bias=False,\n",
        "        )\n",
        "\n",
        "    def forward(self, x):\n",
        "        enc1 = self.encoder1(x)\n",
        "        enc2 = self.encoder2(self.pool1(enc1))\n",
        "        enc3 = self.encoder3(self.pool2(enc2))\n",
        "        enc4 = self.encoder4(self.pool3(enc3))\n",
        "\n",
        "        bottleneck = self.bottleneck(self.pool4(enc4))\n",
        "\n",
        "        dec1 = self.upconv4(bottleneck)\n",
        "        dec1 = torch.cat((dec1, enc4), dim=1)\n",
        "        dec2 = self.decoder4(dec1)\n",
        "\n",
        "        dec2 = self.upconv3(dec2)\n",
        "        dec2 = torch.cat((dec2, enc3), dim=1)\n",
        "        dec3 = self.decoder3(dec2)\n",
        "\n",
        "        dec3 = self.upconv2(dec3)\n",
        "        dec3 = torch.cat((dec3, enc2), dim=1)\n",
        "        dec4 = self.decoder2(dec3)\n",
        "\n",
        "        dec4 = self.upconv1(dec4)\n",
        "        dec4 = torch.cat((dec4, enc1), dim=1)\n",
        "        dec5 = self.decoder1(dec4)\n",
        "        return torch.sigmoid(self.final(dec5))\n",
        "\n",
        "    @staticmethod\n",
        "    def _block(in_channels, features, name):\n",
        "        return nn.Sequential(\n",
        "            OrderedDict(\n",
        "                [\n",
        "                    (name + \"conv1\",\n",
        "                     nn.Conv2d(\n",
        "                         in_channels=in_channels,\n",
        "                         out_channels=features,\n",
        "                         kernel_size=3,\n",
        "                         padding=1,\n",
        "                         bias=False,\n",
        "                     ),\n",
        "                     ),\n",
        "                    (name + \"norm1\", nn.BatchNorm2d(num_features=features)),\n",
        "                    (name + \"relu1\", nn.ReLU(inplace=True)),\n",
        "                    (name + \"conv2\",\n",
        "                     nn.Conv2d(\n",
        "                         in_channels=features,\n",
        "                         out_channels=features,\n",
        "                         kernel_size=3,\n",
        "                         padding=1,\n",
        "                         bias=False,\n",
        "                     ),\n",
        "                     ),\n",
        "                    (name + \"norm2\", nn.BatchNorm2d(num_features=features)),\n",
        "                    (name + \"relu2\", nn.ReLU(inplace=True)),\n",
        "                ]\n",
        "            )\n",
        "        )"
      ],
      "metadata": {
        "id": "pUYwQPDSev7e"
      },
      "execution_count": 629,
      "outputs": []
    },
    {
      "cell_type": "code",
      "source": [
        "class DiceLoss(nn.Module):\n",
        "\n",
        "    def __init__(self):\n",
        "        super(DiceLoss, self).__init__()\n",
        "        self.smooth = 0.0\n",
        "\n",
        "    def forward(self, y_pred, y_true):\n",
        "        # print(y_pred)\n",
        "        # print(y_true)\n",
        "        assert y_pred.size() == y_true.size()\n",
        "        y_pred = y_pred[:, 0].contiguous().view(-1)\n",
        "        y_true = y_true[:, 0].contiguous().view(-1)\n",
        "        intersection = (y_pred * y_true).sum()\n",
        "        dsc = (2. * intersection + self.smooth) / (\n",
        "                y_pred.sum() + y_true.sum() + self.smooth\n",
        "        )\n",
        "        return 1. - dsc"
      ],
      "metadata": {
        "id": "Mi_tP2rWd50b"
      },
      "execution_count": 630,
      "outputs": []
    },
    {
      "cell_type": "code",
      "source": [
        "def pick_algorithm(number):\n",
        "  if number == 0:\n",
        "    alexnet = models.alexnet(weights=models.AlexNet_Weights.IMAGENET1K_V1) #fine tuning\n",
        "    # Modify the classifier\n",
        "    alexnet.classifier[6] = nn.Linear(in_features=4096, out_features=1)\n",
        "\n",
        "    # alexnetmulticlass.classifier = nn.Sequential(\n",
        "    # torch.nn.Dropout(p=0.1),\n",
        "    # torch.nn.Linear(9216, 2048),\n",
        "    # nn.ReLU(inplace=True),\n",
        "    # torch.nn.Linear(2048, 1024),\n",
        "    # nn.ReLU(inplace=True),\n",
        "    # torch.nn.Linear(1024, 512),\n",
        "    # nn.ReLU(inplace=True),\n",
        "    # torch.nn.Linear(512, 1),  # Ja que tenim 10 classes.\n",
        "    # )\n",
        "\n",
        "    loss_fn = nn.BCEWithLogitsLoss()\n",
        "    #loss_fn = nn.CrossEntropyLoss(weight=weights.to(device))\n",
        "    return alexnet,loss_fn\n",
        "  elif number == 1:\n",
        "    vgg = models.vgg16(weights = models.VGG16_Weights.IMAGENET1K_V1)\n",
        "    vgg.classifier[6] = nn.Linear(in_features=4096, out_features=1)\n",
        "\n",
        "    loss_fn = nn.BCEWithLogitsLoss()\n",
        "    return vgg,loss_fn\n",
        "  elif number == 2:\n",
        "    resnet = models.resnet18(weights=\"IMAGENET1K_V1\")\n",
        "    resnet.classifier[6] = nn.Linear(in_features=4096, out_features=1)\n",
        "    loss_fn = nn.BCEWithLogitsLoss()\n",
        "\n",
        "    return resnet,loss_fn\n",
        "  elif number == 3:\n",
        "    unet = UNet(3,1)\n",
        "    loss_fn = DiceLoss()\n",
        "    return unet,loss_fn\n",
        "  elif number == 4:\n",
        "    model = YOLO('yolov5n.pt')\n",
        "    model.info()\n",
        "    return model,None"
      ],
      "metadata": {
        "id": "ySRMpg9sf9O2"
      },
      "execution_count": 631,
      "outputs": []
    },
    {
      "cell_type": "code",
      "source": [
        "BATCH_SIZE = 8\n",
        "EPOCHS = 70\n",
        "PATIENCE = 30\n",
        "\n",
        "architectures = {'alexnet': 0,'vgg': 1,'resnet': 2,'unet':3,'yolo':4}\n",
        "\n",
        "MODEL = architectures['yolo']\n",
        "\n",
        "training.__setmodel__(MODEL)\n",
        "validation.__setmodel__(MODEL)\n",
        "testing.__setmodel__(MODEL)\n",
        "\n",
        "train_loader = torch.utils.data.DataLoader(training, batch_size=BATCH_SIZE, shuffle=True)\n",
        "validation_loader = torch.utils.data.DataLoader(validation, batch_size=validation.__len__(), shuffle=True)\n",
        "testing_loader = torch.utils.data.DataLoader(testing, batch_size=testing.__len__(), shuffle=True)\n",
        "\n",
        "model,loss_fn = pick_algorithm(MODEL)\n",
        "model.to(device)\n",
        "\n",
        "learning_rate = 0.00015\n",
        "optimizer = torch.optim.Adam(model.parameters(), lr=learning_rate)\n",
        "\n",
        "wandb.init(\n",
        "        project=\"caltech101-proves\",\n",
        "        config={\n",
        "            \"epochs\": 20,\n",
        "            \"batch_size\": BATCH_SIZE,\n",
        "            \"lr\": learning_rate,\n",
        "            \"tsize\":TRAINING,\n",
        "            \"vsize\":VAL,\n",
        "            \"weights\": True\n",
        "            })\n",
        "\n",
        "\n",
        "config = wandb.config\n",
        "\n",
        "test_target = None\n",
        "test_output = None\n",
        "\n",
        "#veure_imatges(training,std,mean)"
      ],
      "metadata": {
        "id": "rjilieRW5Rzj",
        "colab": {
          "base_uri": "https://localhost:8080/",
          "height": 106
        },
        "outputId": "f38278a2-2cd3-4b42-f010-1c2e1364988f"
      },
      "execution_count": 632,
      "outputs": [
        {
          "output_type": "stream",
          "name": "stdout",
          "text": [
            "PRO TIP 💡 Replace 'model=yolov5n.pt' with new 'model=yolov5nu.pt'.\n",
            "YOLOv5 'u' models are trained with https://github.com/ultralytics/ultralytics and feature improved performance vs standard YOLOv5 models trained with https://github.com/ultralytics/yolov5.\n",
            "\n",
            "YOLOv5n summary: 262 layers, 2,654,816 parameters, 0 gradients, 7.8 GFLOPs\n"
          ]
        }
      ]
    },
    {
      "cell_type": "code",
      "source": [
        "img, target= next(iter(train_loader))\n",
        "print(img.shape)"
      ],
      "metadata": {
        "id": "wqzBODaIK61P",
        "colab": {
          "base_uri": "https://localhost:8080/"
        },
        "outputId": "8bff67af-ef4e-4b6c-e21f-06c1c845f8bb"
      },
      "execution_count": 633,
      "outputs": [
        {
          "output_type": "stream",
          "name": "stdout",
          "text": [
            "torch.Size([8, 3, 224, 224])\n"
          ]
        }
      ]
    },
    {
      "cell_type": "code",
      "source": [
        "def fit(model,loss_fn,dataloader,optimizer,epoch,config):\n",
        "\n",
        "  batch_num = 1\n",
        "  train_loss = 0\n",
        "  train_acc = 0\n",
        "  train_f1 = 0\n",
        "  train_recall = 0\n",
        "  train_precision = 0\n",
        "\n",
        "  n_steps_per_epoch = math.ceil(len(dataloader) / config.batch_size)\n",
        "  example_ct = 0\n",
        "\n",
        "  for batch_num, (input_img, target) in tqdm(enumerate(dataloader), desc=f\"Batches (Època {epoch})\"):\n",
        "\n",
        "        model.train()\n",
        "\n",
        "        optimizer.zero_grad()\n",
        "        #extreu_classes(target.to(device))\n",
        "\n",
        "        output = model(input_img.to(device))\n",
        "\n",
        "        #print(target.shape)\n",
        "        # print(target)\n",
        "        #print(output.shape)\n",
        "        # print(output)\n",
        "\n",
        "\n",
        "\n",
        "        if MODEL != architectures['unet']:\n",
        "          target = target.float().unsqueeze(1)\n",
        "        else:\n",
        "          target = target.to(dtype=torch.float32)\n",
        "\n",
        "\n",
        "        target = target.to(device)\n",
        "        loss = loss_fn(output, target)\n",
        "\n",
        "\n",
        "        model.zero_grad()\n",
        "        loss.backward()\n",
        "\n",
        "        with torch.no_grad():\n",
        "          optimizer.step()\n",
        "\n",
        "\n",
        "        #print(f\"Pèrdua entrenament batch: {batch_num} epoch: {epoch+1}  train_loss: {loss.item()}\")\n",
        "        model.eval()\n",
        "\n",
        "        # print(\"Target unique values and counts:\", torch.unique(target, return_counts=True))\n",
        "        # print(\"Output unique values and counts:\", torch.unique((output > 0.5).int(), return_counts=True))\n",
        "\n",
        "\n",
        "        if MODEL == architectures['unet']:\n",
        "            output = (output.view(-1).cpu().detach().numpy() > 0.5).astype(int)\n",
        "            target = target.view(-1).cpu().detach().numpy()\n",
        "        else:\n",
        "          output = torch.sigmoid(output)\n",
        "          output = (output.cpu().detach().numpy() > 0.5).astype(int)\n",
        "          target = target.cpu().detach().numpy()\n",
        "\n",
        "\n",
        "        y_class_predict = output\n",
        "\n",
        "\n",
        "\n",
        "        a= accuracy_score(target,y_class_predict)\n",
        "        b= f1_score(target,y_class_predict,zero_division=1)\n",
        "        c= recall_score(target,y_class_predict,zero_division=1)\n",
        "        d= precision_score(target,y_class_predict,zero_division=1)\n",
        "        e = loss.item()\n",
        "\n",
        "\n",
        "\n",
        "        train_acc += a\n",
        "        train_f1 += b\n",
        "        train_recall += c\n",
        "        train_precision += d\n",
        "        train_loss += e\n",
        "\n",
        "        example_ct += len(input_img)\n",
        "\n",
        "  return train_acc,train_f1,train_recall,train_precision,train_loss"
      ],
      "metadata": {
        "id": "itVzlC3ltGMi"
      },
      "execution_count": 634,
      "outputs": []
    },
    {
      "cell_type": "code",
      "source": [
        "\n",
        "def validate(model,data_loader,loss_fn,config):\n",
        "\n",
        "  val_acc = 0\n",
        "  val_recall = 0\n",
        "  val_f1 = 0\n",
        "  val_loss = 0\n",
        "  val_precision = 0\n",
        "\n",
        "  model.eval()\n",
        "  with torch.no_grad():\n",
        "      for batch_num, (input_img, target) in enumerate(data_loader):\n",
        "\n",
        "\n",
        "            output = model(input_img.to(device))\n",
        "            target = target.to(device)\n",
        "\n",
        "            if MODEL != architectures['unet']:\n",
        "              target = target.float().unsqueeze(1)\n",
        "            else:\n",
        "              target = target.to(dtype=torch.float32)\n",
        "\n",
        "            loss = loss_fn(output, target)\n",
        "\n",
        "\n",
        "\n",
        "            if MODEL == architectures['unet']:\n",
        "              output = (output.view(-1).cpu().detach().numpy() > 0.5).astype(int)\n",
        "              target = target.view(-1).cpu().detach().numpy()\n",
        "            else:\n",
        "              output = torch.sigmoid(output)\n",
        "              output = (output.cpu().detach().numpy() > 0.5).astype(int)\n",
        "              target = target.cpu().detach().numpy()\n",
        "\n",
        "\n",
        "            # with open(\"outputtarget.txt\", \"w\") as file:\n",
        "            #   file.write(f\"OUTPUT\\n\")\n",
        "            #   np.savetxt(file, output, fmt=\"%d\")  # Save output as integers\n",
        "            #   file.write(f\"TARGET\\n\")\n",
        "            #   np.savetxt(file, target, fmt=\"%d\")  # Save output as integers\n",
        "\n",
        "            y_class_predict = output\n",
        "\n",
        "            val_acc  += accuracy_score(target,y_class_predict)\n",
        "            val_f1 += f1_score(target,y_class_predict,zero_division=1)\n",
        "            val_recall += recall_score(target,y_class_predict,zero_division=1)\n",
        "            val_precision += precision_score(target,y_class_predict,zero_division=1)\n",
        "\n",
        "            val_loss += loss.item()\n",
        "\n",
        "  return val_acc,val_f1,val_recall,val_precision,val_loss"
      ],
      "metadata": {
        "id": "kwRzbZ92wUpk"
      },
      "execution_count": 635,
      "outputs": []
    },
    {
      "cell_type": "code",
      "source": [
        "def test(model,data_loader,loss_fn,config):\n",
        "\n",
        "  global test_target\n",
        "  global test_output\n",
        "\n",
        "\n",
        "  test_acc = 0\n",
        "  test_recall = 0\n",
        "  test_f1 = 0\n",
        "  test_loss = 0\n",
        "  test_precision = 0\n",
        "\n",
        "  model.eval()\n",
        "  with torch.no_grad():\n",
        "      for batch_num, (input_img, target) in enumerate(data_loader):\n",
        "\n",
        "\n",
        "            output = model(input_img.to(device))\n",
        "            target = target.to(device)\n",
        "\n",
        "            if MODEL != architectures['unet']:\n",
        "              target = target.float().unsqueeze(1)\n",
        "            else:\n",
        "              target = target.to(dtype=torch.float32)\n",
        "\n",
        "            loss = loss_fn(output, target)\n",
        "\n",
        "\n",
        "\n",
        "            if MODEL == architectures['unet']:\n",
        "\n",
        "              output = (output.view(-1).cpu().detach().numpy() > 0.5).astype(int)\n",
        "              target = target.view(-1).cpu().detach().numpy()\n",
        "\n",
        "              test_output = output\n",
        "              test_target = target\n",
        "\n",
        "            else:\n",
        "              output = torch.sigmoid(output)\n",
        "              output = (output.cpu().detach().numpy() > 0.5).astype(int)\n",
        "              target = target.cpu().detach().numpy()\n",
        "\n",
        "\n",
        "            # with open(\"outputtarget.txt\", \"w\") as file:\n",
        "            #   file.write(f\"OUTPUT\\n\")\n",
        "            #   np.savetxt(file, output, fmt=\"%d\")  # Save output as integers\n",
        "            #   file.write(f\"TARGET\\n\")\n",
        "            #   np.savetxt(file, target, fmt=\"%d\")  # Save output as integers\n",
        "\n",
        "            y_class_predict = output\n",
        "\n",
        "            test_acc  += accuracy_score(target,y_class_predict)\n",
        "            test_f1 += f1_score(target,y_class_predict,zero_division=1)\n",
        "            test_recall += recall_score(target,y_class_predict,zero_division=1)\n",
        "            test_precision += precision_score(target,y_class_predict,zero_division=1)\n",
        "\n",
        "            test_loss += loss.item()\n",
        "\n",
        "  return test_acc,test_f1,test_recall,test_precision,test_loss"
      ],
      "metadata": {
        "id": "MFvVoKqiGesu"
      },
      "execution_count": 636,
      "outputs": []
    },
    {
      "cell_type": "code",
      "source": [
        "def executa():\n",
        "  t_loss = np.zeros(EPOCHS)\n",
        "  v_loss = np.zeros(EPOCHS)\n",
        "  acc_t = np.zeros(EPOCHS) #accuracy\n",
        "  acc_v = np.zeros(EPOCHS)\n",
        "  f1_t = np.zeros(EPOCHS) #f1\n",
        "  f1_v = np.zeros(EPOCHS)\n",
        "  recall_t = np.zeros(EPOCHS) #recall\n",
        "  recall_v = np.zeros(EPOCHS)\n",
        "  precision_t = np.zeros(EPOCHS)\n",
        "  precision_v = np.zeros(EPOCHS) #precisió\n",
        "\n",
        "  epochs_without_improvement = 0\n",
        "  best_val_loss = float('inf')\n",
        "  best_val_acc = 0\n",
        "  pbar = tqdm(range(1, EPOCHS + 1))  # tdqm permet tenir text dinàmic\n",
        "\n",
        "  for epoch in pbar:\n",
        "\n",
        "\n",
        "    train_acc,train_f1,train_recall,train_precision,train_loss = fit(model,loss_fn,train_loader,optimizer,epoch,config)\n",
        "\n",
        "    val_acc,val_f1,val_recall,val_precision,val_loss = validate(model,validation_loader,loss_fn,config)\n",
        "\n",
        "    test_acc,test_f1,test_recall,test_precision,test_loss = test(model,testing_loader,loss_fn,config)\n",
        "\n",
        "    training_metrics = {\"train/train_loss\": train_loss/len(train_loader),\n",
        "                    \"train/train_acc\":train_acc/len(train_loader),\n",
        "                    \"train/train_f1\":train_f1/len(train_loader),\n",
        "                    \"train/train_recall\":train_recall/len(train_loader),\n",
        "                    \"train/train_precision\":train_precision/len(train_loader)}\n",
        "\n",
        "    val_metrics = {\"val/val_loss\": val_loss/len(validation_loader),\n",
        "                  \"val/val_acc\":val_acc/len(validation_loader),\n",
        "                  \"val/val_f1\":val_f1/len(validation_loader),\n",
        "                  \"val/val_recall\": val_recall/len(validation_loader),\n",
        "                  \"val/val_precision\": val_precision/len(validation_loader)}\n",
        "\n",
        "    # testing_metrics = {\"test/test_loss\": test_loss/len(testing_loader),\n",
        "    #                    \"test/test_acc\": test_acc/len(testing_loader),\n",
        "    #                    \"test/test_f1\":test_f1/len(testing_loader),\n",
        "    #                    \"test/test_recall\": test_recall/len(testing_loader),\n",
        "    #                     \"test/test_precision\": test_precision/len(testing_loader)}\n",
        "\n",
        "    #Early Stopping:\n",
        "\n",
        "    if val_acc >= best_val_acc:\n",
        "        best_val_acc = val_acc\n",
        "        epochs_without_improvement = 0\n",
        "    else:\n",
        "      # print(\"Early stopping triggered!\")\n",
        "      # break\n",
        "        epochs_without_improvement += 1\n",
        "\n",
        "    #Saving the results\n",
        "\n",
        "    wandb.log({**training_metrics, **val_metrics})\n",
        "\n",
        "    torch.save(model, \"my_model.pt\")\n",
        "    wandb.log_model(\"./my_model.pt\", \"alexnet\", aliases=[f\"epoch-{epoch+1}\"])\n",
        "\n",
        "    train_loss /= len(train_loader)\n",
        "    t_loss[epoch - 1] = train_loss\n",
        "\n",
        "    train_acc /= len(train_loader)\n",
        "    acc_t[epoch - 1] = train_acc\n",
        "\n",
        "    train_f1 /= len(train_loader)\n",
        "    f1_t[epoch - 1] = train_f1\n",
        "\n",
        "    train_recall /= len(train_loader)\n",
        "    recall_t[epoch - 1] = train_recall\n",
        "\n",
        "    train_precision /= len(train_loader)\n",
        "    precision_t[epoch-1] = train_precision\n",
        "\n",
        "    print(f\"Pèrdua entrenament epoch: {epoch}  train_loss: {train_loss}\")\n",
        "    print(f\"Accuracy train epoch: {epoch}  train_acc: {train_acc}\")\n",
        "    print(f\"F1 train epoch: {epoch}  train_f1: {train_f1}\")\n",
        "    print(f\"Recall train epoch: {epoch}  train_recall: {train_recall}\")\n",
        "    print(f\"Precision train epoch: {epoch}  train_recall: {train_precision}\")\n",
        "\n",
        "    val_loss /= len(validation_loader)\n",
        "    v_loss[epoch - 1] = val_loss\n",
        "\n",
        "    val_acc /= len(validation_loader)\n",
        "    acc_v[epoch - 1] = val_acc\n",
        "\n",
        "    val_f1 /= len(validation_loader)\n",
        "    f1_v[epoch - 1] = val_f1\n",
        "\n",
        "    val_recall /= len(validation_loader)\n",
        "    recall_v[epoch - 1] = val_recall\n",
        "\n",
        "    val_precision /= len(validation_loader)\n",
        "    precision_v[epoch-1] = val_precision\n",
        "\n",
        "    print()\n",
        "    print()\n",
        "    print(f\"Pèrdua validació epoch: {epoch}  val_loss: {val_loss}\")\n",
        "    print(f\"Accuracy val epoch: {epoch}  val_acc: {val_acc}\")\n",
        "    print(f\"F1 val epoch: {epoch}  val_f1: {val_f1}\")\n",
        "    print(f\"Recall val epoch: {epoch}  val_reall: {val_recall}\")\n",
        "    print(f\"Precision val epoch: {epoch}  val_reall: {val_precision}\")\n",
        "\n",
        "    test_loss /= len(testing_loader)\n",
        "\n",
        "    test_acc /= len(testing_loader)\n",
        "\n",
        "    test_f1 /= len(testing_loader)\n",
        "\n",
        "    test_recall /= len(testing_loader)\n",
        "\n",
        "    test_precision /= len(testing_loader)\n",
        "\n",
        "    print()\n",
        "    print()\n",
        "    print(f\"Pèrdua testing epoch: {epoch}  val_loss: {test_loss}\")\n",
        "    print(f\"Accuracy test epoch: {epoch}  val_acc: {test_acc}\")\n",
        "    print(f\"F1 test epoch: {epoch}  val_f1: {test_f1}\")\n",
        "    print(f\"Recall test epoch: {epoch}  val_reall: {test_recall}\")\n",
        "    print(f\"Precision test epoch: {epoch}  val_reall: {test_precision}\")\n",
        "\n",
        "    # if epochs_without_improvement >= PATIENCE:\n",
        "    #     print(\"Early stopping triggered!\")\n",
        "    #     break\n",
        "\n",
        "    # if val_acc > 0.9:\n",
        "    #   print(\"Early stopping triggered!\")\n",
        "    #   break\n",
        "\n",
        "  wandb.finish()"
      ],
      "metadata": {
        "id": "RlbcPphkxdhz"
      },
      "execution_count": 637,
      "outputs": []
    },
    {
      "cell_type": "code",
      "source": [
        "from IPython.display import clear_output\n",
        "\n",
        "def visualitza_resultats():\n",
        "    test_output_images = test_output.reshape(testing.__len__(), 224, 224)\n",
        "    test_target_images = test_target.reshape(testing.__len__(), 224, 224)\n",
        "\n",
        "    # Set up the figure and axes once\n",
        "    fig, axs = plt.subplots(1, 2, figsize=(10, 5))\n",
        "\n",
        "    # Hide axes for better clarity\n",
        "    for ax in axs:\n",
        "        ax.axis('off')\n",
        "\n",
        "    # Loop through the images and update\n",
        "    for i in range(testing.__len__()):\n",
        "        # Clear the previous output in Colab\n",
        "        clear_output(wait=True)\n",
        "\n",
        "        # Clear the axes\n",
        "        axs[0].cla()\n",
        "        axs[1].cla()\n",
        "\n",
        "        # Update the image data for output and target images\n",
        "        axs[0].imshow(test_output_images[i], cmap='gray', vmin=0, vmax=1)\n",
        "        axs[1].imshow(test_target_images[i], cmap='gray', vmin=0, vmax=1)\n",
        "\n",
        "        # Set the titles dynamically\n",
        "        axs[0].set_title(f\"Output {i+1}\")\n",
        "        axs[1].set_title(f\"Target {i+1}\")\n",
        "\n",
        "        # Redraw the plot\n",
        "        display(fig)  # Explicitly display the updated figure\n",
        "        plt.pause(1)\n",
        "\n",
        "    # Close the plot window after all images have been shown\n",
        "    plt.close(fig)"
      ],
      "metadata": {
        "id": "65YoY2jTIkMi"
      },
      "execution_count": 638,
      "outputs": []
    },
    {
      "cell_type": "code",
      "source": [
        "if MODEL != architectures['yolo']:\n",
        "#executa()\n",
        "#visualitza_resultats()\n",
        " a = 2\n",
        "else:\n",
        "  model.info()\n",
        "  train_results = model.train(\n",
        "      data=\"/content/data.yaml\",  # path to dataset YAML\n",
        "      epochs=10,  # number of training epochs\n",
        "      imgsz=300,  # training image size\n",
        "      verbose=True\n",
        "  )\n",
        "\n",
        "  # Evaluate model performance on the validation set\n",
        "  metrics = model.val()\n",
        "\n",
        "  # Perform object detection on an image\n",
        "  results = model(X_test[0])\n",
        "  results[0].show()\n",
        "\n",
        "  # Export the model to ONNX format\n",
        "  path = model.export(format=\"onnx\")  # return path to exported model\n"
      ],
      "metadata": {
        "colab": {
          "base_uri": "https://localhost:8080/",
          "height": 1000
        },
        "id": "ghEYwyFzJHA6",
        "outputId": "b7ef67dc-8123-4a91-bc19-1a40572eb9c7"
      },
      "execution_count": 639,
      "outputs": [
        {
          "output_type": "stream",
          "name": "stdout",
          "text": [
            "YOLOv5n summary: 262 layers, 2,654,816 parameters, 0 gradients, 7.8 GFLOPs\n",
            "\u001b[34m\u001b[1mengine/trainer: \u001b[0mtask=detect, mode=train, model=yolov5n.pt, data=/content/data.yaml, epochs=10, time=None, patience=100, batch=16, imgsz=300, save=True, save_period=-1, cache=False, device=cuda:0, workers=8, project=None, name=train, exist_ok=False, pretrained=True, optimizer=auto, verbose=True, seed=0, deterministic=True, single_cls=False, rect=False, cos_lr=False, close_mosaic=10, resume=False, amp=True, fraction=1.0, profile=False, freeze=None, multi_scale=False, overlap_mask=True, mask_ratio=4, dropout=0.0, val=True, split=val, save_json=False, save_hybrid=False, conf=None, iou=0.7, max_det=300, half=False, dnn=False, plots=True, source=None, vid_stride=1, stream_buffer=False, visualize=False, augment=False, agnostic_nms=False, classes=None, retina_masks=False, embed=None, show=False, save_frames=False, save_txt=False, save_conf=False, save_crop=False, show_labels=True, show_conf=True, show_boxes=True, line_width=None, format=torchscript, keras=False, optimize=False, int8=False, dynamic=False, simplify=True, opset=None, workspace=None, nms=False, lr0=0.01, lrf=0.01, momentum=0.937, weight_decay=0.0005, warmup_epochs=3.0, warmup_momentum=0.8, warmup_bias_lr=0.1, box=7.5, cls=0.5, dfl=1.5, pose=12.0, kobj=1.0, nbs=64, hsv_h=0.015, hsv_s=0.7, hsv_v=0.4, degrees=0.0, translate=0.1, scale=0.5, shear=0.0, perspective=0.0, flipud=0.0, fliplr=0.5, bgr=0.0, mosaic=1.0, mixup=0.0, copy_paste=0.0, copy_paste_mode=flip, auto_augment=randaugment, erasing=0.4, crop_fraction=1.0, cfg=None, tracker=botsort.yaml, save_dir=runs/detect/train\n",
            "Downloading https://ultralytics.com/assets/Arial.ttf to '/root/.config/Ultralytics/Arial.ttf'...\n"
          ]
        },
        {
          "output_type": "stream",
          "name": "stderr",
          "text": [
            "100%|██████████| 755k/755k [00:00<00:00, 21.0MB/s]\n"
          ]
        },
        {
          "output_type": "stream",
          "name": "stdout",
          "text": [
            "Overriding model.yaml nc=80 with nc=2\n",
            "\n",
            "                   from  n    params  module                                       arguments                     \n",
            "  0                  -1  1      1760  ultralytics.nn.modules.conv.Conv             [3, 16, 6, 2, 2]              \n",
            "  1                  -1  1      4672  ultralytics.nn.modules.conv.Conv             [16, 32, 3, 2]                \n",
            "  2                  -1  1      4800  ultralytics.nn.modules.block.C3              [32, 32, 1]                   \n",
            "  3                  -1  1     18560  ultralytics.nn.modules.conv.Conv             [32, 64, 3, 2]                \n",
            "  4                  -1  2     29184  ultralytics.nn.modules.block.C3              [64, 64, 2]                   \n",
            "  5                  -1  1     73984  ultralytics.nn.modules.conv.Conv             [64, 128, 3, 2]               \n",
            "  6                  -1  3    156928  ultralytics.nn.modules.block.C3              [128, 128, 3]                 \n",
            "  7                  -1  1    295424  ultralytics.nn.modules.conv.Conv             [128, 256, 3, 2]              \n",
            "  8                  -1  1    296448  ultralytics.nn.modules.block.C3              [256, 256, 1]                 \n",
            "  9                  -1  1    164608  ultralytics.nn.modules.block.SPPF            [256, 256, 5]                 \n",
            " 10                  -1  1     33024  ultralytics.nn.modules.conv.Conv             [256, 128, 1, 1]              \n",
            " 11                  -1  1         0  torch.nn.modules.upsampling.Upsample         [None, 2, 'nearest']          \n",
            " 12             [-1, 6]  1         0  ultralytics.nn.modules.conv.Concat           [1]                           \n",
            " 13                  -1  1     90880  ultralytics.nn.modules.block.C3              [256, 128, 1, False]          \n",
            " 14                  -1  1      8320  ultralytics.nn.modules.conv.Conv             [128, 64, 1, 1]               \n",
            " 15                  -1  1         0  torch.nn.modules.upsampling.Upsample         [None, 2, 'nearest']          \n",
            " 16             [-1, 4]  1         0  ultralytics.nn.modules.conv.Concat           [1]                           \n",
            " 17                  -1  1     22912  ultralytics.nn.modules.block.C3              [128, 64, 1, False]           \n",
            " 18                  -1  1     36992  ultralytics.nn.modules.conv.Conv             [64, 64, 3, 2]                \n",
            " 19            [-1, 14]  1         0  ultralytics.nn.modules.conv.Concat           [1]                           \n",
            " 20                  -1  1     74496  ultralytics.nn.modules.block.C3              [128, 128, 1, False]          \n",
            " 21                  -1  1    147712  ultralytics.nn.modules.conv.Conv             [128, 128, 3, 2]              \n",
            " 22            [-1, 10]  1         0  ultralytics.nn.modules.conv.Concat           [1]                           \n",
            " 23                  -1  1    296448  ultralytics.nn.modules.block.C3              [256, 256, 1, False]          \n",
            " 24        [17, 20, 23]  1    751702  ultralytics.nn.modules.head.Detect           [2, [64, 128, 256]]           \n",
            "YOLOv5n summary: 262 layers, 2,508,854 parameters, 2,508,838 gradients, 7.2 GFLOPs\n",
            "\n",
            "Transferred 391/427 items from pretrained weights\n",
            "\u001b[34m\u001b[1mTensorBoard: \u001b[0mStart with 'tensorboard --logdir runs/detect/train', view at http://localhost:6006/\n",
            "Freezing layer 'model.24.dfl.conv.weight'\n",
            "\u001b[34m\u001b[1mAMP: \u001b[0mrunning Automatic Mixed Precision (AMP) checks...\n",
            "\u001b[34m\u001b[1mAMP: \u001b[0mchecks passed ✅\n",
            "WARNING ⚠️ imgsz=[300] must be multiple of max stride 32, updating to [320]\n"
          ]
        },
        {
          "output_type": "stream",
          "name": "stderr",
          "text": [
            "\u001b[34m\u001b[1mtrain: \u001b[0mScanning /content/sample_data/caltech101/101_ObjectCategories/cougar_body... 0 images, 164 backgrounds, 0 corrupt: 100%|██████████| 164/164 [00:00<00:00, 4641.91it/s]"
          ]
        },
        {
          "output_type": "stream",
          "name": "stdout",
          "text": [
            "\u001b[34m\u001b[1mtrain: \u001b[0mWARNING ⚠️ No labels found in /content/sample_data/caltech101/101_ObjectCategories/cougar_body.cache. See https://docs.ultralytics.com/datasets for dataset formatting guidance.\n",
            "\u001b[34m\u001b[1mtrain: \u001b[0mNew cache created: /content/sample_data/caltech101/101_ObjectCategories/cougar_body.cache\n",
            "WARNING ⚠️ No labels found in /content/sample_data/caltech101/101_ObjectCategories/cougar_body.cache, training may not work correctly. See https://docs.ultralytics.com/datasets for dataset formatting guidance.\n"
          ]
        },
        {
          "output_type": "stream",
          "name": "stderr",
          "text": [
            "\n"
          ]
        },
        {
          "output_type": "stream",
          "name": "stdout",
          "text": [
            "\u001b[34m\u001b[1malbumentations: \u001b[0mBlur(p=0.01, blur_limit=(3, 7)), MedianBlur(p=0.01, blur_limit=(3, 7)), ToGray(p=0.01, num_output_channels=3, method='weighted_average'), CLAHE(p=0.01, clip_limit=(1.0, 4.0), tile_grid_size=(8, 8))\n"
          ]
        },
        {
          "output_type": "stream",
          "name": "stderr",
          "text": [
            "/usr/local/lib/python3.10/dist-packages/albumentations/__init__.py:24: UserWarning: A new version of Albumentations is available: 2.0.0 (you have 1.4.20). Upgrade using: pip install -U albumentations. To disable automatic update checks, set the environment variable NO_ALBUMENTATIONS_UPDATE to 1.\n",
            "  check_for_updates()\n",
            "\u001b[34m\u001b[1mval: \u001b[0mScanning /content/sample_data/caltech101/101_ObjectCategories/cougar_body... 0 images, 21 backgrounds, 0 corrupt: 100%|██████████| 21/21 [00:00<00:00, 3687.22it/s]"
          ]
        },
        {
          "output_type": "stream",
          "name": "stdout",
          "text": [
            "\u001b[34m\u001b[1mval: \u001b[0mWARNING ⚠️ No labels found in /content/sample_data/caltech101/101_ObjectCategories/cougar_body.cache. See https://docs.ultralytics.com/datasets for dataset formatting guidance.\n",
            "\u001b[34m\u001b[1mval: \u001b[0mNew cache created: /content/sample_data/caltech101/101_ObjectCategories/cougar_body.cache\n",
            "WARNING ⚠️ No labels found in /content/sample_data/caltech101/101_ObjectCategories/cougar_body.cache, training may not work correctly. See https://docs.ultralytics.com/datasets for dataset formatting guidance.\n"
          ]
        },
        {
          "output_type": "stream",
          "name": "stderr",
          "text": [
            "\n"
          ]
        },
        {
          "output_type": "stream",
          "name": "stdout",
          "text": [
            "Plotting labels to runs/detect/train/labels.jpg... \n",
            "zero-size array to reduction operation maximum which has no identity\n",
            "\u001b[34m\u001b[1moptimizer:\u001b[0m 'optimizer=auto' found, ignoring 'lr0=0.01' and 'momentum=0.937' and determining best 'optimizer', 'lr0' and 'momentum' automatically... \n",
            "\u001b[34m\u001b[1moptimizer:\u001b[0m AdamW(lr=0.001667, momentum=0.9) with parameter groups 69 weight(decay=0.0), 76 weight(decay=0.0005), 75 bias(decay=0.0)\n",
            "\u001b[34m\u001b[1mTensorBoard: \u001b[0mmodel graph visualization added ✅\n",
            "Image sizes 320 train, 320 val\n",
            "Using 2 dataloader workers\n",
            "Logging results to \u001b[1mruns/detect/train\u001b[0m\n",
            "Starting training for 10 epochs...\n",
            "Closing dataloader mosaic\n",
            "\u001b[34m\u001b[1malbumentations: \u001b[0mBlur(p=0.01, blur_limit=(3, 7)), MedianBlur(p=0.01, blur_limit=(3, 7)), ToGray(p=0.01, num_output_channels=3, method='weighted_average'), CLAHE(p=0.01, clip_limit=(1.0, 4.0), tile_grid_size=(8, 8))\n",
            "\n",
            "      Epoch    GPU_mem   box_loss   cls_loss   dfl_loss  Instances       Size\n"
          ]
        },
        {
          "output_type": "stream",
          "name": "stderr",
          "text": [
            "       1/10     0.589G          0      27.33          0          0        320: 100%|██████████| 11/11 [00:03<00:00,  3.65it/s]\n",
            "                 Class     Images  Instances      Box(P          R      mAP50  mAP50-95): 100%|██████████| 1/1 [00:00<00:00,  6.06it/s]"
          ]
        },
        {
          "output_type": "stream",
          "name": "stdout",
          "text": [
            "                   all         21          0          0          0          0          0\n",
            "WARNING ⚠️ no labels found in detect set, can not compute metrics without labels\n"
          ]
        },
        {
          "output_type": "stream",
          "name": "stderr",
          "text": [
            "\n"
          ]
        },
        {
          "output_type": "stream",
          "name": "stdout",
          "text": [
            "\n",
            "      Epoch    GPU_mem   box_loss   cls_loss   dfl_loss  Instances       Size\n"
          ]
        },
        {
          "output_type": "stream",
          "name": "stderr",
          "text": [
            "       2/10     0.579G          0      25.45          0          0        320: 100%|██████████| 11/11 [00:01<00:00,  8.62it/s]\n",
            "                 Class     Images  Instances      Box(P          R      mAP50  mAP50-95): 100%|██████████| 1/1 [00:00<00:00, 14.97it/s]"
          ]
        },
        {
          "output_type": "stream",
          "name": "stdout",
          "text": [
            "                   all         21          0          0          0          0          0\n",
            "WARNING ⚠️ no labels found in detect set, can not compute metrics without labels\n"
          ]
        },
        {
          "output_type": "stream",
          "name": "stderr",
          "text": [
            "\n"
          ]
        },
        {
          "output_type": "stream",
          "name": "stdout",
          "text": [
            "\n",
            "      Epoch    GPU_mem   box_loss   cls_loss   dfl_loss  Instances       Size\n"
          ]
        },
        {
          "output_type": "stream",
          "name": "stderr",
          "text": [
            "       3/10     0.573G          0      23.59          0          0        320: 100%|██████████| 11/11 [00:01<00:00,  9.84it/s]\n",
            "                 Class     Images  Instances      Box(P          R      mAP50  mAP50-95): 100%|██████████| 1/1 [00:00<00:00, 14.59it/s]"
          ]
        },
        {
          "output_type": "stream",
          "name": "stdout",
          "text": [
            "                   all         21          0          0          0          0          0\n",
            "WARNING ⚠️ no labels found in detect set, can not compute metrics without labels\n"
          ]
        },
        {
          "output_type": "stream",
          "name": "stderr",
          "text": [
            "\n"
          ]
        },
        {
          "output_type": "stream",
          "name": "stdout",
          "text": [
            "\n",
            "      Epoch    GPU_mem   box_loss   cls_loss   dfl_loss  Instances       Size\n"
          ]
        },
        {
          "output_type": "stream",
          "name": "stderr",
          "text": [
            "       4/10     0.585G          0      21.65          0          0        320: 100%|██████████| 11/11 [00:01<00:00,  9.55it/s]\n",
            "                 Class     Images  Instances      Box(P          R      mAP50  mAP50-95): 100%|██████████| 1/1 [00:00<00:00, 14.65it/s]"
          ]
        },
        {
          "output_type": "stream",
          "name": "stdout",
          "text": [
            "                   all         21          0          0          0          0          0\n",
            "WARNING ⚠️ no labels found in detect set, can not compute metrics without labels\n"
          ]
        },
        {
          "output_type": "stream",
          "name": "stderr",
          "text": [
            "\n"
          ]
        },
        {
          "output_type": "stream",
          "name": "stdout",
          "text": [
            "\n",
            "      Epoch    GPU_mem   box_loss   cls_loss   dfl_loss  Instances       Size\n"
          ]
        },
        {
          "output_type": "stream",
          "name": "stderr",
          "text": [
            "       5/10     0.579G          0      20.25          0          0        320: 100%|██████████| 11/11 [00:01<00:00,  7.89it/s]\n",
            "                 Class     Images  Instances      Box(P          R      mAP50  mAP50-95): 100%|██████████| 1/1 [00:00<00:00,  9.37it/s]"
          ]
        },
        {
          "output_type": "stream",
          "name": "stdout",
          "text": [
            "                   all         21          0          0          0          0          0\n",
            "WARNING ⚠️ no labels found in detect set, can not compute metrics without labels\n"
          ]
        },
        {
          "output_type": "stream",
          "name": "stderr",
          "text": [
            "\n"
          ]
        },
        {
          "output_type": "stream",
          "name": "stdout",
          "text": [
            "\n",
            "      Epoch    GPU_mem   box_loss   cls_loss   dfl_loss  Instances       Size\n"
          ]
        },
        {
          "output_type": "stream",
          "name": "stderr",
          "text": [
            "       6/10     0.581G          0      19.32          0          0        320: 100%|██████████| 11/11 [00:01<00:00,  6.24it/s]\n",
            "                 Class     Images  Instances      Box(P          R      mAP50  mAP50-95): 100%|██████████| 1/1 [00:00<00:00, 11.57it/s]"
          ]
        },
        {
          "output_type": "stream",
          "name": "stdout",
          "text": [
            "                   all         21          0          0          0          0          0\n",
            "WARNING ⚠️ no labels found in detect set, can not compute metrics without labels\n"
          ]
        },
        {
          "output_type": "stream",
          "name": "stderr",
          "text": [
            "\n"
          ]
        },
        {
          "output_type": "stream",
          "name": "stdout",
          "text": [
            "\n",
            "      Epoch    GPU_mem   box_loss   cls_loss   dfl_loss  Instances       Size\n"
          ]
        },
        {
          "output_type": "stream",
          "name": "stderr",
          "text": [
            "       7/10     0.585G          0      18.61          0          0        320: 100%|██████████| 11/11 [00:01<00:00,  5.87it/s]\n",
            "                 Class     Images  Instances      Box(P          R      mAP50  mAP50-95): 100%|██████████| 1/1 [00:00<00:00, 11.29it/s]"
          ]
        },
        {
          "output_type": "stream",
          "name": "stdout",
          "text": [
            "                   all         21          0          0          0          0          0\n",
            "WARNING ⚠️ no labels found in detect set, can not compute metrics without labels\n"
          ]
        },
        {
          "output_type": "stream",
          "name": "stderr",
          "text": [
            "\n"
          ]
        },
        {
          "output_type": "stream",
          "name": "stdout",
          "text": [
            "\n",
            "      Epoch    GPU_mem   box_loss   cls_loss   dfl_loss  Instances       Size\n"
          ]
        },
        {
          "output_type": "stream",
          "name": "stderr",
          "text": [
            "       8/10     0.585G          0      18.07          0          0        320: 100%|██████████| 11/11 [00:01<00:00, 10.00it/s]\n",
            "                 Class     Images  Instances      Box(P          R      mAP50  mAP50-95): 100%|██████████| 1/1 [00:00<00:00, 14.58it/s]"
          ]
        },
        {
          "output_type": "stream",
          "name": "stdout",
          "text": [
            "                   all         21          0          0          0          0          0\n",
            "WARNING ⚠️ no labels found in detect set, can not compute metrics without labels\n"
          ]
        },
        {
          "output_type": "stream",
          "name": "stderr",
          "text": [
            "\n"
          ]
        },
        {
          "output_type": "stream",
          "name": "stdout",
          "text": [
            "\n",
            "      Epoch    GPU_mem   box_loss   cls_loss   dfl_loss  Instances       Size\n"
          ]
        },
        {
          "output_type": "stream",
          "name": "stderr",
          "text": [
            "       9/10     0.585G          0      17.64          0          0        320: 100%|██████████| 11/11 [00:01<00:00, 10.37it/s]\n",
            "                 Class     Images  Instances      Box(P          R      mAP50  mAP50-95): 100%|██████████| 1/1 [00:00<00:00, 14.50it/s]"
          ]
        },
        {
          "output_type": "stream",
          "name": "stdout",
          "text": [
            "                   all         21          0          0          0          0          0\n",
            "WARNING ⚠️ no labels found in detect set, can not compute metrics without labels\n"
          ]
        },
        {
          "output_type": "stream",
          "name": "stderr",
          "text": [
            "\n"
          ]
        },
        {
          "output_type": "stream",
          "name": "stdout",
          "text": [
            "\n",
            "      Epoch    GPU_mem   box_loss   cls_loss   dfl_loss  Instances       Size\n"
          ]
        },
        {
          "output_type": "stream",
          "name": "stderr",
          "text": [
            "      10/10     0.585G          0      17.43          0          0        320: 100%|██████████| 11/11 [00:01<00:00, 10.44it/s]\n",
            "                 Class     Images  Instances      Box(P          R      mAP50  mAP50-95): 100%|██████████| 1/1 [00:00<00:00, 12.06it/s]"
          ]
        },
        {
          "output_type": "stream",
          "name": "stdout",
          "text": [
            "                   all         21          0          0          0          0          0\n"
          ]
        },
        {
          "output_type": "stream",
          "name": "stderr",
          "text": [
            "\n"
          ]
        },
        {
          "output_type": "stream",
          "name": "stdout",
          "text": [
            "WARNING ⚠️ no labels found in detect set, can not compute metrics without labels\n",
            "\n",
            "10 epochs completed in 0.009 hours.\n",
            "Optimizer stripped from runs/detect/train/weights/last.pt, 5.2MB\n",
            "Optimizer stripped from runs/detect/train/weights/best.pt, 5.2MB\n",
            "\n",
            "Validating runs/detect/train/weights/best.pt...\n",
            "Ultralytics 8.3.59 🚀 Python-3.10.12 torch-2.5.1+cu121 CUDA:0 (Tesla T4, 15102MiB)\n",
            "YOLOv5n summary (fused): 193 layers, 2,503,334 parameters, 0 gradients, 7.1 GFLOPs\n"
          ]
        },
        {
          "output_type": "stream",
          "name": "stderr",
          "text": [
            "                 Class     Images  Instances      Box(P          R      mAP50  mAP50-95): 100%|██████████| 1/1 [00:00<00:00, 15.08it/s]"
          ]
        },
        {
          "output_type": "stream",
          "name": "stdout",
          "text": [
            "                   all         21          0          0          0          0          0\n",
            "WARNING ⚠️ no labels found in detect set, can not compute metrics without labels\n"
          ]
        },
        {
          "output_type": "stream",
          "name": "stderr",
          "text": [
            "\n"
          ]
        },
        {
          "output_type": "stream",
          "name": "stdout",
          "text": [
            "Speed: 0.1ms preprocess, 0.7ms inference, 0.0ms loss, 1.1ms postprocess per image\n",
            "Results saved to \u001b[1mruns/detect/train\u001b[0m\n",
            "Ultralytics 8.3.59 🚀 Python-3.10.12 torch-2.5.1+cu121 CUDA:0 (Tesla T4, 15102MiB)\n",
            "YOLOv5n summary (fused): 193 layers, 2,503,334 parameters, 0 gradients, 7.1 GFLOPs\n"
          ]
        },
        {
          "output_type": "stream",
          "name": "stderr",
          "text": [
            "\u001b[34m\u001b[1mval: \u001b[0mScanning /content/sample_data/caltech101/101_ObjectCategories/cougar_body.cache... 0 images, 21 backgrounds, 0 corrupt: 100%|██████████| 21/21 [00:00<?, ?it/s]"
          ]
        },
        {
          "output_type": "stream",
          "name": "stdout",
          "text": [
            "WARNING ⚠️ No labels found in /content/sample_data/caltech101/101_ObjectCategories/cougar_body.cache, training may not work correctly. See https://docs.ultralytics.com/datasets for dataset formatting guidance.\n"
          ]
        },
        {
          "output_type": "stream",
          "name": "stderr",
          "text": [
            "\n",
            "                 Class     Images  Instances      Box(P          R      mAP50  mAP50-95): 100%|██████████| 2/2 [00:00<00:00,  5.55it/s]"
          ]
        },
        {
          "output_type": "stream",
          "name": "stdout",
          "text": [
            "                   all         21          0          0          0          0          0\n",
            "WARNING ⚠️ no labels found in detect set, can not compute metrics without labels\n"
          ]
        },
        {
          "output_type": "stream",
          "name": "stderr",
          "text": [
            "\n"
          ]
        },
        {
          "output_type": "stream",
          "name": "stdout",
          "text": [
            "Speed: 0.2ms preprocess, 13.0ms inference, 0.0ms loss, 0.9ms postprocess per image\n",
            "Results saved to \u001b[1mruns/detect/train2\u001b[0m\n",
            "\n",
            "image 1/1 /content/sample_data/caltech101/101_ObjectCategories/windsor_chair/image_0052.jpg: 320x320 (no detections), 9.2ms\n",
            "Speed: 1.4ms preprocess, 9.2ms inference, 0.8ms postprocess per image at shape (1, 3, 320, 320)\n"
          ]
        },
        {
          "output_type": "display_data",
          "data": {
            "text/plain": [
              "<PIL.Image.Image image mode=RGB size=286x300>"
            ],
            "image/png": "[encoded data removed]",
            "image/jpeg": "[encoded data removed]"
          },
          "metadata": {}
        },
        {
          "output_type": "stream",
          "name": "stdout",
          "text": [
            "Ultralytics 8.3.59 🚀 Python-3.10.12 torch-2.5.1+cu121 CPU (Intel Xeon 2.20GHz)\n",
            "\n",
            "\u001b[34m\u001b[1mPyTorch:\u001b[0m starting from 'runs/detect/train/weights/best.pt' with input shape (1, 3, 320, 320) BCHW and output shape(s) (1, 6, 2100) (5.0 MB)\n",
            "\u001b[31m\u001b[1mrequirements:\u001b[0m Ultralytics requirements ['onnx>=1.12.0', 'onnxslim', 'onnxruntime-gpu'] not found, attempting AutoUpdate...\n",
            "Collecting onnx>=1.12.0\n",
            "  Downloading onnx-1.17.0-cp310-cp310-manylinux_2_17_x86_64.manylinux2014_x86_64.whl.metadata (16 kB)\n",
            "Collecting onnxslim\n",
            "  Downloading onnxslim-0.1.47-py3-none-any.whl.metadata (4.4 kB)\n",
            "Collecting onnxruntime-gpu\n",
            "  Downloading onnxruntime_gpu-1.20.1-cp310-cp310-manylinux_2_27_x86_64.manylinux_2_28_x86_64.whl.metadata (4.5 kB)\n",
            "Requirement already satisfied: numpy>=1.20 in /usr/local/lib/python3.10/dist-packages (from onnx>=1.12.0) (1.26.4)\n",
            "Requirement already satisfied: protobuf>=3.20.2 in /usr/local/lib/python3.10/dist-packages (from onnx>=1.12.0) (4.25.5)\n",
            "Requirement already satisfied: sympy in /usr/local/lib/python3.10/dist-packages (from onnxslim) (1.13.1)\n",
            "Requirement already satisfied: packaging in /usr/local/lib/python3.10/dist-packages (from onnxslim) (24.2)\n",
            "Collecting coloredlogs (from onnxruntime-gpu)\n",
            "  Downloading coloredlogs-15.0.1-py2.py3-none-any.whl.metadata (12 kB)\n",
            "Requirement already satisfied: flatbuffers in /usr/local/lib/python3.10/dist-packages (from onnxruntime-gpu) (24.12.23)\n",
            "Collecting humanfriendly>=9.1 (from coloredlogs->onnxruntime-gpu)\n",
            "  Downloading humanfriendly-10.0-py2.py3-none-any.whl.metadata (9.2 kB)\n",
            "Requirement already satisfied: mpmath<1.4,>=1.1.0 in /usr/local/lib/python3.10/dist-packages (from sympy->onnxslim) (1.3.0)\n",
            "Downloading onnx-1.17.0-cp310-cp310-manylinux_2_17_x86_64.manylinux2014_x86_64.whl (16.0 MB)\n",
            "   ━━━━━━━━━━━━━━━━━━━━━━━━━━━━━━━━━━━━━━━━ 16.0/16.0 MB 194.2 MB/s eta 0:00:00\n",
            "Downloading onnxslim-0.1.47-py3-none-any.whl (142 kB)\n",
            "   ━━━━━━━━━━━━━━━━━━━━━━━━━━━━━━━━━━━━━━━━ 142.8/142.8 kB 209.5 MB/s eta 0:00:00\n",
            "Downloading onnxruntime_gpu-1.20.1-cp310-cp310-manylinux_2_27_x86_64.manylinux_2_28_x86_64.whl (291.5 MB)\n",
            "   ━━━━━━━━━━━━━━━━━━━━━━━━━━━━━━━━━━━━━━━━ 291.5/291.5 MB 301.1 MB/s eta 0:00:00\n",
            "Downloading coloredlogs-15.0.1-py2.py3-none-any.whl (46 kB)\n",
            "   ━━━━━━━━━━━━━━━━━━━━━━━━━━━━━━━━━━━━━━━━ 46.0/46.0 kB 255.8 MB/s eta 0:00:00\n",
            "Downloading humanfriendly-10.0-py2.py3-none-any.whl (86 kB)\n",
            "   ━━━━━━━━━━━━━━━━━━━━━━━━━━━━━━━━━━━━━━━━ 86.8/86.8 kB 306.1 MB/s eta 0:00:00\n",
            "Installing collected packages: onnx, humanfriendly, onnxslim, coloredlogs, onnxruntime-gpu\n",
            "Successfully installed coloredlogs-15.0.1 humanfriendly-10.0 onnx-1.17.0 onnxruntime-gpu-1.20.1 onnxslim-0.1.47\n",
            "\n",
            "\u001b[31m\u001b[1mrequirements:\u001b[0m AutoUpdate success ✅ 22.6s, installed 3 packages: ['onnx>=1.12.0', 'onnxslim', 'onnxruntime-gpu']\n",
            "\u001b[31m\u001b[1mrequirements:\u001b[0m ⚠️ \u001b[1mRestart runtime or rerun command for updates to take effect\u001b[0m\n",
            "\n",
            "\n",
            "\u001b[34m\u001b[1mONNX:\u001b[0m starting export with onnx 1.17.0 opset 19...\n",
            "\u001b[34m\u001b[1mONNX:\u001b[0m slimming with onnxslim 0.1.47...\n",
            "\u001b[34m\u001b[1mONNX:\u001b[0m export success ✅ 23.7s, saved as 'runs/detect/train/weights/best.onnx' (9.7 MB)\n",
            "\n",
            "Export complete (25.2s)\n",
            "Results saved to \u001b[1m/content/runs/detect/train/weights\u001b[0m\n",
            "Predict:         yolo predict task=detect model=runs/detect/train/weights/best.onnx imgsz=320  \n",
            "Validate:        yolo val task=detect model=runs/detect/train/weights/best.onnx imgsz=320 data=/content/data.yaml  \n",
            "Visualize:       https://netron.app\n"
          ]
        }
      ]
    }
  ]
}