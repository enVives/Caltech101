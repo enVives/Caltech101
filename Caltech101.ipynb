{
  "nbformat": 4,
  "nbformat_minor": 0,
  "metadata": {
    "colab": {
      "provenance": [],
      "gpuType": "T4",
      "authorship_tag": "ABX9TyOIHpPdchkPXzHpNpSDfHik",
      "include_colab_link": true
    },
    "kernelspec": {
      "name": "python3",
      "display_name": "Python 3"
    },
    "language_info": {
      "name": "python"
    },
    "accelerator": "GPU"
  },
  "cells": [
    {
      "cell_type": "markdown",
      "metadata": {
        "id": "view-in-github",
        "colab_type": "text"
      },
      "source": [
        "<a href=\"https://colab.research.google.com/github/enVives/Caltech101/blob/main/Caltech101.ipynb\" target=\"_parent\"><img src=\"https://colab.research.google.com/assets/colab-badge.svg\" alt=\"Open In Colab\"/></a>"
      ]
    },
    {
      "cell_type": "code",
      "execution_count": 1,
      "metadata": {
        "id": "TRqBiAE19FY4",
        "colab": {
          "base_uri": "https://localhost:8080/",
          "height": 954
        },
        "outputId": "b1892ace-d1d3-4cea-c2b6-88dfabbfa5c8"
      },
      "outputs": [
        {
          "output_type": "stream",
          "name": "stdout",
          "text": [
            "Collecting ultralytics\n",
            "  Downloading ultralytics-8.3.59-py3-none-any.whl.metadata (35 kB)\n",
            "Requirement already satisfied: numpy>=1.23.0 in /usr/local/lib/python3.10/dist-packages (from ultralytics) (1.26.4)\n",
            "Requirement already satisfied: matplotlib>=3.3.0 in /usr/local/lib/python3.10/dist-packages (from ultralytics) (3.10.0)\n",
            "Requirement already satisfied: opencv-python>=4.6.0 in /usr/local/lib/python3.10/dist-packages (from ultralytics) (4.10.0.84)\n",
            "Requirement already satisfied: pillow>=7.1.2 in /usr/local/lib/python3.10/dist-packages (from ultralytics) (11.1.0)\n",
            "Requirement already satisfied: pyyaml>=5.3.1 in /usr/local/lib/python3.10/dist-packages (from ultralytics) (6.0.2)\n",
            "Requirement already satisfied: requests>=2.23.0 in /usr/local/lib/python3.10/dist-packages (from ultralytics) (2.32.3)\n",
            "Requirement already satisfied: scipy>=1.4.1 in /usr/local/lib/python3.10/dist-packages (from ultralytics) (1.13.1)\n",
            "Requirement already satisfied: torch>=1.8.0 in /usr/local/lib/python3.10/dist-packages (from ultralytics) (2.5.1+cu121)\n",
            "Requirement already satisfied: torchvision>=0.9.0 in /usr/local/lib/python3.10/dist-packages (from ultralytics) (0.20.1+cu121)\n",
            "Requirement already satisfied: tqdm>=4.64.0 in /usr/local/lib/python3.10/dist-packages (from ultralytics) (4.67.1)\n",
            "Requirement already satisfied: psutil in /usr/local/lib/python3.10/dist-packages (from ultralytics) (5.9.5)\n",
            "Requirement already satisfied: py-cpuinfo in /usr/local/lib/python3.10/dist-packages (from ultralytics) (9.0.0)\n",
            "Requirement already satisfied: pandas>=1.1.4 in /usr/local/lib/python3.10/dist-packages (from ultralytics) (2.2.2)\n",
            "Requirement already satisfied: seaborn>=0.11.0 in /usr/local/lib/python3.10/dist-packages (from ultralytics) (0.13.2)\n",
            "Collecting ultralytics-thop>=2.0.0 (from ultralytics)\n",
            "  Downloading ultralytics_thop-2.0.13-py3-none-any.whl.metadata (9.4 kB)\n",
            "Requirement already satisfied: contourpy>=1.0.1 in /usr/local/lib/python3.10/dist-packages (from matplotlib>=3.3.0->ultralytics) (1.3.1)\n",
            "Requirement already satisfied: cycler>=0.10 in /usr/local/lib/python3.10/dist-packages (from matplotlib>=3.3.0->ultralytics) (0.12.1)\n",
            "Requirement already satisfied: fonttools>=4.22.0 in /usr/local/lib/python3.10/dist-packages (from matplotlib>=3.3.0->ultralytics) (4.55.3)\n",
            "Requirement already satisfied: kiwisolver>=1.3.1 in /usr/local/lib/python3.10/dist-packages (from matplotlib>=3.3.0->ultralytics) (1.4.8)\n",
            "Requirement already satisfied: packaging>=20.0 in /usr/local/lib/python3.10/dist-packages (from matplotlib>=3.3.0->ultralytics) (24.2)\n",
            "Requirement already satisfied: pyparsing>=2.3.1 in /usr/local/lib/python3.10/dist-packages (from matplotlib>=3.3.0->ultralytics) (3.2.1)\n",
            "Requirement already satisfied: python-dateutil>=2.7 in /usr/local/lib/python3.10/dist-packages (from matplotlib>=3.3.0->ultralytics) (2.8.2)\n",
            "Requirement already satisfied: pytz>=2020.1 in /usr/local/lib/python3.10/dist-packages (from pandas>=1.1.4->ultralytics) (2024.2)\n",
            "Requirement already satisfied: tzdata>=2022.7 in /usr/local/lib/python3.10/dist-packages (from pandas>=1.1.4->ultralytics) (2024.2)\n",
            "Requirement already satisfied: charset-normalizer<4,>=2 in /usr/local/lib/python3.10/dist-packages (from requests>=2.23.0->ultralytics) (3.4.1)\n",
            "Requirement already satisfied: idna<4,>=2.5 in /usr/local/lib/python3.10/dist-packages (from requests>=2.23.0->ultralytics) (3.10)\n",
            "Requirement already satisfied: urllib3<3,>=1.21.1 in /usr/local/lib/python3.10/dist-packages (from requests>=2.23.0->ultralytics) (2.3.0)\n",
            "Requirement already satisfied: certifi>=2017.4.17 in /usr/local/lib/python3.10/dist-packages (from requests>=2.23.0->ultralytics) (2024.12.14)\n",
            "Requirement already satisfied: filelock in /usr/local/lib/python3.10/dist-packages (from torch>=1.8.0->ultralytics) (3.16.1)\n",
            "Requirement already satisfied: typing-extensions>=4.8.0 in /usr/local/lib/python3.10/dist-packages (from torch>=1.8.0->ultralytics) (4.12.2)\n",
            "Requirement already satisfied: networkx in /usr/local/lib/python3.10/dist-packages (from torch>=1.8.0->ultralytics) (3.4.2)\n",
            "Requirement already satisfied: jinja2 in /usr/local/lib/python3.10/dist-packages (from torch>=1.8.0->ultralytics) (3.1.5)\n",
            "Requirement already satisfied: fsspec in /usr/local/lib/python3.10/dist-packages (from torch>=1.8.0->ultralytics) (2024.10.0)\n",
            "Requirement already satisfied: sympy==1.13.1 in /usr/local/lib/python3.10/dist-packages (from torch>=1.8.0->ultralytics) (1.13.1)\n",
            "Requirement already satisfied: mpmath<1.4,>=1.1.0 in /usr/local/lib/python3.10/dist-packages (from sympy==1.13.1->torch>=1.8.0->ultralytics) (1.3.0)\n",
            "Requirement already satisfied: six>=1.5 in /usr/local/lib/python3.10/dist-packages (from python-dateutil>=2.7->matplotlib>=3.3.0->ultralytics) (1.17.0)\n",
            "Requirement already satisfied: MarkupSafe>=2.0 in /usr/local/lib/python3.10/dist-packages (from jinja2->torch>=1.8.0->ultralytics) (3.0.2)\n",
            "Downloading ultralytics-8.3.59-py3-none-any.whl (906 kB)\n",
            "\u001b[2K   \u001b[90m━━━━━━━━━━━━━━━━━━━━━━━━━━━━━━━━━━━━━━━━\u001b[0m \u001b[32m906.8/906.8 kB\u001b[0m \u001b[31m23.9 MB/s\u001b[0m eta \u001b[36m0:00:00\u001b[0m\n",
            "\u001b[?25hDownloading ultralytics_thop-2.0.13-py3-none-any.whl (26 kB)\n",
            "Installing collected packages: ultralytics-thop, ultralytics\n",
            "Successfully installed ultralytics-8.3.59 ultralytics-thop-2.0.13\n",
            "Creating new Ultralytics Settings v0.0.6 file ✅ \n",
            "View Ultralytics Settings with 'yolo settings' or at '/root/.config/Ultralytics/settings.json'\n",
            "Update Settings with 'yolo settings key=value', i.e. 'yolo settings runs_dir=path/to/dir'. For help see https://docs.ultralytics.com/quickstart/#ultralytics-settings.\n"
          ]
        },
        {
          "output_type": "stream",
          "name": "stderr",
          "text": [
            "\u001b[34m\u001b[1mwandb\u001b[0m: Using wandb-core as the SDK backend.  Please refer to https://wandb.me/wandb-core for more information.\n"
          ]
        },
        {
          "output_type": "display_data",
          "data": {
            "text/plain": [
              "<IPython.core.display.Javascript object>"
            ],
            "application/javascript": [
              "\n",
              "        window._wandbApiKey = new Promise((resolve, reject) => {\n",
              "            function loadScript(url) {\n",
              "            return new Promise(function(resolve, reject) {\n",
              "                let newScript = document.createElement(\"script\");\n",
              "                newScript.onerror = reject;\n",
              "                newScript.onload = resolve;\n",
              "                document.body.appendChild(newScript);\n",
              "                newScript.src = url;\n",
              "            });\n",
              "            }\n",
              "            loadScript(\"https://cdn.jsdelivr.net/npm/postmate/build/postmate.min.js\").then(() => {\n",
              "            const iframe = document.createElement('iframe')\n",
              "            iframe.style.cssText = \"width:0;height:0;border:none\"\n",
              "            document.body.appendChild(iframe)\n",
              "            const handshake = new Postmate({\n",
              "                container: iframe,\n",
              "                url: 'https://wandb.ai/authorize'\n",
              "            });\n",
              "            const timeout = setTimeout(() => reject(\"Couldn't auto authenticate\"), 5000)\n",
              "            handshake.then(function(child) {\n",
              "                child.on('authorize', data => {\n",
              "                    clearTimeout(timeout)\n",
              "                    resolve(data)\n",
              "                });\n",
              "            });\n",
              "            })\n",
              "        });\n",
              "    "
            ]
          },
          "metadata": {}
        },
        {
          "output_type": "stream",
          "name": "stderr",
          "text": [
            "\u001b[34m\u001b[1mwandb\u001b[0m: Logging into wandb.ai. (Learn how to deploy a W&B server locally: https://wandb.me/wandb-server)\n",
            "\u001b[34m\u001b[1mwandb\u001b[0m: You can find your API key in your browser here: https://wandb.ai/authorize\n",
            "wandb: Paste an API key from your profile and hit enter, or press ctrl+c to quit:"
          ]
        },
        {
          "name": "stdout",
          "output_type": "stream",
          "text": [
            " ··········\n"
          ]
        },
        {
          "output_type": "stream",
          "name": "stderr",
          "text": [
            "\u001b[34m\u001b[1mwandb\u001b[0m: Appending key for api.wandb.ai to your netrc file: /root/.netrc\n"
          ]
        }
      ],
      "source": [
        "from itertools import filterfalse\n",
        "from collections import OrderedDict\n",
        "!pip install ultralytics\n",
        "from ultralytics import YOLO\n",
        "import torch,torchvision\n",
        "import numpy as np\n",
        "import pandas as pd\n",
        "import math\n",
        "import cv2\n",
        "import time\n",
        "import os\n",
        "import wandb\n",
        "import shutil\n",
        "import pylab as pl\n",
        "import scipy.io\n",
        "import matplotlib.pyplot as plt\n",
        "\n",
        "\n",
        "from sklearn.metrics import accuracy_score,f1_score,precision_score,recall_score\n",
        "from tqdm.auto import tqdm\n",
        "from torchvision import transforms,models\n",
        "from torch import nn\n",
        "from IPython.display import clear_output,display\n",
        "from torch.utils.data import DataLoader, random_split,Subset,Dataset\n",
        "from google.colab.patches import cv2_imshow\n",
        "from PIL import Image\n",
        "from sklearn.preprocessing import LabelEncoder\n",
        "from glob import glob\n",
        "\n",
        "ROOT = './sample_data/'\n",
        "CLASS_A = 'cougar_body'\n",
        "CLASS_B = 'windsor_chair'\n",
        "\n",
        "DOWNLOAD = True\n",
        "DUPLICAR_DADES = True\n",
        "wandb.login()\n",
        "#471be466c8949671a46c67e7aad0d5a0ac8c9dad\n",
        "!rm -rf /content/sample_data/*\n",
        "\n",
        "\n",
        "# !rm -rf /content/dataset/images/*\n",
        "# !rm -rf /content/dataset/labels/*/*\n",
        "# torch.cuda.default_stream(torch.device('cuda'))"
      ]
    },
    {
      "cell_type": "code",
      "source": [
        "def find_mean_std(dataset):\n",
        "  dataloader = DataLoader(dataset,batch_size = 1,shuffle=FALSE)\n",
        "  mean = torch.zeros(3)\n",
        "  std = torch.zeros(3)\n",
        "  samples = 0\n",
        "\n",
        "  for image,_ in dataloader:\n",
        "    mean += image.mean(dim=[0, 2, 3])  # Mean for each channel [batchsize,channels,height,width]\n",
        "    std += image.std(dim=[0, 2, 3])    # Std for each channel\n",
        "    samples += 1\n",
        "\n",
        "  mean /= samples\n",
        "  std /= samples\n",
        "\n",
        "  print(mean)\n",
        "  print(std)"
      ],
      "metadata": {
        "id": "4JYb0AOJbCdC"
      },
      "execution_count": 2,
      "outputs": []
    },
    {
      "cell_type": "code",
      "source": [
        "from pickle import NONE\n",
        "\n",
        "class Formes(Dataset):\n",
        "    def __init__(self, paths, labels= None, transforms = None,annotations = None,transform_mask = None):\n",
        "        self.images = paths\n",
        "        self.labels = labels\n",
        "        self.transforms = transforms\n",
        "        self.annotations = annotations\n",
        "        self.transforms_mask = transform_mask\n",
        "\n",
        "    def __len__(self):\n",
        "        return len(self.labels)\n",
        "\n",
        "    def __setmodel__(self,model):\n",
        "        self.model = model\n",
        "\n",
        "    def __getdist__(self):\n",
        "      return pd.Series(self.labels).value_counts()\n",
        "\n",
        "    def __showcontours__(self,index):\n",
        "      path = self.images[index]\n",
        "      image = cv2.imread(path, cv2.IMREAD_COLOR)\n",
        "      image = Image.fromarray(cv2.cvtColor(image, cv2.COLOR_BGR2RGB))\n",
        "\n",
        "      plt.imshow(image)\n",
        "\n",
        "      mat_data = scipy.io.loadmat(self.annotations[index])\n",
        "        #print(\"Keys in MAT file:\", polygons_data.keys())\n",
        "\n",
        "      polygons_data = mat_data['obj_contour']\n",
        "\n",
        "      x_points = polygons_data[0]\n",
        "      y_points = polygons_data[1]\n",
        "\n",
        "      contour_points = np.array(list(zip(x_points,y_points)))\n",
        "\n",
        "      plt.plot(contour_points[:, 0], contour_points[:, 1], '-r')  # Red contour line\n",
        "      plt.scatter(contour_points[:, 0], contour_points[:, 1], c='blue')  # Optional: Mark contour points\n",
        "      plt.show()\n",
        "\n",
        "    def __getpureimage__(self,index):\n",
        "      path = self.images[index]\n",
        "      image = cv2.imread(path, cv2.IMREAD_COLOR)\n",
        "      image = Image.fromarray(cv2.cvtColor(image, cv2.COLOR_BGR2RGB))\n",
        "      return image\n",
        "\n",
        "    def __getitem__(self, index):\n",
        "      path = self.images[index]\n",
        "      label = self.labels[index]\n",
        "\n",
        "      seed = torch.random.seed()  # Create a unique seed for random operations\n",
        "\n",
        "      if self.annotations != None:\n",
        "        mat_data = scipy.io.loadmat(self.annotations[index])\n",
        "\n",
        "\n",
        "        polygons_data = mat_data['obj_contour']\n",
        "        boundingbox_data = mat_data['box_coord']\n",
        "\n",
        "        # print(\"Keys in MAT file:\", mat_data.keys())\n",
        "\n",
        "        x_points = polygons_data[0]\n",
        "        y_points = polygons_data[1]\n",
        "\n",
        "        contour_points = list(zip(x_points,y_points))\n",
        "        contour = np.array(contour_points, dtype=np.int32)\n",
        "\n",
        "        #print(contour_points)\n",
        "\n",
        "\n",
        "      image = cv2.imread(path, cv2.IMREAD_COLOR)\n",
        "      image = Image.fromarray(cv2.cvtColor(image, cv2.COLOR_BGR2RGB))\n",
        "\n",
        "      if self.model == 3:\n",
        "        mask = np.zeros(image.size, dtype=np.uint8)\n",
        "        cv2.fillPoly(mask, [contour], color=255)  # White filled polygon\n",
        "        mask = Image.fromarray(mask)  # Convert NumPy array to PIL Image\n",
        "\n",
        "        torch.random.manual_seed(seed)  # Set seed for image\n",
        "        mask_resized = self.transforms_mask(mask)\n",
        "        mask_resized = (mask_resized > 0.5).float()\n",
        "\n",
        "        torch.random.manual_seed(seed)  # Set seed for image\n",
        "        image = self.transforms(image)\n",
        "\n",
        "        return image, mask_resized\n",
        "\n",
        "      image = self.transforms(image)\n",
        "\n",
        "      return image, label"
      ],
      "metadata": {
        "id": "8imK0xLhEnm1"
      },
      "execution_count": 3,
      "outputs": []
    },
    {
      "cell_type": "code",
      "source": [
        "def get_labels(sett):\n",
        "  labels = np.array([])\n",
        "  frequency = np.zeros(101)\n",
        "  for _,label in sett:\n",
        "    labels = np.append(labels,label)\n",
        "    frequency[label] += 1\n",
        "  return labels.astype(int),frequency"
      ],
      "metadata": {
        "id": "ifL4lRvNSHlm"
      },
      "execution_count": 4,
      "outputs": []
    },
    {
      "cell_type": "code",
      "source": [
        "def escriu_informacio_yolo(carpeta,nom_imatge,annotations,class_id,image_size):\n",
        "\n",
        "    label_file = os.path.join(carpeta, f\"{os.path.splitext(nom_imatge)[0]}.txt\")\n",
        "    with open(label_file, \"w\") as f:\n",
        "            y_min, y_max, x_min, x_max = annotations[0]\n",
        "\n",
        "            if x_max > image_size[0]:\n",
        "              x_max = image_size[0]\n",
        "            if y_max > image_size[1]:\n",
        "              y_max = image_size[1]\n",
        "\n",
        "            if image_size:\n",
        "                img_width, img_height = image_size\n",
        "                x_center = ((x_min + x_max) / 2) / img_width\n",
        "                y_center = ((y_min + y_max) / 2) / img_height\n",
        "                width = (x_max - x_min) / img_width\n",
        "                height = (y_max - y_min) / img_height\n",
        "            else:\n",
        "                x_center = (x_min + x_max) / 2\n",
        "                y_center = (y_min + y_max) / 2\n",
        "                width = x_max - x_min\n",
        "                height = y_max - y_min\n",
        "\n",
        "            # Escribe en el archivo\n",
        "            f.write(f\"{class_id} {x_center} {y_center} {width} {height}\\n\")"
      ],
      "metadata": {
        "id": "T-Xip5ijGPqX"
      },
      "execution_count": 5,
      "outputs": []
    },
    {
      "cell_type": "code",
      "source": [
        "from re import X\n",
        "#from pickle import FALSE\n",
        "from sklearn.model_selection import train_test_split\n",
        "\n",
        "TRAINING = 0.80\n",
        "VAL = 0.10\n",
        "TESTING = 0.10\n",
        "\n",
        "#[0.5459, 0.5288, 0.5022]\n",
        "#[0.2424, 0.2393, 0.2409]\n",
        "mean = torch.tensor([0.485,0.456,0.406])\n",
        "std = torch.tensor([0.229,0.224,0.225])\n",
        "\n",
        "transform = transforms.Compose([\n",
        "    transforms.Resize((224, 224)),\n",
        "    transforms.ToTensor(),\n",
        "    transforms.Normalize(mean=mean, std=std)\n",
        "])\n",
        "\n",
        "transform_masks = transforms.Compose([\n",
        "    transforms.Resize((224, 224)),\n",
        "    # transforms.RandomHorizontalFlip(p=0.1),\n",
        "    # transforms.RandomVerticalFlip(p=0.1),\n",
        "    transforms.RandomRotation(degrees=20),\n",
        "    transforms.ToTensor(),\n",
        "])\n",
        "\n",
        "\n",
        "transform2 = transforms.Compose([\n",
        "    #transforms.Lambda(lambda img: img.convert(\"RGB\") if img.mode != \"RGB\" else img),  # Ensure all images are RGB\n",
        "    transforms.Resize((224, 224)),\n",
        "    # transforms.RandomHorizontalFlip(p=0.1),\n",
        "    # transforms.RandomVerticalFlip(p=0.1),\n",
        "    transforms.RandomRotation(degrees=20),\n",
        "    transforms.ToTensor(),\n",
        "    transforms.Normalize(mean=mean, std=std)\n",
        "])\n",
        "\n",
        "dataset = torchvision.datasets.Caltech101(root= ROOT,download=DOWNLOAD,transform=transform)\n",
        "\n",
        "img_class_1 = sorted(glob('/content/sample_data/caltech101/101_ObjectCategories/cougar_body/*'))\n",
        "img_class_2 = sorted(glob('/content/sample_data/caltech101/101_ObjectCategories/windsor_chair/*'))\n",
        "\n",
        "img_annotations_class_1 = sorted(glob('/content/sample_data/caltech101/Annotations/cougar_body/*'))\n",
        "img_annotations_class_2 = sorted(glob('/content/sample_data/caltech101/Annotations/windsor_chair/*'))\n",
        "\n",
        "\n",
        "img_files = img_class_1 +  img_class_2\n",
        "img_annotations = img_annotations_class_1 + img_annotations_class_2\n",
        "\n",
        "if DUPLICAR_DADES:\n",
        "  img_files_duplicated = img_files + img_files  # Duplicate image paths\n",
        "  img_annotations_duplicated = img_annotations + img_annotations  # Duplicate annotation paths\n",
        "\n",
        "  img_files = img_files_duplicated\n",
        "  img_annotations = img_annotations_duplicated\n",
        "\n",
        "labels = []\n",
        "for img_path in img_files:\n",
        "  label = img_path.split(os.path.sep)[-2]\n",
        "  labels.append(label)\n",
        "\n",
        "lb = LabelEncoder()\n",
        "labels = lb.fit_transform(labels)\n",
        "\n",
        "weights = 1.0 / pd.Series(labels).value_counts()\n",
        "weights = weights / weights.sum()\n",
        "weights = torch.tensor(weights,dtype=torch.float32)\n",
        "\n",
        "\n",
        "X_train, X_test, y_train, y_test, annotations_train, annotations_test = train_test_split(\n",
        "    img_files, labels, img_annotations, test_size=TESTING, random_state=42, stratify=labels\n",
        ")\n",
        "\n",
        "# Split the training set further into training and validation sets\n",
        "X_train, X_val, y_train, y_val, annotations_train, annotations_val = train_test_split(\n",
        "    X_train, y_train, annotations_train, test_size=VAL/(TRAINING+VAL), random_state=42, stratify=y_train\n",
        ")\n",
        "\n",
        "training = Formes(X_train,y_train,transform2,annotations_train,transform_masks)\n",
        "testing = Formes(X_test,y_test,transform,annotations_test,transform_masks)\n",
        "validation = Formes(X_val,y_val,transform,annotations_val,transform_masks)\n",
        "\n",
        "if DOWNLOAD:\n",
        "\n",
        "  #Preparar informació per YOLO\n",
        "\n",
        "  carpeta_yolo = \"dataset\"\n",
        "\n",
        "  if not os.path.exists(carpeta_yolo):\n",
        "      os.mkdir(carpeta_yolo)\n",
        "\n",
        "  #cream l'estructura que utilitzarà yolo de ultralitics\n",
        "\n",
        "  directoris = [\"dataset/train/\",\"dataset/test/\",\"dataset/val/\",\"dataset/train/images/\",\"dataset/train/labels/\",\"dataset/val/images/\",\"dataset/val/labels/\",\"dataset/test/images/\",\"dataset/test/labels/\"]\n",
        "\n",
        "  for carpeta in directoris:\n",
        "    if not os.path.exists(carpeta):\n",
        "      os.mkdir(carpeta)\n",
        "\n",
        "  for elemento in X_train:\n",
        "    shutil.copy(elemento, \"/content/dataset/train/images\")\n",
        "\n",
        "  for elemento in X_val:\n",
        "    shutil.copy(elemento, \"/content/dataset/val/images\")\n",
        "\n",
        "  for elemento in X_test:\n",
        "    shutil.copy(elemento, \"/content/dataset/test/images\")\n",
        "\n",
        "  #ara a les carpetes de labels training, validation i testing hi afegirem la informació:\n",
        "  #class_id,x_center,y_center,width,height de cada imatge que es el que requereix YOLOv5\n",
        "\n",
        "  for i in range(len(X_train)):\n",
        "    mat_data = scipy.io.loadmat(annotations_train[i])\n",
        "    nom = X_train[i].split(\"/\")[-1]\n",
        "    label = y_train[i]\n",
        "    boundingbox_data = mat_data['box_coord']\n",
        "    width,height = Image.open(X_train[i]).size\n",
        "\n",
        "    escriu_informacio_yolo(\"dataset/train/labels/\",nom,boundingbox_data,label,(width,height))\n",
        "\n",
        "  for i in range(len(X_val)):\n",
        "    mat_data = scipy.io.loadmat(annotations_val[i])\n",
        "    nom = X_val[i].split(\"/\")[-1]\n",
        "    label = y_val[i]\n",
        "    boundingbox_data = mat_data['box_coord']\n",
        "    width,height = Image.open(X_val[i]).size\n",
        "\n",
        "    escriu_informacio_yolo(\"dataset/val/labels/\",nom,boundingbox_data,label,(width,height))\n",
        "\n",
        "  for i in range(len(X_test)):\n",
        "    mat_data = scipy.io.loadmat(annotations_test[i])\n",
        "    nom = X_test[i].split(\"/\")[-1]\n",
        "    label = y_test[i]\n",
        "    boundingbox_data = mat_data['box_coord']\n",
        "    width,height = Image.open(X_test[i]).size\n",
        "\n",
        "    escriu_informacio_yolo(\"dataset/test/labels/\",nom,boundingbox_data,label,(width,height))\n",
        "\n",
        "\n",
        "device = torch.device('cuda' if torch.cuda.is_available() else 'cpu')\n",
        "\n",
        "#training,validation,testing = random_split(dataset,[train_size,validation_size,len(dataset)-train_size-validation_size])"
      ],
      "metadata": {
        "id": "5e-PEAT6NDpO",
        "colab": {
          "base_uri": "https://localhost:8080/"
        },
        "outputId": "95c8c96e-075c-4012-d3e1-bf50753a22bc"
      },
      "execution_count": 6,
      "outputs": [
        {
          "output_type": "stream",
          "name": "stderr",
          "text": [
            "Downloading...\n",
            "From (original): https://drive.google.com/uc?id=137RyRjvTBkBiIfeYBNZBtViDHQ6_Ewsp\n",
            "From (redirected): https://drive.usercontent.google.com/download?id=137RyRjvTBkBiIfeYBNZBtViDHQ6_Ewsp&confirm=t&uuid=70de3af2-9b44-4cf7-afd7-8dd4046f9a79\n",
            "To: /content/sample_data/caltech101/101_ObjectCategories.tar.gz\n",
            "100%|██████████| 132M/132M [00:03<00:00, 39.6MB/s]\n"
          ]
        },
        {
          "output_type": "stream",
          "name": "stdout",
          "text": [
            "Extracting ./sample_data/caltech101/101_ObjectCategories.tar.gz to ./sample_data/caltech101\n"
          ]
        },
        {
          "output_type": "stream",
          "name": "stderr",
          "text": [
            "Downloading...\n",
            "From (original): https://drive.google.com/uc?id=175kQy3UsZ0wUEHZjqkUDdNVssr7bgh_m\n",
            "From (redirected): https://drive.usercontent.google.com/download?id=175kQy3UsZ0wUEHZjqkUDdNVssr7bgh_m&confirm=t&uuid=06c2cdd7-6a66-43b4-b172-b0fc752c0012\n",
            "To: /content/sample_data/caltech101/Annotations.tar\n",
            "100%|██████████| 14.0M/14.0M [00:00<00:00, 66.6MB/s]\n"
          ]
        },
        {
          "output_type": "stream",
          "name": "stdout",
          "text": [
            "Extracting ./sample_data/caltech101/Annotations.tar to ./sample_data/caltech101\n"
          ]
        },
        {
          "output_type": "stream",
          "name": "stderr",
          "text": [
            "<ipython-input-5-c822cab106b9>:14: RuntimeWarning: overflow encountered in scalar add\n",
            "  x_center = ((x_min + x_max) / 2) / img_width\n",
            "<ipython-input-5-c822cab106b9>:15: RuntimeWarning: overflow encountered in scalar add\n",
            "  y_center = ((y_min + y_max) / 2) / img_height\n"
          ]
        }
      ]
    },
    {
      "cell_type": "code",
      "source": [
        "print(f\"LONGITUD SET DE TRAINING: {training.__len__()}\")\n",
        "with open(\"training.txt\", \"w\") as file:\n",
        "    for item in training.__getdist__()/training.__len__():\n",
        "        file.write(f\"{item}\\n\")\n",
        "print(f\"LONGITUD SET DE VALIDATION: {validation.__len__()}\")\n",
        "with open(\"valid.txt\", \"w\") as file:\n",
        "    for item in validation.__getdist__()/validation.__len__():\n",
        "        file.write(f\"{item}\\n\")\n",
        "print(f\"LONGITUD SET DE TESTING: {testing.__len__()}\")"
      ],
      "metadata": {
        "id": "npbH2OEvRSVh",
        "colab": {
          "base_uri": "https://localhost:8080/"
        },
        "outputId": "86180fab-b201-49ca-9f36-e18575a7eb5e"
      },
      "execution_count": 7,
      "outputs": [
        {
          "output_type": "stream",
          "name": "stdout",
          "text": [
            "LONGITUD SET DE TRAINING: 164\n",
            "LONGITUD SET DE VALIDATION: 21\n",
            "LONGITUD SET DE TESTING: 21\n"
          ]
        }
      ]
    },
    {
      "cell_type": "markdown",
      "source": [
        "Ara ja sabem que hem de predir si una imatge pertany a les classes 25 o 99"
      ],
      "metadata": {
        "id": "riWfhpfjmgeW"
      }
    },
    {
      "cell_type": "code",
      "source": [
        "def veure_imatges(train_data,std,mean):\n",
        "  for i in range(len(train_data)):\n",
        "    imatge,label = train_data[i]\n",
        "\n",
        "    print(imatge.ndimension())\n",
        "    print(imatge.shape)\n",
        "\n",
        "    imatge = imatge * (std[:, None, None]*255) + (mean[:, None, None]*255)\n",
        "    # Convert the tensor back to a NumPy array\n",
        "    img_numpy = imatge.permute(1, 2, 0).numpy()  # Change from (C, H, W) to (H, W, C)\n",
        "    cv2_imshow(img_numpy)\n",
        "    time.sleep(5)\n",
        "    clear_output(wait=True)"
      ],
      "metadata": {
        "id": "q6rpD5v8EW8G"
      },
      "execution_count": 8,
      "outputs": []
    },
    {
      "cell_type": "code",
      "source": [
        "class UNet(nn.Module):\n",
        "\n",
        "    def __init__(self, in_channels=3, out_channels=1, init_features=32):\n",
        "        super(UNet, self).__init__()\n",
        "\n",
        "        features = init_features\n",
        "\n",
        "        ## CODER\n",
        "        self.encoder1 = UNet._block(in_channels, features, name=\"enc1\")\n",
        "        self.pool1 = nn.MaxPool2d(kernel_size=2, stride=2)\n",
        "        self.encoder2 = UNet._block(features, features * 2, name=\"enc2\")\n",
        "        self.pool2 = nn.MaxPool2d(kernel_size=2, stride=2)\n",
        "        self.encoder3 = UNet._block(features * 2, features * 4, name=\"enc3\")\n",
        "        self.pool3 = nn.MaxPool2d(kernel_size=2, stride=2)\n",
        "        self.encoder4 = UNet._block(features * 4, features * 8, name=\"enc4\")\n",
        "        self.pool4 = nn.MaxPool2d(kernel_size=2, stride=2)\n",
        "\n",
        "        self.bottleneck = UNet._block(features * 8, features * 16, name=\"bottleneck\")\n",
        "\n",
        "        ## DECODER\n",
        "\n",
        "        self.upconv4 = nn.ConvTranspose2d(features * 16, features * 8, kernel_size=2,\n",
        "                                          stride=2)  # Empra aquesta capa com exemple\n",
        "        self.decoder4 = UNet._block(features * 16, features * 8, name=\"dec4\")\n",
        "\n",
        "        self.upconv3 = nn.ConvTranspose2d(features * 8, features * 4, kernel_size=2, stride=2)\n",
        "        self.decoder3 = UNet._block(features * 8, features * 4, name=\"dec3\")\n",
        "\n",
        "        self.upconv2 = nn.ConvTranspose2d(features * 4, features * 2, kernel_size=2, stride=2)\n",
        "        self.decoder2 = UNet._block(features * 4, features * 2, name=\"dec2\")\n",
        "\n",
        "        self.upconv1 = nn.ConvTranspose2d(features * 2, features, kernel_size=2, stride=2)\n",
        "        self.decoder1 = UNet._block(features * 2, features, name=\"dec1\")\n",
        "\n",
        "        self.final = nn.Conv2d(\n",
        "            in_channels=features,\n",
        "            out_channels=out_channels,\n",
        "            kernel_size=1,\n",
        "            padding=0,\n",
        "            bias=False,\n",
        "        )\n",
        "\n",
        "    def forward(self, x):\n",
        "        enc1 = self.encoder1(x)\n",
        "        enc2 = self.encoder2(self.pool1(enc1))\n",
        "        enc3 = self.encoder3(self.pool2(enc2))\n",
        "        enc4 = self.encoder4(self.pool3(enc3))\n",
        "\n",
        "        bottleneck = self.bottleneck(self.pool4(enc4))\n",
        "\n",
        "        dec1 = self.upconv4(bottleneck)\n",
        "        dec1 = torch.cat((dec1, enc4), dim=1)\n",
        "        dec2 = self.decoder4(dec1)\n",
        "\n",
        "        dec2 = self.upconv3(dec2)\n",
        "        dec2 = torch.cat((dec2, enc3), dim=1)\n",
        "        dec3 = self.decoder3(dec2)\n",
        "\n",
        "        dec3 = self.upconv2(dec3)\n",
        "        dec3 = torch.cat((dec3, enc2), dim=1)\n",
        "        dec4 = self.decoder2(dec3)\n",
        "\n",
        "        dec4 = self.upconv1(dec4)\n",
        "        dec4 = torch.cat((dec4, enc1), dim=1)\n",
        "        dec5 = self.decoder1(dec4)\n",
        "        return torch.sigmoid(self.final(dec5))\n",
        "\n",
        "    @staticmethod\n",
        "    def _block(in_channels, features, name):\n",
        "        return nn.Sequential(\n",
        "            OrderedDict(\n",
        "                [\n",
        "                    (name + \"conv1\",\n",
        "                     nn.Conv2d(\n",
        "                         in_channels=in_channels,\n",
        "                         out_channels=features,\n",
        "                         kernel_size=3,\n",
        "                         padding=1,\n",
        "                         bias=False,\n",
        "                     ),\n",
        "                     ),\n",
        "                    (name + \"norm1\", nn.BatchNorm2d(num_features=features)),\n",
        "                    (name + \"relu1\", nn.ReLU(inplace=True)),\n",
        "                    (name + \"conv2\",\n",
        "                     nn.Conv2d(\n",
        "                         in_channels=features,\n",
        "                         out_channels=features,\n",
        "                         kernel_size=3,\n",
        "                         padding=1,\n",
        "                         bias=False,\n",
        "                     ),\n",
        "                     ),\n",
        "                    (name + \"norm2\", nn.BatchNorm2d(num_features=features)),\n",
        "                    (name + \"relu2\", nn.ReLU(inplace=True)),\n",
        "                ]\n",
        "            )\n",
        "        )"
      ],
      "metadata": {
        "id": "pUYwQPDSev7e"
      },
      "execution_count": 9,
      "outputs": []
    },
    {
      "cell_type": "code",
      "source": [
        "class DiceLoss(nn.Module):\n",
        "\n",
        "    def __init__(self):\n",
        "        super(DiceLoss, self).__init__()\n",
        "        self.smooth = 0.0\n",
        "\n",
        "    def forward(self, y_pred, y_true):\n",
        "        assert y_pred.size() == y_true.size()\n",
        "        y_pred = y_pred[:, 0].contiguous().view(-1)\n",
        "        y_true = y_true[:, 0].contiguous().view(-1)\n",
        "        intersection = (y_pred * y_true).sum()\n",
        "        dsc = (2. * intersection + self.smooth) / (\n",
        "                y_pred.sum() + y_true.sum() + self.smooth\n",
        "        )\n",
        "        return 1. - dsc"
      ],
      "metadata": {
        "id": "Mi_tP2rWd50b"
      },
      "execution_count": 10,
      "outputs": []
    },
    {
      "cell_type": "code",
      "source": [
        "def pick_algorithm(number):\n",
        "  if number == 0:\n",
        "    alexnet = models.alexnet(weights=models.AlexNet_Weights.IMAGENET1K_V1) #fine tuning\n",
        "    # Modify the classifier\n",
        "    alexnet.classifier[6] = nn.Linear(in_features=4096, out_features=1)\n",
        "\n",
        "    loss_fn = nn.BCEWithLogitsLoss()\n",
        "    #loss_fn = nn.CrossEntropyLoss(weight=weights.to(device))\n",
        "    return alexnet,loss_fn\n",
        "  elif number == 1:\n",
        "    vgg = models.vgg16(weights = models.VGG16_Weights.IMAGENET1K_V1)\n",
        "    vgg.classifier[6] = nn.Linear(in_features=4096, out_features=1)\n",
        "\n",
        "    loss_fn = nn.BCEWithLogitsLoss()\n",
        "    return vgg,loss_fn\n",
        "  elif number == 2:\n",
        "    resnet = models.resnet18(weights=\"IMAGENET1K_V1\")\n",
        "    resnet.classifier[6] = nn.Linear(in_features=4096, out_features=1)\n",
        "    loss_fn = nn.BCEWithLogitsLoss()\n",
        "\n",
        "    return resnet,loss_fn\n",
        "  elif number == 3:\n",
        "    unet = UNet(3,1)\n",
        "    loss_fn = DiceLoss()\n",
        "    return unet,loss_fn\n",
        "  elif number == 5:\n",
        "    model = YOLO('yolov5n.pt')\n",
        "    return model,None\n",
        "  elif number == 4: #model propi\n",
        "    model = nn.Sequential(\n",
        "\n",
        "        nn.Conv2d(3, 64, kernel_size=3, stride=1, padding=1),\n",
        "        nn.ReLU(inplace=True),\n",
        "        nn.MaxPool2d(kernel_size=3, stride=2, padding=0),\n",
        "\n",
        "        nn.Conv2d(64, 128, kernel_size=3, stride=1, padding=1),\n",
        "        nn.ReLU(inplace=True),\n",
        "        nn.MaxPool2d(kernel_size=3, stride=2, padding=0),\n",
        "\n",
        "        nn.Conv2d(128, 128, kernel_size=3, stride=1, padding=1),\n",
        "        nn.ReLU(inplace=True),\n",
        "        nn.MaxPool2d(kernel_size=3, stride=2, padding=0),\n",
        "\n",
        "        nn.Conv2d(128, 256, kernel_size=3, stride=1, padding=1),\n",
        "        nn.ReLU(inplace=True),\n",
        "        nn.MaxPool2d(kernel_size=3, stride=2, padding=0),\n",
        "\n",
        "        nn.Conv2d(256, 256, kernel_size=3, stride=1, padding=1),\n",
        "        nn.ReLU(inplace=True),\n",
        "        nn.MaxPool2d(kernel_size=3, stride=2, padding=0),\n",
        "\n",
        "        nn.AdaptiveAvgPool2d(output_size=(6, 6)),\n",
        "\n",
        "        nn.Flatten(),\n",
        "        nn.Dropout(p=0.1),\n",
        "        nn.Linear(9216, 4096),\n",
        "        nn.ReLU(inplace=True),\n",
        "        nn.Linear(4096, 1024),\n",
        "        nn.ReLU(inplace=True),\n",
        "        nn.Linear(1024, 1024),\n",
        "        nn.ReLU(inplace=True),\n",
        "        nn.Linear(1024, 1)\n",
        "    )\n",
        "\n",
        "    return model, nn.BCEWithLogitsLoss()"
      ],
      "metadata": {
        "id": "ySRMpg9sf9O2"
      },
      "execution_count": 11,
      "outputs": []
    },
    {
      "cell_type": "code",
      "source": [
        "BATCH_SIZE = 8\n",
        "EPOCHS = 70\n",
        "PATIENCE = 30\n",
        "\n",
        "architectures = {'alexnet': 0,'vgg': 1,'resnet': 2,'unet':3,'propi':4,'yolo':5,'rcnn':6}\n",
        "architecrures_inv = {0: 'alexnet',1:'vgg',2:'resnet',3:'unet',4:'propi',5:'yolo',6:'rcnn'}\n",
        "projectes = ['caltech101-Alexnet','caltech101-Vgg','caltech101-ResNet','caltech101-unet','caltech101-Propi']\n",
        "\n",
        "MODEL = architectures['yolo']\n",
        "\n",
        "training.__setmodel__(MODEL)\n",
        "validation.__setmodel__(MODEL)\n",
        "testing.__setmodel__(MODEL)\n",
        "\n",
        "train_loader = torch.utils.data.DataLoader(training, batch_size=BATCH_SIZE, shuffle=True)\n",
        "validation_loader = torch.utils.data.DataLoader(validation, batch_size=validation.__len__(), shuffle=True)\n",
        "testing_loader = torch.utils.data.DataLoader(testing, batch_size=testing.__len__(), shuffle=True)\n",
        "\n",
        "model,loss_fn = pick_algorithm(MODEL)\n",
        "model.to(device)\n",
        "\n",
        "learning_rate = 0.00015\n",
        "optimizer = torch.optim.Adam(model.parameters(), lr=learning_rate)\n",
        "\n",
        "if MODEL != architectures['yolo']:\n",
        "  wandb.init(\n",
        "          project=projectes[MODEL],\n",
        "          config={\n",
        "              \"epochs\": EPOCHS,\n",
        "              \"batch_size\": BATCH_SIZE,\n",
        "              \"lr\": learning_rate,\n",
        "              \"trsize\":training.__len__(),\n",
        "              \"trdist\":TRAINING,\n",
        "              \"vsize\":validation.__len__(),\n",
        "              \"vdist\":VAL,\n",
        "              \"duplicated\":DUPLICAR_DADES\n",
        "              })\n",
        "\n",
        "\n",
        "  config = wandb.config\n",
        "\n",
        "test_target = None\n",
        "test_output = None\n",
        "\n",
        "#veure_imatges(training,std,mean)"
      ],
      "metadata": {
        "id": "rjilieRW5Rzj",
        "colab": {
          "base_uri": "https://localhost:8080/"
        },
        "outputId": "4fe7db24-ec29-4fc4-8e9e-07e9a54680cc"
      },
      "execution_count": 12,
      "outputs": [
        {
          "output_type": "stream",
          "name": "stdout",
          "text": [
            "PRO TIP 💡 Replace 'model=yolov5n.pt' with new 'model=yolov5nu.pt'.\n",
            "YOLOv5 'u' models are trained with https://github.com/ultralytics/ultralytics and feature improved performance vs standard YOLOv5 models trained with https://github.com/ultralytics/yolov5.\n",
            "\n",
            "Downloading https://github.com/ultralytics/assets/releases/download/v8.3.0/yolov5nu.pt to 'yolov5nu.pt'...\n"
          ]
        },
        {
          "output_type": "stream",
          "name": "stderr",
          "text": [
            "100%|██████████| 5.31M/5.31M [00:00<00:00, 95.8MB/s]\n"
          ]
        }
      ]
    },
    {
      "cell_type": "code",
      "source": [
        "img, target= next(iter(train_loader))\n",
        "print(img.shape)"
      ],
      "metadata": {
        "id": "wqzBODaIK61P",
        "colab": {
          "base_uri": "https://localhost:8080/"
        },
        "outputId": "118465fa-3fbc-4958-b0c8-da55f1e37fc6"
      },
      "execution_count": 13,
      "outputs": [
        {
          "output_type": "stream",
          "name": "stdout",
          "text": [
            "torch.Size([8, 3, 224, 224])\n"
          ]
        }
      ]
    },
    {
      "cell_type": "code",
      "source": [
        "def fit(model,loss_fn,dataloader,optimizer,epoch):\n",
        "\n",
        "  batch_num = 1\n",
        "  train_loss = 0\n",
        "  train_acc = 0\n",
        "  train_f1 = 0\n",
        "  train_recall = 0\n",
        "  train_precision = 0\n",
        "\n",
        "  example_ct = 0\n",
        "\n",
        "  for batch_num, (input_img, target) in tqdm(enumerate(dataloader), desc=f\"Batches (Època {epoch})\"):\n",
        "\n",
        "        model.train()\n",
        "\n",
        "        optimizer.zero_grad()\n",
        "        #extreu_classes(target.to(device))\n",
        "\n",
        "        output = model(input_img.to(device))\n",
        "\n",
        "        #print(target.shape)\n",
        "        # print(target)\n",
        "        #print(output.shape)\n",
        "        # print(output)\n",
        "\n",
        "\n",
        "\n",
        "        if MODEL != architectures['unet']:\n",
        "          target = target.float().unsqueeze(1)\n",
        "        else:\n",
        "          target = target.to(dtype=torch.float32)\n",
        "\n",
        "\n",
        "        target = target.to(device)\n",
        "        loss = loss_fn(output, target)\n",
        "\n",
        "\n",
        "        model.zero_grad()\n",
        "        loss.backward()\n",
        "\n",
        "        with torch.no_grad():\n",
        "          optimizer.step()\n",
        "\n",
        "\n",
        "        #print(f\"Pèrdua entrenament batch: {batch_num} epoch: {epoch+1}  train_loss: {loss.item()}\")\n",
        "        model.eval()\n",
        "\n",
        "        # print(\"Target unique values and counts:\", torch.unique(target, return_counts=True))\n",
        "        # print(\"Output unique values and counts:\", torch.unique((output > 0.5).int(), return_counts=True))\n",
        "\n",
        "\n",
        "        if MODEL == architectures['unet']:\n",
        "            output = (output.view(-1).cpu().detach().numpy() > 0.5).astype(int)\n",
        "            target = target.view(-1).cpu().detach().numpy()\n",
        "        else:\n",
        "          output = torch.sigmoid(output)\n",
        "          output = (output.cpu().detach().numpy() > 0.5).astype(int)\n",
        "          target = target.cpu().detach().numpy()\n",
        "\n",
        "\n",
        "        y_class_predict = output\n",
        "\n",
        "\n",
        "\n",
        "        a= accuracy_score(target,y_class_predict)\n",
        "        b= f1_score(target,y_class_predict,zero_division=1)\n",
        "        c= recall_score(target,y_class_predict,zero_division=1)\n",
        "        d= precision_score(target,y_class_predict,zero_division=1)\n",
        "        e = loss.item()\n",
        "\n",
        "\n",
        "\n",
        "        train_acc += a\n",
        "        train_f1 += b\n",
        "        train_recall += c\n",
        "        train_precision += d\n",
        "        train_loss += e\n",
        "\n",
        "        example_ct += len(input_img)\n",
        "\n",
        "  return train_acc,train_f1,train_recall,train_precision,train_loss"
      ],
      "metadata": {
        "id": "itVzlC3ltGMi"
      },
      "execution_count": 14,
      "outputs": []
    },
    {
      "cell_type": "code",
      "source": [
        "\n",
        "def validate(model,data_loader,loss_fn):\n",
        "\n",
        "  val_acc = 0\n",
        "  val_recall = 0\n",
        "  val_f1 = 0\n",
        "  val_loss = 0\n",
        "  val_precision = 0\n",
        "\n",
        "  model.eval()\n",
        "  with torch.no_grad():\n",
        "      for batch_num, (input_img, target) in enumerate(data_loader):\n",
        "\n",
        "\n",
        "            output = model(input_img.to(device))\n",
        "            target = target.to(device)\n",
        "\n",
        "            if MODEL != architectures['unet']:\n",
        "              target = target.float().unsqueeze(1)\n",
        "            else:\n",
        "              target = target.to(dtype=torch.float32)\n",
        "\n",
        "            loss = loss_fn(output, target)\n",
        "\n",
        "\n",
        "\n",
        "            if MODEL == architectures['unet']:\n",
        "              output = (output.view(-1).cpu().detach().numpy() > 0.5).astype(int)\n",
        "              target = target.view(-1).cpu().detach().numpy()\n",
        "            else:\n",
        "              output = torch.sigmoid(output)\n",
        "              output = (output.cpu().detach().numpy() > 0.5).astype(int)\n",
        "              target = target.cpu().detach().numpy()\n",
        "\n",
        "\n",
        "            # with open(\"outputtarget.txt\", \"w\") as file:\n",
        "            #   file.write(f\"OUTPUT\\n\")\n",
        "            #   np.savetxt(file, output, fmt=\"%d\")  # Save output as integers\n",
        "            #   file.write(f\"TARGET\\n\")\n",
        "            #   np.savetxt(file, target, fmt=\"%d\")  # Save output as integers\n",
        "\n",
        "            y_class_predict = output\n",
        "\n",
        "            val_acc  += accuracy_score(target,y_class_predict)\n",
        "            val_f1 += f1_score(target,y_class_predict,zero_division=1)\n",
        "            val_recall += recall_score(target,y_class_predict,zero_division=1)\n",
        "            val_precision += precision_score(target,y_class_predict,zero_division=1)\n",
        "\n",
        "            val_loss += loss.item()\n",
        "\n",
        "  return val_acc,val_f1,val_recall,val_precision,val_loss"
      ],
      "metadata": {
        "id": "kwRzbZ92wUpk"
      },
      "execution_count": 15,
      "outputs": []
    },
    {
      "cell_type": "code",
      "source": [
        "def test(model,data_loader,loss_fn):\n",
        "\n",
        "  global test_target\n",
        "  global test_output\n",
        "\n",
        "\n",
        "  test_acc = 0\n",
        "  test_recall = 0\n",
        "  test_f1 = 0\n",
        "  test_loss = 0\n",
        "  test_precision = 0\n",
        "\n",
        "  model.eval()\n",
        "  with torch.no_grad():\n",
        "      for batch_num, (input_img, target) in enumerate(data_loader):\n",
        "\n",
        "\n",
        "            output = model(input_img.to(device))\n",
        "            target = target.to(device)\n",
        "\n",
        "            if MODEL != architectures['unet']:\n",
        "              target = target.float().unsqueeze(1)\n",
        "            else:\n",
        "              target = target.to(dtype=torch.float32)\n",
        "\n",
        "            loss = loss_fn(output, target)\n",
        "\n",
        "\n",
        "\n",
        "            if MODEL == architectures['unet']:\n",
        "\n",
        "              output = (output.view(-1).cpu().detach().numpy() > 0.5).astype(int)\n",
        "              target = target.view(-1).cpu().detach().numpy()\n",
        "\n",
        "              test_output = output\n",
        "              test_target = target\n",
        "\n",
        "            else:\n",
        "              output = torch.sigmoid(output)\n",
        "              output = (output.cpu().detach().numpy() > 0.5).astype(int)\n",
        "              target = target.cpu().detach().numpy()\n",
        "\n",
        "\n",
        "            # with open(\"outputtarget.txt\", \"w\") as file:\n",
        "            #   file.write(f\"OUTPUT\\n\")\n",
        "            #   np.savetxt(file, output, fmt=\"%d\")  # Save output as integers\n",
        "            #   file.write(f\"TARGET\\n\")\n",
        "            #   np.savetxt(file, target, fmt=\"%d\")  # Save output as integers\n",
        "\n",
        "            y_class_predict = output\n",
        "\n",
        "            test_acc  += accuracy_score(target,y_class_predict)\n",
        "            test_f1 += f1_score(target,y_class_predict,zero_division=1)\n",
        "            test_recall += recall_score(target,y_class_predict,zero_division=1)\n",
        "            test_precision += precision_score(target,y_class_predict,zero_division=1)\n",
        "\n",
        "            test_loss += loss.item()\n",
        "\n",
        "  return test_acc,test_f1,test_recall,test_precision,test_loss"
      ],
      "metadata": {
        "id": "MFvVoKqiGesu"
      },
      "execution_count": 16,
      "outputs": []
    },
    {
      "cell_type": "code",
      "source": [
        "def prova():\n",
        "  t_loss = np.zeros(EPOCHS)\n",
        "  v_loss = np.zeros(EPOCHS)\n",
        "  acc_t = np.zeros(EPOCHS) #accuracy\n",
        "  acc_v = np.zeros(EPOCHS)\n",
        "  f1_t = np.zeros(EPOCHS) #f1\n",
        "  f1_v = np.zeros(EPOCHS)\n",
        "  recall_t = np.zeros(EPOCHS) #recall\n",
        "  recall_v = np.zeros(EPOCHS)\n",
        "  precision_t = np.zeros(EPOCHS)\n",
        "  precision_v = np.zeros(EPOCHS) #precisió\n",
        "\n",
        "  epochs_without_improvement = 0\n",
        "  best_val_loss = float('inf')\n",
        "  best_val_acc = 0\n",
        "  pbar = tqdm(range(1, EPOCHS + 1))  # tdqm permet tenir text dinàmic\n",
        "\n",
        "  for epoch in pbar:\n",
        "\n",
        "\n",
        "    train_acc,train_f1,train_recall,train_precision,train_loss = fit(model,loss_fn,train_loader,optimizer,epoch)\n",
        "\n",
        "    val_acc,val_f1,val_recall,val_precision,val_loss = validate(model,validation_loader,loss_fn)\n",
        "\n",
        "    test_acc,test_f1,test_recall,test_precision,test_loss = test(model,testing_loader,loss_fn)\n",
        "\n",
        "    training_metrics = {\"train/train_loss\": train_loss/len(train_loader),\n",
        "                    \"train/train_acc\":train_acc/len(train_loader),\n",
        "                    \"train/train_f1\":train_f1/len(train_loader),\n",
        "                    \"train/train_recall\":train_recall/len(train_loader),\n",
        "                    \"train/train_precision\":train_precision/len(train_loader)}\n",
        "\n",
        "    val_metrics = {\"val/val_loss\": val_loss/len(validation_loader),\n",
        "                  \"val/val_acc\":val_acc/len(validation_loader),\n",
        "                  \"val/val_f1\":val_f1/len(validation_loader),\n",
        "                  \"val/val_recall\": val_recall/len(validation_loader),\n",
        "                  \"val/val_precision\": val_precision/len(validation_loader)}\n",
        "\n",
        "    testing_metrics = {\"test/test_loss\": test_loss/len(testing_loader),\n",
        "                       \"test/test_acc\": test_acc/len(testing_loader),\n",
        "                       \"test/test_f1\":test_f1/len(testing_loader),\n",
        "                       \"test/test_recall\": test_recall/len(testing_loader),\n",
        "                        \"test/test_precision\": test_precision/len(testing_loader)}\n",
        "\n",
        "    #Early Stopping:\n",
        "\n",
        "    if val_acc >= best_val_acc:\n",
        "        best_val_acc = val_acc\n",
        "        epochs_without_improvement = 0\n",
        "    else:\n",
        "      # print(\"Early stopping triggered!\")\n",
        "      # break\n",
        "        epochs_without_improvement += 1\n",
        "\n",
        "    #Saving the results\n",
        "\n",
        "    wandb.log({**training_metrics, **val_metrics,**testing_metrics})\n",
        "\n",
        "    torch.save(model, \"my_model.pt\")\n",
        "    wandb.log_model(\"./my_model.pt\", architecrures_inv[MODEL], aliases=[f\"epoch-{epoch+1}\"])\n",
        "\n",
        "    train_loss /= len(train_loader)\n",
        "    t_loss[epoch - 1] = train_loss\n",
        "\n",
        "    train_acc /= len(train_loader)\n",
        "    acc_t[epoch - 1] = train_acc\n",
        "\n",
        "    train_f1 /= len(train_loader)\n",
        "    f1_t[epoch - 1] = train_f1\n",
        "\n",
        "    train_recall /= len(train_loader)\n",
        "    recall_t[epoch - 1] = train_recall\n",
        "\n",
        "    train_precision /= len(train_loader)\n",
        "    precision_t[epoch-1] = train_precision\n",
        "\n",
        "    print(f\"Pèrdua entrenament epoch: {epoch}  train_loss: {train_loss}\")\n",
        "    print(f\"Accuracy train epoch: {epoch}  train_acc: {train_acc}\")\n",
        "    print(f\"F1 train epoch: {epoch}  train_f1: {train_f1}\")\n",
        "    print(f\"Recall train epoch: {epoch}  train_recall: {train_recall}\")\n",
        "    print(f\"Precision train epoch: {epoch}  train_recall: {train_precision}\")\n",
        "\n",
        "    val_loss /= len(validation_loader)\n",
        "    v_loss[epoch - 1] = val_loss\n",
        "\n",
        "    val_acc /= len(validation_loader)\n",
        "    acc_v[epoch - 1] = val_acc\n",
        "\n",
        "    val_f1 /= len(validation_loader)\n",
        "    f1_v[epoch - 1] = val_f1\n",
        "\n",
        "    val_recall /= len(validation_loader)\n",
        "    recall_v[epoch - 1] = val_recall\n",
        "\n",
        "    val_precision /= len(validation_loader)\n",
        "    precision_v[epoch-1] = val_precision\n",
        "\n",
        "    print()\n",
        "    print()\n",
        "    print(f\"Pèrdua validació epoch: {epoch}  val_loss: {val_loss}\")\n",
        "    print(f\"Accuracy val epoch: {epoch}  val_acc: {val_acc}\")\n",
        "    print(f\"F1 val epoch: {epoch}  val_f1: {val_f1}\")\n",
        "    print(f\"Recall val epoch: {epoch}  val_reall: {val_recall}\")\n",
        "    print(f\"Precision val epoch: {epoch}  val_reall: {val_precision}\")\n",
        "\n",
        "    test_loss /= len(testing_loader)\n",
        "\n",
        "    test_acc /= len(testing_loader)\n",
        "\n",
        "    test_f1 /= len(testing_loader)\n",
        "\n",
        "    test_recall /= len(testing_loader)\n",
        "\n",
        "    test_precision /= len(testing_loader)\n",
        "\n",
        "    print()\n",
        "    print()\n",
        "    print(f\"Pèrdua testing epoch: {epoch}  val_loss: {test_loss}\")\n",
        "    print(f\"Accuracy test epoch: {epoch}  val_acc: {test_acc}\")\n",
        "    print(f\"F1 test epoch: {epoch}  val_f1: {test_f1}\")\n",
        "    print(f\"Recall test epoch: {epoch}  val_reall: {test_recall}\")\n",
        "    print(f\"Precision test epoch: {epoch}  val_reall: {test_precision}\")\n",
        "\n",
        "    # if epochs_without_improvement >= PATIENCE:\n",
        "    #     print(\"Early stopping triggered!\")\n",
        "    #     break\n",
        "\n",
        "    # if val_acc > 0.9:\n",
        "    #   print(\"Early stopping triggered!\")\n",
        "    #   break\n",
        "\n",
        "  wandb.finish()"
      ],
      "metadata": {
        "id": "RlbcPphkxdhz"
      },
      "execution_count": 17,
      "outputs": []
    },
    {
      "cell_type": "code",
      "source": [
        "from IPython.display import clear_output\n",
        "\n",
        "def visualitza_resultats():\n",
        "    test_output_images = test_output.reshape(testing.__len__(), 224, 224)\n",
        "    test_target_images = test_target.reshape(testing.__len__(), 224, 224)\n",
        "\n",
        "    # Set up the figure and axes once\n",
        "    fig, axs = plt.subplots(1, 2, figsize=(10, 5))\n",
        "\n",
        "    # Hide axes for better clarity\n",
        "    for ax in axs:\n",
        "        ax.axis('off')\n",
        "\n",
        "    # Loop through the images and update\n",
        "    for i in range(testing.__len__()):\n",
        "        # Clear the previous output in Colab\n",
        "        clear_output(wait=True)\n",
        "\n",
        "        # Clear the axes\n",
        "        axs[0].cla()\n",
        "        axs[1].cla()\n",
        "\n",
        "        # Update the image data for output and target images\n",
        "        axs[0].imshow(test_output_images[i], cmap='gray', vmin=0, vmax=1)\n",
        "        axs[1].imshow(test_target_images[i], cmap='gray', vmin=0, vmax=1)\n",
        "\n",
        "        # Set the titles dynamically\n",
        "        axs[0].set_title(f\"Output {i+1}\")\n",
        "        axs[1].set_title(f\"Target {i+1}\")\n",
        "\n",
        "        # Redraw the plot\n",
        "        display(fig)  # Explicitly display the updated figure\n",
        "        plt.pause(1)\n",
        "\n",
        "    # Close the plot window after all images have been shown\n",
        "    plt.close(fig)"
      ],
      "metadata": {
        "id": "65YoY2jTIkMi"
      },
      "execution_count": 18,
      "outputs": []
    },
    {
      "cell_type": "code",
      "source": [
        "#{'alexnet': 0,'vgg': 1,'resnet': 2,'unet':3,'yolo':4,'propi':5}\n",
        "\n",
        "if MODEL == architectures['unet']:\n",
        "  prova()\n",
        "  visualitza_resultats() #visualitza les màsqueres previstes\n",
        "elif MODEL != architectures['yolo']:\n",
        "  prova()\n",
        "else: #yolo\n",
        "  train_results = model.train(\n",
        "      data=\"/content/data.yaml\",\n",
        "      epochs=100,\n",
        "      imgsz=288,\n",
        "      verbose=True\n",
        "  )\n",
        "\n",
        "  metrics = model.val()\n",
        "\n",
        "  results = model(X_test[0])\n",
        "  results[0].show()\n",
        "\n",
        "\n",
        "  path = model.export(format=\"onnx\")"
      ],
      "metadata": {
        "id": "ghEYwyFzJHA6",
        "colab": {
          "base_uri": "https://localhost:8080/",
          "height": 1000
        },
        "outputId": "9edc8cb4-e8e6-4f8a-e238-57e419af52b7"
      },
      "execution_count": 19,
      "outputs": [
        {
          "output_type": "stream",
          "name": "stdout",
          "text": [
            "\u001b[34m\u001b[1mengine/trainer: \u001b[0mtask=detect, mode=train, model=yolov5n.pt, data=/content/data.yaml, epochs=100, time=None, patience=100, batch=16, imgsz=288, save=True, save_period=-1, cache=False, device=cuda:0, workers=8, project=None, name=train, exist_ok=False, pretrained=True, optimizer=auto, verbose=True, seed=0, deterministic=True, single_cls=False, rect=False, cos_lr=False, close_mosaic=10, resume=False, amp=True, fraction=1.0, profile=False, freeze=None, multi_scale=False, overlap_mask=True, mask_ratio=4, dropout=0.0, val=True, split=val, save_json=False, save_hybrid=False, conf=None, iou=0.7, max_det=300, half=False, dnn=False, plots=True, source=None, vid_stride=1, stream_buffer=False, visualize=False, augment=False, agnostic_nms=False, classes=None, retina_masks=False, embed=None, show=False, save_frames=False, save_txt=False, save_conf=False, save_crop=False, show_labels=True, show_conf=True, show_boxes=True, line_width=None, format=torchscript, keras=False, optimize=False, int8=False, dynamic=False, simplify=True, opset=None, workspace=None, nms=False, lr0=0.01, lrf=0.01, momentum=0.937, weight_decay=0.0005, warmup_epochs=3.0, warmup_momentum=0.8, warmup_bias_lr=0.1, box=7.5, cls=0.5, dfl=1.5, pose=12.0, kobj=1.0, nbs=64, hsv_h=0.015, hsv_s=0.7, hsv_v=0.4, degrees=0.0, translate=0.1, scale=0.5, shear=0.0, perspective=0.0, flipud=0.0, fliplr=0.5, bgr=0.0, mosaic=1.0, mixup=0.0, copy_paste=0.0, copy_paste_mode=flip, auto_augment=randaugment, erasing=0.4, crop_fraction=1.0, cfg=None, tracker=botsort.yaml, save_dir=runs/detect/train\n",
            "Downloading https://ultralytics.com/assets/Arial.ttf to '/root/.config/Ultralytics/Arial.ttf'...\n"
          ]
        },
        {
          "output_type": "stream",
          "name": "stderr",
          "text": [
            "100%|██████████| 755k/755k [00:00<00:00, 25.0MB/s]\n"
          ]
        },
        {
          "output_type": "stream",
          "name": "stdout",
          "text": [
            "Overriding model.yaml nc=80 with nc=2\n",
            "\n",
            "                   from  n    params  module                                       arguments                     \n",
            "  0                  -1  1      1760  ultralytics.nn.modules.conv.Conv             [3, 16, 6, 2, 2]              \n",
            "  1                  -1  1      4672  ultralytics.nn.modules.conv.Conv             [16, 32, 3, 2]                \n",
            "  2                  -1  1      4800  ultralytics.nn.modules.block.C3              [32, 32, 1]                   \n",
            "  3                  -1  1     18560  ultralytics.nn.modules.conv.Conv             [32, 64, 3, 2]                \n",
            "  4                  -1  2     29184  ultralytics.nn.modules.block.C3              [64, 64, 2]                   \n",
            "  5                  -1  1     73984  ultralytics.nn.modules.conv.Conv             [64, 128, 3, 2]               \n",
            "  6                  -1  3    156928  ultralytics.nn.modules.block.C3              [128, 128, 3]                 \n",
            "  7                  -1  1    295424  ultralytics.nn.modules.conv.Conv             [128, 256, 3, 2]              \n",
            "  8                  -1  1    296448  ultralytics.nn.modules.block.C3              [256, 256, 1]                 \n",
            "  9                  -1  1    164608  ultralytics.nn.modules.block.SPPF            [256, 256, 5]                 \n",
            " 10                  -1  1     33024  ultralytics.nn.modules.conv.Conv             [256, 128, 1, 1]              \n",
            " 11                  -1  1         0  torch.nn.modules.upsampling.Upsample         [None, 2, 'nearest']          \n",
            " 12             [-1, 6]  1         0  ultralytics.nn.modules.conv.Concat           [1]                           \n",
            " 13                  -1  1     90880  ultralytics.nn.modules.block.C3              [256, 128, 1, False]          \n",
            " 14                  -1  1      8320  ultralytics.nn.modules.conv.Conv             [128, 64, 1, 1]               \n",
            " 15                  -1  1         0  torch.nn.modules.upsampling.Upsample         [None, 2, 'nearest']          \n",
            " 16             [-1, 4]  1         0  ultralytics.nn.modules.conv.Concat           [1]                           \n",
            " 17                  -1  1     22912  ultralytics.nn.modules.block.C3              [128, 64, 1, False]           \n",
            " 18                  -1  1     36992  ultralytics.nn.modules.conv.Conv             [64, 64, 3, 2]                \n",
            " 19            [-1, 14]  1         0  ultralytics.nn.modules.conv.Concat           [1]                           \n",
            " 20                  -1  1     74496  ultralytics.nn.modules.block.C3              [128, 128, 1, False]          \n",
            " 21                  -1  1    147712  ultralytics.nn.modules.conv.Conv             [128, 128, 3, 2]              \n",
            " 22            [-1, 10]  1         0  ultralytics.nn.modules.conv.Concat           [1]                           \n",
            " 23                  -1  1    296448  ultralytics.nn.modules.block.C3              [256, 256, 1, False]          \n",
            " 24        [17, 20, 23]  1    751702  ultralytics.nn.modules.head.Detect           [2, [64, 128, 256]]           \n",
            "YOLOv5n summary: 262 layers, 2,508,854 parameters, 2,508,838 gradients, 7.2 GFLOPs\n",
            "\n",
            "Transferred 391/427 items from pretrained weights\n",
            "\u001b[34m\u001b[1mTensorBoard: \u001b[0mStart with 'tensorboard --logdir runs/detect/train', view at http://localhost:6006/\n",
            "Freezing layer 'model.24.dfl.conv.weight'\n",
            "\u001b[34m\u001b[1mAMP: \u001b[0mrunning Automatic Mixed Precision (AMP) checks...\n",
            "Downloading https://github.com/ultralytics/assets/releases/download/v8.3.0/yolo11n.pt to 'yolo11n.pt'...\n"
          ]
        },
        {
          "output_type": "stream",
          "name": "stderr",
          "text": [
            "100%|██████████| 5.35M/5.35M [00:00<00:00, 88.2MB/s]\n"
          ]
        },
        {
          "output_type": "stream",
          "name": "stdout",
          "text": [
            "\u001b[34m\u001b[1mAMP: \u001b[0mchecks passed ✅\n"
          ]
        },
        {
          "output_type": "stream",
          "name": "stderr",
          "text": [
            "\u001b[34m\u001b[1mtrain: \u001b[0mScanning /content/dataset/train/labels... 56 images, 0 backgrounds, 0 corrupt: 100%|██████████| 56/56 [00:00<00:00, 1118.03it/s]"
          ]
        },
        {
          "output_type": "stream",
          "name": "stdout",
          "text": [
            "\u001b[34m\u001b[1mtrain: \u001b[0mNew cache created: /content/dataset/train/labels.cache\n"
          ]
        },
        {
          "output_type": "stream",
          "name": "stderr",
          "text": [
            "\n"
          ]
        },
        {
          "output_type": "stream",
          "name": "stdout",
          "text": [
            "\u001b[34m\u001b[1malbumentations: \u001b[0mBlur(p=0.01, blur_limit=(3, 7)), MedianBlur(p=0.01, blur_limit=(3, 7)), ToGray(p=0.01, num_output_channels=3, method='weighted_average'), CLAHE(p=0.01, clip_limit=(1.0, 4.0), tile_grid_size=(8, 8))\n"
          ]
        },
        {
          "output_type": "stream",
          "name": "stderr",
          "text": [
            "/usr/local/lib/python3.10/dist-packages/albumentations/__init__.py:24: UserWarning: A new version of Albumentations is available: 2.0.0 (you have 1.4.20). Upgrade using: pip install -U albumentations. To disable automatic update checks, set the environment variable NO_ALBUMENTATIONS_UPDATE to 1.\n",
            "  check_for_updates()\n",
            "\u001b[34m\u001b[1mval: \u001b[0mScanning /content/dataset/val/labels... 19 images, 0 backgrounds, 0 corrupt: 100%|██████████| 19/19 [00:00<00:00, 787.02it/s]"
          ]
        },
        {
          "output_type": "stream",
          "name": "stdout",
          "text": [
            "\u001b[34m\u001b[1mval: \u001b[0mNew cache created: /content/dataset/val/labels.cache\n"
          ]
        },
        {
          "output_type": "stream",
          "name": "stderr",
          "text": [
            "\n"
          ]
        },
        {
          "output_type": "stream",
          "name": "stdout",
          "text": [
            "Plotting labels to runs/detect/train/labels.jpg... \n",
            "\u001b[34m\u001b[1moptimizer:\u001b[0m 'optimizer=auto' found, ignoring 'lr0=0.01' and 'momentum=0.937' and determining best 'optimizer', 'lr0' and 'momentum' automatically... \n",
            "\u001b[34m\u001b[1moptimizer:\u001b[0m AdamW(lr=0.001667, momentum=0.9) with parameter groups 69 weight(decay=0.0), 76 weight(decay=0.0005), 75 bias(decay=0.0)\n",
            "\u001b[34m\u001b[1mTensorBoard: \u001b[0mmodel graph visualization added ✅\n",
            "Image sizes 288 train, 288 val\n",
            "Using 2 dataloader workers\n",
            "Logging results to \u001b[1mruns/detect/train\u001b[0m\n",
            "Starting training for 100 epochs...\n",
            "\n",
            "      Epoch    GPU_mem   box_loss   cls_loss   dfl_loss  Instances       Size\n"
          ]
        },
        {
          "output_type": "stream",
          "name": "stderr",
          "text": [
            "      1/100     0.499G       1.06      2.807      1.323         24        288: 100%|██████████| 4/4 [00:02<00:00,  1.72it/s]\n",
            "                 Class     Images  Instances      Box(P          R      mAP50  mAP50-95): 100%|██████████| 1/1 [00:01<00:00,  1.37s/it]"
          ]
        },
        {
          "output_type": "stream",
          "name": "stdout",
          "text": [
            "                   all         19         19    0.00343          1      0.448        0.3\n"
          ]
        },
        {
          "output_type": "stream",
          "name": "stderr",
          "text": [
            "\n"
          ]
        },
        {
          "output_type": "stream",
          "name": "stdout",
          "text": [
            "\n",
            "      Epoch    GPU_mem   box_loss   cls_loss   dfl_loss  Instances       Size\n"
          ]
        },
        {
          "output_type": "stream",
          "name": "stderr",
          "text": [
            "      2/100     0.497G      1.026      2.744      1.303         20        288: 100%|██████████| 4/4 [00:00<00:00,  7.41it/s]\n",
            "                 Class     Images  Instances      Box(P          R      mAP50  mAP50-95): 100%|██████████| 1/1 [00:00<00:00, 10.30it/s]"
          ]
        },
        {
          "output_type": "stream",
          "name": "stdout",
          "text": [
            "                   all         19         19    0.00344          1      0.656      0.537\n"
          ]
        },
        {
          "output_type": "stream",
          "name": "stderr",
          "text": [
            "\n"
          ]
        },
        {
          "output_type": "stream",
          "name": "stdout",
          "text": [
            "\n",
            "      Epoch    GPU_mem   box_loss   cls_loss   dfl_loss  Instances       Size\n"
          ]
        },
        {
          "output_type": "stream",
          "name": "stderr",
          "text": [
            "      3/100     0.497G     0.8854      2.534      1.198         23        288: 100%|██████████| 4/4 [00:00<00:00,  5.58it/s]\n",
            "                 Class     Images  Instances      Box(P          R      mAP50  mAP50-95): 100%|██████████| 1/1 [00:00<00:00,  6.68it/s]"
          ]
        },
        {
          "output_type": "stream",
          "name": "stdout",
          "text": [
            "                   all         19         19    0.00339          1      0.752      0.684\n"
          ]
        },
        {
          "output_type": "stream",
          "name": "stderr",
          "text": [
            "\n"
          ]
        },
        {
          "output_type": "stream",
          "name": "stdout",
          "text": [
            "\n",
            "      Epoch    GPU_mem   box_loss   cls_loss   dfl_loss  Instances       Size\n"
          ]
        },
        {
          "output_type": "stream",
          "name": "stderr",
          "text": [
            "      4/100     0.497G     0.8265      2.306       1.19         27        288: 100%|██████████| 4/4 [00:00<00:00,  4.97it/s]\n",
            "                 Class     Images  Instances      Box(P          R      mAP50  mAP50-95): 100%|██████████| 1/1 [00:00<00:00,  6.49it/s]"
          ]
        },
        {
          "output_type": "stream",
          "name": "stdout",
          "text": [
            "                   all         19         19    0.00336          1      0.814       0.72\n"
          ]
        },
        {
          "output_type": "stream",
          "name": "stderr",
          "text": [
            "\n"
          ]
        },
        {
          "output_type": "stream",
          "name": "stdout",
          "text": [
            "\n",
            "      Epoch    GPU_mem   box_loss   cls_loss   dfl_loss  Instances       Size\n"
          ]
        },
        {
          "output_type": "stream",
          "name": "stderr",
          "text": [
            "      5/100     0.505G      0.779      1.895      1.143         29        288: 100%|██████████| 4/4 [00:00<00:00,  5.19it/s]\n",
            "                 Class     Images  Instances      Box(P          R      mAP50  mAP50-95): 100%|██████████| 1/1 [00:00<00:00,  5.41it/s]\n"
          ]
        },
        {
          "output_type": "stream",
          "name": "stdout",
          "text": [
            "                   all         19         19    0.00342          1      0.814      0.702\n",
            "\n",
            "      Epoch    GPU_mem   box_loss   cls_loss   dfl_loss  Instances       Size\n"
          ]
        },
        {
          "output_type": "stream",
          "name": "stderr",
          "text": [
            "      6/100     0.495G     0.8621      1.644      1.157         26        288: 100%|██████████| 4/4 [00:00<00:00,  4.83it/s]\n",
            "                 Class     Images  Instances      Box(P          R      mAP50  mAP50-95): 100%|██████████| 1/1 [00:00<00:00,  5.85it/s]\n"
          ]
        },
        {
          "output_type": "stream",
          "name": "stdout",
          "text": [
            "                   all         19         19          1      0.475      0.813      0.714\n",
            "\n",
            "      Epoch    GPU_mem   box_loss   cls_loss   dfl_loss  Instances       Size\n"
          ]
        },
        {
          "output_type": "stream",
          "name": "stderr",
          "text": [
            "      7/100     0.493G     0.7992      1.369      1.142         24        288: 100%|██████████| 4/4 [00:00<00:00,  8.23it/s]\n",
            "                 Class     Images  Instances      Box(P          R      mAP50  mAP50-95): 100%|██████████| 1/1 [00:00<00:00,  8.79it/s]"
          ]
        },
        {
          "output_type": "stream",
          "name": "stdout",
          "text": [
            "                   all         19         19      0.818      0.766      0.817      0.745\n"
          ]
        },
        {
          "output_type": "stream",
          "name": "stderr",
          "text": [
            "\n"
          ]
        },
        {
          "output_type": "stream",
          "name": "stdout",
          "text": [
            "\n",
            "      Epoch    GPU_mem   box_loss   cls_loss   dfl_loss  Instances       Size\n"
          ]
        },
        {
          "output_type": "stream",
          "name": "stderr",
          "text": [
            "      8/100     0.493G      0.768      1.239      1.117         22        288: 100%|██████████| 4/4 [00:00<00:00,  8.13it/s]\n",
            "                 Class     Images  Instances      Box(P          R      mAP50  mAP50-95): 100%|██████████| 1/1 [00:00<00:00, 10.14it/s]"
          ]
        },
        {
          "output_type": "stream",
          "name": "stdout",
          "text": [
            "                   all         19         19      0.846      0.889      0.817      0.708\n"
          ]
        },
        {
          "output_type": "stream",
          "name": "stderr",
          "text": [
            "\n"
          ]
        },
        {
          "output_type": "stream",
          "name": "stdout",
          "text": [
            "\n",
            "      Epoch    GPU_mem   box_loss   cls_loss   dfl_loss  Instances       Size\n"
          ]
        },
        {
          "output_type": "stream",
          "name": "stderr",
          "text": [
            "      9/100     0.493G      0.771      1.089      1.105         24        288: 100%|██████████| 4/4 [00:00<00:00,  8.13it/s]\n",
            "                 Class     Images  Instances      Box(P          R      mAP50  mAP50-95): 100%|██████████| 1/1 [00:00<00:00, 10.44it/s]"
          ]
        },
        {
          "output_type": "stream",
          "name": "stdout",
          "text": [
            "                   all         19         19      0.872      0.889      0.851      0.739\n"
          ]
        },
        {
          "output_type": "stream",
          "name": "stderr",
          "text": [
            "\n"
          ]
        },
        {
          "output_type": "stream",
          "name": "stdout",
          "text": [
            "\n",
            "      Epoch    GPU_mem   box_loss   cls_loss   dfl_loss  Instances       Size\n"
          ]
        },
        {
          "output_type": "stream",
          "name": "stderr",
          "text": [
            "     10/100     0.493G     0.7405      1.105      1.097         21        288: 100%|██████████| 4/4 [00:00<00:00,  8.42it/s]\n",
            "                 Class     Images  Instances      Box(P          R      mAP50  mAP50-95): 100%|██████████| 1/1 [00:00<00:00,  9.36it/s]"
          ]
        },
        {
          "output_type": "stream",
          "name": "stdout",
          "text": [
            "                   all         19         19      0.831      0.889      0.844      0.715\n"
          ]
        },
        {
          "output_type": "stream",
          "name": "stderr",
          "text": [
            "\n"
          ]
        },
        {
          "output_type": "stream",
          "name": "stdout",
          "text": [
            "\n",
            "      Epoch    GPU_mem   box_loss   cls_loss   dfl_loss  Instances       Size\n"
          ]
        },
        {
          "output_type": "stream",
          "name": "stderr",
          "text": [
            "     11/100     0.493G     0.7709      1.032       1.13         25        288: 100%|██████████| 4/4 [00:00<00:00,  8.11it/s]\n",
            "                 Class     Images  Instances      Box(P          R      mAP50  mAP50-95): 100%|██████████| 1/1 [00:00<00:00,  8.41it/s]"
          ]
        },
        {
          "output_type": "stream",
          "name": "stdout",
          "text": [
            "                   all         19         19      0.846      0.833      0.832      0.697\n"
          ]
        },
        {
          "output_type": "stream",
          "name": "stderr",
          "text": [
            "\n"
          ]
        },
        {
          "output_type": "stream",
          "name": "stdout",
          "text": [
            "\n",
            "      Epoch    GPU_mem   box_loss   cls_loss   dfl_loss  Instances       Size\n"
          ]
        },
        {
          "output_type": "stream",
          "name": "stderr",
          "text": [
            "     12/100     0.493G     0.7081     0.9114      1.088         24        288: 100%|██████████| 4/4 [00:00<00:00,  8.30it/s]\n",
            "                 Class     Images  Instances      Box(P          R      mAP50  mAP50-95): 100%|██████████| 1/1 [00:00<00:00, 10.27it/s]"
          ]
        },
        {
          "output_type": "stream",
          "name": "stdout",
          "text": [
            "                   all         19         19      0.857      0.833      0.804      0.663\n"
          ]
        },
        {
          "output_type": "stream",
          "name": "stderr",
          "text": [
            "\n"
          ]
        },
        {
          "output_type": "stream",
          "name": "stdout",
          "text": [
            "\n",
            "      Epoch    GPU_mem   box_loss   cls_loss   dfl_loss  Instances       Size\n"
          ]
        },
        {
          "output_type": "stream",
          "name": "stderr",
          "text": [
            "     13/100     0.493G     0.7934     0.9842      1.138         24        288: 100%|██████████| 4/4 [00:00<00:00,  7.90it/s]\n",
            "                 Class     Images  Instances      Box(P          R      mAP50  mAP50-95): 100%|██████████| 1/1 [00:00<00:00, 10.16it/s]"
          ]
        },
        {
          "output_type": "stream",
          "name": "stdout",
          "text": [
            "                   all         19         19      0.811      0.833      0.819      0.679\n"
          ]
        },
        {
          "output_type": "stream",
          "name": "stderr",
          "text": [
            "\n"
          ]
        },
        {
          "output_type": "stream",
          "name": "stdout",
          "text": [
            "\n",
            "      Epoch    GPU_mem   box_loss   cls_loss   dfl_loss  Instances       Size\n"
          ]
        },
        {
          "output_type": "stream",
          "name": "stderr",
          "text": [
            "     14/100     0.493G     0.7649     0.9252      1.104         24        288: 100%|██████████| 4/4 [00:00<00:00,  8.81it/s]\n",
            "                 Class     Images  Instances      Box(P          R      mAP50  mAP50-95): 100%|██████████| 1/1 [00:00<00:00, 10.31it/s]"
          ]
        },
        {
          "output_type": "stream",
          "name": "stdout",
          "text": [
            "                   all         19         19      0.796      0.833       0.84      0.712\n"
          ]
        },
        {
          "output_type": "stream",
          "name": "stderr",
          "text": [
            "\n"
          ]
        },
        {
          "output_type": "stream",
          "name": "stdout",
          "text": [
            "\n",
            "      Epoch    GPU_mem   box_loss   cls_loss   dfl_loss  Instances       Size\n"
          ]
        },
        {
          "output_type": "stream",
          "name": "stderr",
          "text": [
            "     15/100     0.493G     0.7023     0.9401      1.092         20        288: 100%|██████████| 4/4 [00:00<00:00,  5.47it/s]\n",
            "                 Class     Images  Instances      Box(P          R      mAP50  mAP50-95): 100%|██████████| 1/1 [00:00<00:00,  6.27it/s]"
          ]
        },
        {
          "output_type": "stream",
          "name": "stdout",
          "text": [
            "                   all         19         19      0.816      0.889      0.851      0.705\n"
          ]
        },
        {
          "output_type": "stream",
          "name": "stderr",
          "text": [
            "\n"
          ]
        },
        {
          "output_type": "stream",
          "name": "stdout",
          "text": [
            "\n",
            "      Epoch    GPU_mem   box_loss   cls_loss   dfl_loss  Instances       Size\n"
          ]
        },
        {
          "output_type": "stream",
          "name": "stderr",
          "text": [
            "     16/100     0.493G     0.6889     0.8571      1.049         26        288: 100%|██████████| 4/4 [00:00<00:00,  5.71it/s]\n",
            "                 Class     Images  Instances      Box(P          R      mAP50  mAP50-95): 100%|██████████| 1/1 [00:00<00:00,  4.83it/s]"
          ]
        },
        {
          "output_type": "stream",
          "name": "stdout",
          "text": [
            "                   all         19         19      0.794      0.862      0.818      0.671\n"
          ]
        },
        {
          "output_type": "stream",
          "name": "stderr",
          "text": [
            "\n"
          ]
        },
        {
          "output_type": "stream",
          "name": "stdout",
          "text": [
            "\n",
            "      Epoch    GPU_mem   box_loss   cls_loss   dfl_loss  Instances       Size\n"
          ]
        },
        {
          "output_type": "stream",
          "name": "stderr",
          "text": [
            "     17/100     0.493G      0.796     0.9727      1.167         23        288: 100%|██████████| 4/4 [00:00<00:00,  5.66it/s]\n",
            "                 Class     Images  Instances      Box(P          R      mAP50  mAP50-95): 100%|██████████| 1/1 [00:00<00:00,  6.05it/s]\n"
          ]
        },
        {
          "output_type": "stream",
          "name": "stdout",
          "text": [
            "                   all         19         19      0.669      0.889      0.786      0.656\n",
            "\n",
            "      Epoch    GPU_mem   box_loss   cls_loss   dfl_loss  Instances       Size\n"
          ]
        },
        {
          "output_type": "stream",
          "name": "stderr",
          "text": [
            "     18/100     0.493G     0.7728      0.898        1.1         22        288: 100%|██████████| 4/4 [00:00<00:00,  4.92it/s]\n",
            "                 Class     Images  Instances      Box(P          R      mAP50  mAP50-95): 100%|██████████| 1/1 [00:00<00:00,  9.79it/s]"
          ]
        },
        {
          "output_type": "stream",
          "name": "stdout",
          "text": [
            "                   all         19         19      0.729      0.727      0.814      0.681\n"
          ]
        },
        {
          "output_type": "stream",
          "name": "stderr",
          "text": [
            "\n"
          ]
        },
        {
          "output_type": "stream",
          "name": "stdout",
          "text": [
            "\n",
            "      Epoch    GPU_mem   box_loss   cls_loss   dfl_loss  Instances       Size\n"
          ]
        },
        {
          "output_type": "stream",
          "name": "stderr",
          "text": [
            "     19/100     0.493G     0.7726     0.9935        1.1         26        288: 100%|██████████| 4/4 [00:00<00:00,  8.70it/s]\n",
            "                 Class     Images  Instances      Box(P          R      mAP50  mAP50-95): 100%|██████████| 1/1 [00:00<00:00, 10.71it/s]\n"
          ]
        },
        {
          "output_type": "stream",
          "name": "stdout",
          "text": [
            "                   all         19         19      0.602      0.881       0.81       0.68\n",
            "\n",
            "      Epoch    GPU_mem   box_loss   cls_loss   dfl_loss  Instances       Size\n"
          ]
        },
        {
          "output_type": "stream",
          "name": "stderr",
          "text": [
            "     20/100     0.493G     0.7095     0.9045      1.098         22        288: 100%|██████████| 4/4 [00:00<00:00,  8.58it/s]\n",
            "                 Class     Images  Instances      Box(P          R      mAP50  mAP50-95): 100%|██████████| 1/1 [00:00<00:00,  9.20it/s]"
          ]
        },
        {
          "output_type": "stream",
          "name": "stdout",
          "text": [
            "                   all         19         19      0.886      0.869      0.887      0.758\n"
          ]
        },
        {
          "output_type": "stream",
          "name": "stderr",
          "text": [
            "\n"
          ]
        },
        {
          "output_type": "stream",
          "name": "stdout",
          "text": [
            "\n",
            "      Epoch    GPU_mem   box_loss   cls_loss   dfl_loss  Instances       Size\n"
          ]
        },
        {
          "output_type": "stream",
          "name": "stderr",
          "text": [
            "     21/100     0.493G     0.6832     0.8312      1.073         25        288: 100%|██████████| 4/4 [00:00<00:00,  8.35it/s]\n",
            "                 Class     Images  Instances      Box(P          R      mAP50  mAP50-95): 100%|██████████| 1/1 [00:00<00:00, 10.40it/s]"
          ]
        },
        {
          "output_type": "stream",
          "name": "stdout",
          "text": [
            "                   all         19         19      0.939      0.833      0.869      0.719\n"
          ]
        },
        {
          "output_type": "stream",
          "name": "stderr",
          "text": [
            "\n"
          ]
        },
        {
          "output_type": "stream",
          "name": "stdout",
          "text": [
            "\n",
            "      Epoch    GPU_mem   box_loss   cls_loss   dfl_loss  Instances       Size\n"
          ]
        },
        {
          "output_type": "stream",
          "name": "stderr",
          "text": [
            "     22/100     0.493G     0.7915     0.9265      1.123         25        288: 100%|██████████| 4/4 [00:00<00:00,  8.40it/s]\n",
            "                 Class     Images  Instances      Box(P          R      mAP50  mAP50-95): 100%|██████████| 1/1 [00:00<00:00, 10.07it/s]"
          ]
        },
        {
          "output_type": "stream",
          "name": "stdout",
          "text": [
            "                   all         19         19       0.87      0.778      0.848      0.705\n"
          ]
        },
        {
          "output_type": "stream",
          "name": "stderr",
          "text": [
            "\n"
          ]
        },
        {
          "output_type": "stream",
          "name": "stdout",
          "text": [
            "\n",
            "      Epoch    GPU_mem   box_loss   cls_loss   dfl_loss  Instances       Size\n"
          ]
        },
        {
          "output_type": "stream",
          "name": "stderr",
          "text": [
            "     23/100     0.505G     0.6886     0.8499       1.07         27        288: 100%|██████████| 4/4 [00:00<00:00,  8.51it/s]\n",
            "                 Class     Images  Instances      Box(P          R      mAP50  mAP50-95): 100%|██████████| 1/1 [00:00<00:00, 10.00it/s]"
          ]
        },
        {
          "output_type": "stream",
          "name": "stdout",
          "text": [
            "                   all         19         19      0.817      0.833      0.855      0.721\n"
          ]
        },
        {
          "output_type": "stream",
          "name": "stderr",
          "text": [
            "\n"
          ]
        },
        {
          "output_type": "stream",
          "name": "stdout",
          "text": [
            "\n",
            "      Epoch    GPU_mem   box_loss   cls_loss   dfl_loss  Instances       Size\n"
          ]
        },
        {
          "output_type": "stream",
          "name": "stderr",
          "text": [
            "     24/100     0.505G      0.711     0.8055        1.1         22        288: 100%|██████████| 4/4 [00:00<00:00,  8.49it/s]\n",
            "                 Class     Images  Instances      Box(P          R      mAP50  mAP50-95): 100%|██████████| 1/1 [00:00<00:00, 10.51it/s]"
          ]
        },
        {
          "output_type": "stream",
          "name": "stdout",
          "text": [
            "                   all         19         19      0.936      0.833      0.854      0.741\n"
          ]
        },
        {
          "output_type": "stream",
          "name": "stderr",
          "text": [
            "\n"
          ]
        },
        {
          "output_type": "stream",
          "name": "stdout",
          "text": [
            "\n",
            "      Epoch    GPU_mem   box_loss   cls_loss   dfl_loss  Instances       Size\n"
          ]
        },
        {
          "output_type": "stream",
          "name": "stderr",
          "text": [
            "     25/100     0.505G     0.6503     0.7854      1.042         28        288: 100%|██████████| 4/4 [00:00<00:00,  8.60it/s]\n",
            "                 Class     Images  Instances      Box(P          R      mAP50  mAP50-95): 100%|██████████| 1/1 [00:00<00:00,  9.68it/s]"
          ]
        },
        {
          "output_type": "stream",
          "name": "stdout",
          "text": [
            "                   all         19         19       0.71      0.833      0.844       0.66\n"
          ]
        },
        {
          "output_type": "stream",
          "name": "stderr",
          "text": [
            "\n"
          ]
        },
        {
          "output_type": "stream",
          "name": "stdout",
          "text": [
            "\n",
            "      Epoch    GPU_mem   box_loss   cls_loss   dfl_loss  Instances       Size\n"
          ]
        },
        {
          "output_type": "stream",
          "name": "stderr",
          "text": [
            "     26/100     0.505G      0.665     0.7896      1.052         25        288: 100%|██████████| 4/4 [00:00<00:00,  8.30it/s]\n",
            "                 Class     Images  Instances      Box(P          R      mAP50  mAP50-95): 100%|██████████| 1/1 [00:00<00:00, 10.22it/s]"
          ]
        },
        {
          "output_type": "stream",
          "name": "stdout",
          "text": [
            "                   all         19         19      0.848      0.667      0.791       0.52\n"
          ]
        },
        {
          "output_type": "stream",
          "name": "stderr",
          "text": [
            "\n"
          ]
        },
        {
          "output_type": "stream",
          "name": "stdout",
          "text": [
            "\n",
            "      Epoch    GPU_mem   box_loss   cls_loss   dfl_loss  Instances       Size\n"
          ]
        },
        {
          "output_type": "stream",
          "name": "stderr",
          "text": [
            "     27/100     0.505G     0.7208     0.8741      1.101         23        288: 100%|██████████| 4/4 [00:00<00:00,  5.90it/s]\n",
            "                 Class     Images  Instances      Box(P          R      mAP50  mAP50-95): 100%|██████████| 1/1 [00:00<00:00,  6.53it/s]"
          ]
        },
        {
          "output_type": "stream",
          "name": "stdout",
          "text": [
            "                   all         19         19      0.669      0.767      0.772      0.558\n"
          ]
        },
        {
          "output_type": "stream",
          "name": "stderr",
          "text": [
            "\n"
          ]
        },
        {
          "output_type": "stream",
          "name": "stdout",
          "text": [
            "\n",
            "      Epoch    GPU_mem   box_loss   cls_loss   dfl_loss  Instances       Size\n"
          ]
        },
        {
          "output_type": "stream",
          "name": "stderr",
          "text": [
            "     28/100     0.505G     0.6667     0.9424      1.078         18        288: 100%|██████████| 4/4 [00:00<00:00,  5.92it/s]\n",
            "                 Class     Images  Instances      Box(P          R      mAP50  mAP50-95): 100%|██████████| 1/1 [00:00<00:00,  6.41it/s]\n"
          ]
        },
        {
          "output_type": "stream",
          "name": "stdout",
          "text": [
            "                   all         19         19      0.785      0.833      0.784      0.601\n",
            "\n",
            "      Epoch    GPU_mem   box_loss   cls_loss   dfl_loss  Instances       Size\n"
          ]
        },
        {
          "output_type": "stream",
          "name": "stderr",
          "text": [
            "     29/100     0.505G      0.723     0.7942      1.095         25        288: 100%|██████████| 4/4 [00:00<00:00,  5.03it/s]\n",
            "                 Class     Images  Instances      Box(P          R      mAP50  mAP50-95): 100%|██████████| 1/1 [00:00<00:00,  6.03it/s]"
          ]
        },
        {
          "output_type": "stream",
          "name": "stdout",
          "text": [
            "                   all         19         19      0.823      0.889      0.827      0.678\n"
          ]
        },
        {
          "output_type": "stream",
          "name": "stderr",
          "text": [
            "\n"
          ]
        },
        {
          "output_type": "stream",
          "name": "stdout",
          "text": [
            "\n",
            "      Epoch    GPU_mem   box_loss   cls_loss   dfl_loss  Instances       Size\n"
          ]
        },
        {
          "output_type": "stream",
          "name": "stderr",
          "text": [
            "     30/100     0.505G     0.7171     0.8401      1.071         23        288: 100%|██████████| 4/4 [00:00<00:00,  5.85it/s]\n",
            "                 Class     Images  Instances      Box(P          R      mAP50  mAP50-95): 100%|██████████| 1/1 [00:00<00:00,  8.25it/s]"
          ]
        },
        {
          "output_type": "stream",
          "name": "stdout",
          "text": [
            "                   all         19         19      0.837      0.884      0.891       0.69\n"
          ]
        },
        {
          "output_type": "stream",
          "name": "stderr",
          "text": [
            "\n"
          ]
        },
        {
          "output_type": "stream",
          "name": "stdout",
          "text": [
            "\n",
            "      Epoch    GPU_mem   box_loss   cls_loss   dfl_loss  Instances       Size\n"
          ]
        },
        {
          "output_type": "stream",
          "name": "stderr",
          "text": [
            "     31/100     0.505G     0.7486     0.7937      1.088         29        288: 100%|██████████| 4/4 [00:00<00:00,  8.08it/s]\n",
            "                 Class     Images  Instances      Box(P          R      mAP50  mAP50-95): 100%|██████████| 1/1 [00:00<00:00, 10.27it/s]"
          ]
        },
        {
          "output_type": "stream",
          "name": "stdout",
          "text": [
            "                   all         19         19      0.882      0.889      0.892      0.706\n"
          ]
        },
        {
          "output_type": "stream",
          "name": "stderr",
          "text": [
            "\n"
          ]
        },
        {
          "output_type": "stream",
          "name": "stdout",
          "text": [
            "\n",
            "      Epoch    GPU_mem   box_loss   cls_loss   dfl_loss  Instances       Size\n"
          ]
        },
        {
          "output_type": "stream",
          "name": "stderr",
          "text": [
            "     32/100     0.505G     0.6852     0.8646      1.047         20        288: 100%|██████████| 4/4 [00:00<00:00,  8.41it/s]\n",
            "                 Class     Images  Instances      Box(P          R      mAP50  mAP50-95): 100%|██████████| 1/1 [00:00<00:00, 10.00it/s]"
          ]
        },
        {
          "output_type": "stream",
          "name": "stdout",
          "text": [
            "                   all         19         19      0.928      0.833      0.883      0.709\n"
          ]
        },
        {
          "output_type": "stream",
          "name": "stderr",
          "text": [
            "\n"
          ]
        },
        {
          "output_type": "stream",
          "name": "stdout",
          "text": [
            "\n",
            "      Epoch    GPU_mem   box_loss   cls_loss   dfl_loss  Instances       Size\n"
          ]
        },
        {
          "output_type": "stream",
          "name": "stderr",
          "text": [
            "     33/100     0.505G     0.7256     0.8271      1.072         28        288: 100%|██████████| 4/4 [00:00<00:00,  8.32it/s]\n",
            "                 Class     Images  Instances      Box(P          R      mAP50  mAP50-95): 100%|██████████| 1/1 [00:00<00:00, 10.64it/s]"
          ]
        },
        {
          "output_type": "stream",
          "name": "stdout",
          "text": [
            "                   all         19         19      0.986      0.886      0.888      0.705\n"
          ]
        },
        {
          "output_type": "stream",
          "name": "stderr",
          "text": [
            "\n"
          ]
        },
        {
          "output_type": "stream",
          "name": "stdout",
          "text": [
            "\n",
            "      Epoch    GPU_mem   box_loss   cls_loss   dfl_loss  Instances       Size\n"
          ]
        },
        {
          "output_type": "stream",
          "name": "stderr",
          "text": [
            "     34/100     0.505G     0.6997      0.796      1.095         20        288: 100%|██████████| 4/4 [00:00<00:00,  8.97it/s]\n",
            "                 Class     Images  Instances      Box(P          R      mAP50  mAP50-95): 100%|██████████| 1/1 [00:00<00:00, 10.27it/s]"
          ]
        },
        {
          "output_type": "stream",
          "name": "stdout",
          "text": [
            "                   all         19         19      0.977      0.889      0.888      0.686\n"
          ]
        },
        {
          "output_type": "stream",
          "name": "stderr",
          "text": [
            "\n"
          ]
        },
        {
          "output_type": "stream",
          "name": "stdout",
          "text": [
            "\n",
            "      Epoch    GPU_mem   box_loss   cls_loss   dfl_loss  Instances       Size\n"
          ]
        },
        {
          "output_type": "stream",
          "name": "stderr",
          "text": [
            "     35/100     0.505G     0.5988     0.7455      1.017         27        288: 100%|██████████| 4/4 [00:00<00:00,  8.96it/s]\n",
            "                 Class     Images  Instances      Box(P          R      mAP50  mAP50-95): 100%|██████████| 1/1 [00:00<00:00,  9.53it/s]"
          ]
        },
        {
          "output_type": "stream",
          "name": "stdout",
          "text": [
            "                   all         19         19       0.82      0.889      0.881      0.613\n"
          ]
        },
        {
          "output_type": "stream",
          "name": "stderr",
          "text": [
            "\n"
          ]
        },
        {
          "output_type": "stream",
          "name": "stdout",
          "text": [
            "\n",
            "      Epoch    GPU_mem   box_loss   cls_loss   dfl_loss  Instances       Size\n"
          ]
        },
        {
          "output_type": "stream",
          "name": "stderr",
          "text": [
            "     36/100     0.505G     0.6785     0.7536      1.049         23        288: 100%|██████████| 4/4 [00:00<00:00,  8.52it/s]\n",
            "                 Class     Images  Instances      Box(P          R      mAP50  mAP50-95): 100%|██████████| 1/1 [00:00<00:00, 10.63it/s]"
          ]
        },
        {
          "output_type": "stream",
          "name": "stdout",
          "text": [
            "                   all         19         19      0.854      0.889      0.882      0.556\n"
          ]
        },
        {
          "output_type": "stream",
          "name": "stderr",
          "text": [
            "\n"
          ]
        },
        {
          "output_type": "stream",
          "name": "stdout",
          "text": [
            "\n",
            "      Epoch    GPU_mem   box_loss   cls_loss   dfl_loss  Instances       Size\n"
          ]
        },
        {
          "output_type": "stream",
          "name": "stderr",
          "text": [
            "     37/100     0.505G     0.6373     0.7075      1.011         26        288: 100%|██████████| 4/4 [00:00<00:00,  8.37it/s]\n",
            "                 Class     Images  Instances      Box(P          R      mAP50  mAP50-95): 100%|██████████| 1/1 [00:00<00:00,  9.45it/s]"
          ]
        },
        {
          "output_type": "stream",
          "name": "stdout",
          "text": [
            "                   all         19         19      0.864      0.889      0.857      0.569\n"
          ]
        },
        {
          "output_type": "stream",
          "name": "stderr",
          "text": [
            "\n"
          ]
        },
        {
          "output_type": "stream",
          "name": "stdout",
          "text": [
            "\n",
            "      Epoch    GPU_mem   box_loss   cls_loss   dfl_loss  Instances       Size\n"
          ]
        },
        {
          "output_type": "stream",
          "name": "stderr",
          "text": [
            "     38/100     0.505G     0.6434     0.7682      1.065         27        288: 100%|██████████| 4/4 [00:00<00:00,  8.72it/s]\n",
            "                 Class     Images  Instances      Box(P          R      mAP50  mAP50-95): 100%|██████████| 1/1 [00:00<00:00, 10.76it/s]"
          ]
        },
        {
          "output_type": "stream",
          "name": "stdout",
          "text": [
            "                   all         19         19      0.885       0.88       0.83      0.601\n"
          ]
        },
        {
          "output_type": "stream",
          "name": "stderr",
          "text": [
            "\n"
          ]
        },
        {
          "output_type": "stream",
          "name": "stdout",
          "text": [
            "\n",
            "      Epoch    GPU_mem   box_loss   cls_loss   dfl_loss  Instances       Size\n"
          ]
        },
        {
          "output_type": "stream",
          "name": "stderr",
          "text": [
            "     39/100     0.505G       0.68     0.7489      1.068         19        288: 100%|██████████| 4/4 [00:00<00:00,  6.11it/s]\n",
            "                 Class     Images  Instances      Box(P          R      mAP50  mAP50-95): 100%|██████████| 1/1 [00:00<00:00,  6.74it/s]"
          ]
        },
        {
          "output_type": "stream",
          "name": "stdout",
          "text": [
            "                   all         19         19      0.838      0.889      0.805      0.585\n"
          ]
        },
        {
          "output_type": "stream",
          "name": "stderr",
          "text": [
            "\n"
          ]
        },
        {
          "output_type": "stream",
          "name": "stdout",
          "text": [
            "\n",
            "      Epoch    GPU_mem   box_loss   cls_loss   dfl_loss  Instances       Size\n"
          ]
        },
        {
          "output_type": "stream",
          "name": "stderr",
          "text": [
            "     40/100     0.505G     0.6286     0.7236      1.044         22        288: 100%|██████████| 4/4 [00:00<00:00,  5.47it/s]\n",
            "                 Class     Images  Instances      Box(P          R      mAP50  mAP50-95): 100%|██████████| 1/1 [00:00<00:00,  6.24it/s]\n"
          ]
        },
        {
          "output_type": "stream",
          "name": "stdout",
          "text": [
            "                   all         19         19      0.833      0.887      0.803      0.587\n",
            "\n",
            "      Epoch    GPU_mem   box_loss   cls_loss   dfl_loss  Instances       Size\n"
          ]
        },
        {
          "output_type": "stream",
          "name": "stderr",
          "text": [
            "     41/100     0.505G     0.6677     0.7733      1.083         18        288: 100%|██████████| 4/4 [00:00<00:00,  5.36it/s]\n",
            "                 Class     Images  Instances      Box(P          R      mAP50  mAP50-95): 100%|██████████| 1/1 [00:00<00:00,  6.18it/s]\n"
          ]
        },
        {
          "output_type": "stream",
          "name": "stdout",
          "text": [
            "                   all         19         19      0.856      0.886      0.802      0.602\n",
            "\n",
            "      Epoch    GPU_mem   box_loss   cls_loss   dfl_loss  Instances       Size\n"
          ]
        },
        {
          "output_type": "stream",
          "name": "stderr",
          "text": [
            "     42/100     0.505G     0.6057     0.7371      1.032         21        288: 100%|██████████| 4/4 [00:00<00:00,  5.24it/s]\n",
            "                 Class     Images  Instances      Box(P          R      mAP50  mAP50-95): 100%|██████████| 1/1 [00:00<00:00,  6.72it/s]"
          ]
        },
        {
          "output_type": "stream",
          "name": "stdout",
          "text": [
            "                   all         19         19      0.862      0.884      0.806      0.633\n"
          ]
        },
        {
          "output_type": "stream",
          "name": "stderr",
          "text": [
            "\n"
          ]
        },
        {
          "output_type": "stream",
          "name": "stdout",
          "text": [
            "\n",
            "      Epoch    GPU_mem   box_loss   cls_loss   dfl_loss  Instances       Size\n"
          ]
        },
        {
          "output_type": "stream",
          "name": "stderr",
          "text": [
            "     43/100     0.505G     0.6522     0.7334      1.023         24        288: 100%|██████████| 4/4 [00:00<00:00,  5.60it/s]\n",
            "                 Class     Images  Instances      Box(P          R      mAP50  mAP50-95): 100%|██████████| 1/1 [00:00<00:00, 10.45it/s]"
          ]
        },
        {
          "output_type": "stream",
          "name": "stdout",
          "text": [
            "                   all         19         19      0.825      0.889      0.805      0.648\n"
          ]
        },
        {
          "output_type": "stream",
          "name": "stderr",
          "text": [
            "\n"
          ]
        },
        {
          "output_type": "stream",
          "name": "stdout",
          "text": [
            "\n",
            "      Epoch    GPU_mem   box_loss   cls_loss   dfl_loss  Instances       Size\n"
          ]
        },
        {
          "output_type": "stream",
          "name": "stderr",
          "text": [
            "     44/100     0.505G     0.6071     0.7423       1.02         21        288: 100%|██████████| 4/4 [00:00<00:00,  8.11it/s]\n",
            "                 Class     Images  Instances      Box(P          R      mAP50  mAP50-95): 100%|██████████| 1/1 [00:00<00:00, 10.62it/s]"
          ]
        },
        {
          "output_type": "stream",
          "name": "stdout",
          "text": [
            "                   all         19         19       0.83      0.889       0.83      0.677\n"
          ]
        },
        {
          "output_type": "stream",
          "name": "stderr",
          "text": [
            "\n"
          ]
        },
        {
          "output_type": "stream",
          "name": "stdout",
          "text": [
            "\n",
            "      Epoch    GPU_mem   box_loss   cls_loss   dfl_loss  Instances       Size\n"
          ]
        },
        {
          "output_type": "stream",
          "name": "stderr",
          "text": [
            "     45/100     0.505G     0.6763     0.7524      1.052         28        288: 100%|██████████| 4/4 [00:00<00:00,  8.66it/s]\n",
            "                 Class     Images  Instances      Box(P          R      mAP50  mAP50-95): 100%|██████████| 1/1 [00:00<00:00, 10.84it/s]"
          ]
        },
        {
          "output_type": "stream",
          "name": "stdout",
          "text": [
            "                   all         19         19      0.879      0.883      0.839      0.695\n"
          ]
        },
        {
          "output_type": "stream",
          "name": "stderr",
          "text": [
            "\n"
          ]
        },
        {
          "output_type": "stream",
          "name": "stdout",
          "text": [
            "\n",
            "      Epoch    GPU_mem   box_loss   cls_loss   dfl_loss  Instances       Size\n"
          ]
        },
        {
          "output_type": "stream",
          "name": "stderr",
          "text": [
            "     46/100     0.505G     0.6708     0.6885      1.035         22        288: 100%|██████████| 4/4 [00:00<00:00,  8.79it/s]\n",
            "                 Class     Images  Instances      Box(P          R      mAP50  mAP50-95): 100%|██████████| 1/1 [00:00<00:00, 10.51it/s]"
          ]
        },
        {
          "output_type": "stream",
          "name": "stdout",
          "text": [
            "                   all         19         19      0.858      0.811      0.839      0.688\n"
          ]
        },
        {
          "output_type": "stream",
          "name": "stderr",
          "text": [
            "\n"
          ]
        },
        {
          "output_type": "stream",
          "name": "stdout",
          "text": [
            "\n",
            "      Epoch    GPU_mem   box_loss   cls_loss   dfl_loss  Instances       Size\n"
          ]
        },
        {
          "output_type": "stream",
          "name": "stderr",
          "text": [
            "     47/100     0.505G     0.5883     0.7005      1.041         27        288: 100%|██████████| 4/4 [00:00<00:00,  8.76it/s]\n",
            "                 Class     Images  Instances      Box(P          R      mAP50  mAP50-95): 100%|██████████| 1/1 [00:00<00:00, 10.44it/s]"
          ]
        },
        {
          "output_type": "stream",
          "name": "stdout",
          "text": [
            "                   all         19         19      0.863      0.772       0.86      0.676\n"
          ]
        },
        {
          "output_type": "stream",
          "name": "stderr",
          "text": [
            "\n"
          ]
        },
        {
          "output_type": "stream",
          "name": "stdout",
          "text": [
            "\n",
            "      Epoch    GPU_mem   box_loss   cls_loss   dfl_loss  Instances       Size\n"
          ]
        },
        {
          "output_type": "stream",
          "name": "stderr",
          "text": [
            "     48/100     0.505G     0.6225     0.6611       1.02         24        288: 100%|██████████| 4/4 [00:00<00:00,  8.59it/s]\n",
            "                 Class     Images  Instances      Box(P          R      mAP50  mAP50-95): 100%|██████████| 1/1 [00:00<00:00,  9.57it/s]"
          ]
        },
        {
          "output_type": "stream",
          "name": "stdout",
          "text": [
            "                   all         19         19      0.804       0.86      0.881      0.688\n"
          ]
        },
        {
          "output_type": "stream",
          "name": "stderr",
          "text": [
            "\n"
          ]
        },
        {
          "output_type": "stream",
          "name": "stdout",
          "text": [
            "\n",
            "      Epoch    GPU_mem   box_loss   cls_loss   dfl_loss  Instances       Size\n"
          ]
        },
        {
          "output_type": "stream",
          "name": "stderr",
          "text": [
            "     49/100     0.505G     0.6139     0.6826       1.04         25        288: 100%|██████████| 4/4 [00:00<00:00,  8.31it/s]\n",
            "                 Class     Images  Instances      Box(P          R      mAP50  mAP50-95): 100%|██████████| 1/1 [00:00<00:00, 10.65it/s]"
          ]
        },
        {
          "output_type": "stream",
          "name": "stdout",
          "text": [
            "                   all         19         19      0.811      0.889      0.871      0.687\n"
          ]
        },
        {
          "output_type": "stream",
          "name": "stderr",
          "text": [
            "\n"
          ]
        },
        {
          "output_type": "stream",
          "name": "stdout",
          "text": [
            "\n",
            "      Epoch    GPU_mem   box_loss   cls_loss   dfl_loss  Instances       Size\n"
          ]
        },
        {
          "output_type": "stream",
          "name": "stderr",
          "text": [
            "     50/100     0.505G     0.6132     0.6707      1.031         23        288: 100%|██████████| 4/4 [00:00<00:00,  8.15it/s]\n",
            "                 Class     Images  Instances      Box(P          R      mAP50  mAP50-95): 100%|██████████| 1/1 [00:00<00:00, 10.52it/s]"
          ]
        },
        {
          "output_type": "stream",
          "name": "stdout",
          "text": [
            "                   all         19         19      0.863      0.889      0.866       0.74\n"
          ]
        },
        {
          "output_type": "stream",
          "name": "stderr",
          "text": [
            "\n"
          ]
        },
        {
          "output_type": "stream",
          "name": "stdout",
          "text": [
            "\n",
            "      Epoch    GPU_mem   box_loss   cls_loss   dfl_loss  Instances       Size\n"
          ]
        },
        {
          "output_type": "stream",
          "name": "stderr",
          "text": [
            "     51/100     0.505G      0.667     0.7283      1.057         17        288: 100%|██████████| 4/4 [00:00<00:00,  8.48it/s]\n",
            "                 Class     Images  Instances      Box(P          R      mAP50  mAP50-95): 100%|██████████| 1/1 [00:00<00:00, 10.16it/s]"
          ]
        },
        {
          "output_type": "stream",
          "name": "stdout",
          "text": [
            "                   all         19         19      0.863      0.889      0.838      0.733\n"
          ]
        },
        {
          "output_type": "stream",
          "name": "stderr",
          "text": [
            "\n"
          ]
        },
        {
          "output_type": "stream",
          "name": "stdout",
          "text": [
            "\n",
            "      Epoch    GPU_mem   box_loss   cls_loss   dfl_loss  Instances       Size\n"
          ]
        },
        {
          "output_type": "stream",
          "name": "stderr",
          "text": [
            "     52/100     0.505G     0.5731     0.6716      1.024         24        288: 100%|██████████| 4/4 [00:00<00:00,  6.47it/s]\n",
            "                 Class     Images  Instances      Box(P          R      mAP50  mAP50-95): 100%|██████████| 1/1 [00:00<00:00,  6.31it/s]\n"
          ]
        },
        {
          "output_type": "stream",
          "name": "stdout",
          "text": [
            "                   all         19         19      0.871      0.889      0.856      0.696\n",
            "\n",
            "      Epoch    GPU_mem   box_loss   cls_loss   dfl_loss  Instances       Size\n"
          ]
        },
        {
          "output_type": "stream",
          "name": "stderr",
          "text": [
            "     53/100     0.505G     0.5469      0.609     0.9986         23        288: 100%|██████████| 4/4 [00:00<00:00,  5.45it/s]\n",
            "                 Class     Images  Instances      Box(P          R      mAP50  mAP50-95): 100%|██████████| 1/1 [00:00<00:00,  3.73it/s]"
          ]
        },
        {
          "output_type": "stream",
          "name": "stdout",
          "text": [
            "                   all         19         19      0.864      0.889      0.875      0.714\n"
          ]
        },
        {
          "output_type": "stream",
          "name": "stderr",
          "text": [
            "\n"
          ]
        },
        {
          "output_type": "stream",
          "name": "stdout",
          "text": [
            "\n",
            "      Epoch    GPU_mem   box_loss   cls_loss   dfl_loss  Instances       Size\n"
          ]
        },
        {
          "output_type": "stream",
          "name": "stderr",
          "text": [
            "     54/100     0.505G     0.5823      0.646      1.026         23        288: 100%|██████████| 4/4 [00:01<00:00,  2.17it/s]\n",
            "                 Class     Images  Instances      Box(P          R      mAP50  mAP50-95): 100%|██████████| 1/1 [00:00<00:00,  6.58it/s]"
          ]
        },
        {
          "output_type": "stream",
          "name": "stdout",
          "text": [
            "                   all         19         19      0.856      0.876       0.86       0.73\n"
          ]
        },
        {
          "output_type": "stream",
          "name": "stderr",
          "text": [
            "\n"
          ]
        },
        {
          "output_type": "stream",
          "name": "stdout",
          "text": [
            "\n",
            "      Epoch    GPU_mem   box_loss   cls_loss   dfl_loss  Instances       Size\n"
          ]
        },
        {
          "output_type": "stream",
          "name": "stderr",
          "text": [
            "     55/100     0.505G      0.598     0.6435      1.003         23        288: 100%|██████████| 4/4 [00:00<00:00,  8.52it/s]\n",
            "                 Class     Images  Instances      Box(P          R      mAP50  mAP50-95): 100%|██████████| 1/1 [00:00<00:00, 10.19it/s]"
          ]
        },
        {
          "output_type": "stream",
          "name": "stdout",
          "text": [
            "                   all         19         19      0.842      0.883      0.847      0.753\n"
          ]
        },
        {
          "output_type": "stream",
          "name": "stderr",
          "text": [
            "\n"
          ]
        },
        {
          "output_type": "stream",
          "name": "stdout",
          "text": [
            "\n",
            "      Epoch    GPU_mem   box_loss   cls_loss   dfl_loss  Instances       Size\n"
          ]
        },
        {
          "output_type": "stream",
          "name": "stderr",
          "text": [
            "     56/100     0.505G     0.5691     0.6116      1.007         27        288: 100%|██████████| 4/4 [00:00<00:00,  7.74it/s]\n",
            "                 Class     Images  Instances      Box(P          R      mAP50  mAP50-95): 100%|██████████| 1/1 [00:00<00:00, 10.03it/s]"
          ]
        },
        {
          "output_type": "stream",
          "name": "stdout",
          "text": [
            "                   all         19         19      0.864      0.855      0.856      0.763\n"
          ]
        },
        {
          "output_type": "stream",
          "name": "stderr",
          "text": [
            "\n"
          ]
        },
        {
          "output_type": "stream",
          "name": "stdout",
          "text": [
            "\n",
            "      Epoch    GPU_mem   box_loss   cls_loss   dfl_loss  Instances       Size\n"
          ]
        },
        {
          "output_type": "stream",
          "name": "stderr",
          "text": [
            "     57/100     0.505G     0.5562     0.6031      1.006         27        288: 100%|██████████| 4/4 [00:00<00:00,  8.71it/s]\n",
            "                 Class     Images  Instances      Box(P          R      mAP50  mAP50-95): 100%|██████████| 1/1 [00:00<00:00,  9.04it/s]"
          ]
        },
        {
          "output_type": "stream",
          "name": "stdout",
          "text": [
            "                   all         19         19      0.852      0.873      0.856      0.736\n"
          ]
        },
        {
          "output_type": "stream",
          "name": "stderr",
          "text": [
            "\n"
          ]
        },
        {
          "output_type": "stream",
          "name": "stdout",
          "text": [
            "\n",
            "      Epoch    GPU_mem   box_loss   cls_loss   dfl_loss  Instances       Size\n"
          ]
        },
        {
          "output_type": "stream",
          "name": "stderr",
          "text": [
            "     58/100     0.505G     0.5459        0.6      1.012         22        288: 100%|██████████| 4/4 [00:00<00:00,  8.51it/s]\n",
            "                 Class     Images  Instances      Box(P          R      mAP50  mAP50-95): 100%|██████████| 1/1 [00:00<00:00, 10.20it/s]"
          ]
        },
        {
          "output_type": "stream",
          "name": "stdout",
          "text": [
            "                   all         19         19      0.852      0.883      0.847      0.722\n"
          ]
        },
        {
          "output_type": "stream",
          "name": "stderr",
          "text": [
            "\n"
          ]
        },
        {
          "output_type": "stream",
          "name": "stdout",
          "text": [
            "\n",
            "      Epoch    GPU_mem   box_loss   cls_loss   dfl_loss  Instances       Size\n"
          ]
        },
        {
          "output_type": "stream",
          "name": "stderr",
          "text": [
            "     59/100     0.505G     0.5541     0.5699          1         19        288: 100%|██████████| 4/4 [00:00<00:00,  8.34it/s]\n",
            "                 Class     Images  Instances      Box(P          R      mAP50  mAP50-95): 100%|██████████| 1/1 [00:00<00:00, 10.33it/s]"
          ]
        },
        {
          "output_type": "stream",
          "name": "stdout",
          "text": [
            "                   all         19         19      0.875      0.889      0.826      0.734\n"
          ]
        },
        {
          "output_type": "stream",
          "name": "stderr",
          "text": [
            "\n"
          ]
        },
        {
          "output_type": "stream",
          "name": "stdout",
          "text": [
            "\n",
            "      Epoch    GPU_mem   box_loss   cls_loss   dfl_loss  Instances       Size\n"
          ]
        },
        {
          "output_type": "stream",
          "name": "stderr",
          "text": [
            "     60/100     0.505G     0.5703     0.6372      1.021         20        288: 100%|██████████| 4/4 [00:00<00:00,  8.09it/s]\n",
            "                 Class     Images  Instances      Box(P          R      mAP50  mAP50-95): 100%|██████████| 1/1 [00:00<00:00, 10.70it/s]"
          ]
        },
        {
          "output_type": "stream",
          "name": "stdout",
          "text": [
            "                   all         19         19      0.882      0.889      0.817       0.73\n"
          ]
        },
        {
          "output_type": "stream",
          "name": "stderr",
          "text": [
            "\n"
          ]
        },
        {
          "output_type": "stream",
          "name": "stdout",
          "text": [
            "\n",
            "      Epoch    GPU_mem   box_loss   cls_loss   dfl_loss  Instances       Size\n"
          ]
        },
        {
          "output_type": "stream",
          "name": "stderr",
          "text": [
            "     61/100     0.505G      0.502     0.5576     0.9877         27        288: 100%|██████████| 4/4 [00:00<00:00,  8.75it/s]\n",
            "                 Class     Images  Instances      Box(P          R      mAP50  mAP50-95): 100%|██████████| 1/1 [00:00<00:00, 10.38it/s]"
          ]
        },
        {
          "output_type": "stream",
          "name": "stdout",
          "text": [
            "                   all         19         19      0.882      0.889      0.837       0.72\n"
          ]
        },
        {
          "output_type": "stream",
          "name": "stderr",
          "text": [
            "\n"
          ]
        },
        {
          "output_type": "stream",
          "name": "stdout",
          "text": [
            "\n",
            "      Epoch    GPU_mem   box_loss   cls_loss   dfl_loss  Instances       Size\n"
          ]
        },
        {
          "output_type": "stream",
          "name": "stderr",
          "text": [
            "     62/100     0.505G     0.5014     0.5761     0.9589         21        288: 100%|██████████| 4/4 [00:00<00:00,  8.73it/s]\n",
            "                 Class     Images  Instances      Box(P          R      mAP50  mAP50-95): 100%|██████████| 1/1 [00:00<00:00, 10.26it/s]"
          ]
        },
        {
          "output_type": "stream",
          "name": "stdout",
          "text": [
            "                   all         19         19      0.879      0.889      0.831      0.715\n"
          ]
        },
        {
          "output_type": "stream",
          "name": "stderr",
          "text": [
            "\n"
          ]
        },
        {
          "output_type": "stream",
          "name": "stdout",
          "text": [
            "\n",
            "      Epoch    GPU_mem   box_loss   cls_loss   dfl_loss  Instances       Size\n"
          ]
        },
        {
          "output_type": "stream",
          "name": "stderr",
          "text": [
            "     63/100     0.505G     0.5653     0.6195      1.024         17        288: 100%|██████████| 4/4 [00:00<00:00,  5.71it/s]\n",
            "                 Class     Images  Instances      Box(P          R      mAP50  mAP50-95): 100%|██████████| 1/1 [00:00<00:00,  8.06it/s]"
          ]
        },
        {
          "output_type": "stream",
          "name": "stdout",
          "text": [
            "                   all         19         19      0.876      0.889      0.854      0.748\n"
          ]
        },
        {
          "output_type": "stream",
          "name": "stderr",
          "text": [
            "\n"
          ]
        },
        {
          "output_type": "stream",
          "name": "stdout",
          "text": [
            "\n",
            "      Epoch    GPU_mem   box_loss   cls_loss   dfl_loss  Instances       Size\n"
          ]
        },
        {
          "output_type": "stream",
          "name": "stderr",
          "text": [
            "     64/100     0.505G     0.5207     0.5863     0.9758         22        288: 100%|██████████| 4/4 [00:00<00:00,  5.63it/s]\n",
            "                 Class     Images  Instances      Box(P          R      mAP50  mAP50-95): 100%|██████████| 1/1 [00:00<00:00,  6.16it/s]\n"
          ]
        },
        {
          "output_type": "stream",
          "name": "stdout",
          "text": [
            "                   all         19         19      0.875      0.889      0.853      0.761\n",
            "\n",
            "      Epoch    GPU_mem   box_loss   cls_loss   dfl_loss  Instances       Size\n"
          ]
        },
        {
          "output_type": "stream",
          "name": "stderr",
          "text": [
            "     65/100     0.505G     0.5078     0.5687     0.9715         23        288: 100%|██████████| 4/4 [00:00<00:00,  5.34it/s]\n",
            "                 Class     Images  Instances      Box(P          R      mAP50  mAP50-95): 100%|██████████| 1/1 [00:00<00:00,  6.47it/s]"
          ]
        },
        {
          "output_type": "stream",
          "name": "stdout",
          "text": [
            "                   all         19         19      0.878      0.889      0.844      0.758\n"
          ]
        },
        {
          "output_type": "stream",
          "name": "stderr",
          "text": [
            "\n"
          ]
        },
        {
          "output_type": "stream",
          "name": "stdout",
          "text": [
            "\n",
            "      Epoch    GPU_mem   box_loss   cls_loss   dfl_loss  Instances       Size\n"
          ]
        },
        {
          "output_type": "stream",
          "name": "stderr",
          "text": [
            "     66/100     0.505G     0.4985     0.6188     0.9756         21        288: 100%|██████████| 4/4 [00:00<00:00,  5.03it/s]\n",
            "                 Class     Images  Instances      Box(P          R      mAP50  mAP50-95): 100%|██████████| 1/1 [00:00<00:00,  6.83it/s]"
          ]
        },
        {
          "output_type": "stream",
          "name": "stdout",
          "text": [
            "                   all         19         19      0.881      0.889      0.851      0.757\n"
          ]
        },
        {
          "output_type": "stream",
          "name": "stderr",
          "text": [
            "\n"
          ]
        },
        {
          "output_type": "stream",
          "name": "stdout",
          "text": [
            "\n",
            "      Epoch    GPU_mem   box_loss   cls_loss   dfl_loss  Instances       Size\n"
          ]
        },
        {
          "output_type": "stream",
          "name": "stderr",
          "text": [
            "     67/100     0.505G     0.5241     0.5576     0.9918         24        288: 100%|██████████| 4/4 [00:00<00:00,  5.14it/s]\n",
            "                 Class     Images  Instances      Box(P          R      mAP50  mAP50-95): 100%|██████████| 1/1 [00:00<00:00,  6.05it/s]\n"
          ]
        },
        {
          "output_type": "stream",
          "name": "stdout",
          "text": [
            "                   all         19         19      0.882      0.889      0.848      0.753\n",
            "\n",
            "      Epoch    GPU_mem   box_loss   cls_loss   dfl_loss  Instances       Size\n"
          ]
        },
        {
          "output_type": "stream",
          "name": "stderr",
          "text": [
            "     68/100     0.505G      0.506     0.5434     0.9883         29        288: 100%|██████████| 4/4 [00:00<00:00,  8.14it/s]\n",
            "                 Class     Images  Instances      Box(P          R      mAP50  mAP50-95): 100%|██████████| 1/1 [00:00<00:00, 10.13it/s]"
          ]
        },
        {
          "output_type": "stream",
          "name": "stdout",
          "text": [
            "                   all         19         19      0.881      0.889      0.833      0.755\n"
          ]
        },
        {
          "output_type": "stream",
          "name": "stderr",
          "text": [
            "\n"
          ]
        },
        {
          "output_type": "stream",
          "name": "stdout",
          "text": [
            "\n",
            "      Epoch    GPU_mem   box_loss   cls_loss   dfl_loss  Instances       Size\n"
          ]
        },
        {
          "output_type": "stream",
          "name": "stderr",
          "text": [
            "     69/100     0.505G     0.4875     0.5498     0.9854         24        288: 100%|██████████| 4/4 [00:00<00:00,  8.33it/s]\n",
            "                 Class     Images  Instances      Box(P          R      mAP50  mAP50-95): 100%|██████████| 1/1 [00:00<00:00,  8.76it/s]"
          ]
        },
        {
          "output_type": "stream",
          "name": "stdout",
          "text": [
            "                   all         19         19      0.882      0.889      0.832      0.743\n"
          ]
        },
        {
          "output_type": "stream",
          "name": "stderr",
          "text": [
            "\n"
          ]
        },
        {
          "output_type": "stream",
          "name": "stdout",
          "text": [
            "\n",
            "      Epoch    GPU_mem   box_loss   cls_loss   dfl_loss  Instances       Size\n"
          ]
        },
        {
          "output_type": "stream",
          "name": "stderr",
          "text": [
            "     70/100     0.505G     0.5349     0.5557      1.002         19        288: 100%|██████████| 4/4 [00:00<00:00,  8.54it/s]\n",
            "                 Class     Images  Instances      Box(P          R      mAP50  mAP50-95): 100%|██████████| 1/1 [00:00<00:00, 10.35it/s]"
          ]
        },
        {
          "output_type": "stream",
          "name": "stdout",
          "text": [
            "                   all         19         19      0.881      0.889      0.818      0.745\n"
          ]
        },
        {
          "output_type": "stream",
          "name": "stderr",
          "text": [
            "\n"
          ]
        },
        {
          "output_type": "stream",
          "name": "stdout",
          "text": [
            "\n",
            "      Epoch    GPU_mem   box_loss   cls_loss   dfl_loss  Instances       Size\n"
          ]
        },
        {
          "output_type": "stream",
          "name": "stderr",
          "text": [
            "     71/100     0.505G     0.4943     0.5491     0.9889         23        288: 100%|██████████| 4/4 [00:00<00:00,  8.48it/s]\n",
            "                 Class     Images  Instances      Box(P          R      mAP50  mAP50-95): 100%|██████████| 1/1 [00:00<00:00,  9.79it/s]"
          ]
        },
        {
          "output_type": "stream",
          "name": "stdout",
          "text": [
            "                   all         19         19      0.882      0.889      0.814      0.743\n"
          ]
        },
        {
          "output_type": "stream",
          "name": "stderr",
          "text": [
            "\n"
          ]
        },
        {
          "output_type": "stream",
          "name": "stdout",
          "text": [
            "\n",
            "      Epoch    GPU_mem   box_loss   cls_loss   dfl_loss  Instances       Size\n"
          ]
        },
        {
          "output_type": "stream",
          "name": "stderr",
          "text": [
            "     72/100     0.505G     0.5362     0.5949     0.9942         23        288: 100%|██████████| 4/4 [00:00<00:00,  8.52it/s]\n",
            "                 Class     Images  Instances      Box(P          R      mAP50  mAP50-95): 100%|██████████| 1/1 [00:00<00:00,  9.07it/s]"
          ]
        },
        {
          "output_type": "stream",
          "name": "stdout",
          "text": [
            "                   all         19         19       0.88      0.889      0.819      0.741\n"
          ]
        },
        {
          "output_type": "stream",
          "name": "stderr",
          "text": [
            "\n"
          ]
        },
        {
          "output_type": "stream",
          "name": "stdout",
          "text": [
            "\n",
            "      Epoch    GPU_mem   box_loss   cls_loss   dfl_loss  Instances       Size\n"
          ]
        },
        {
          "output_type": "stream",
          "name": "stderr",
          "text": [
            "     73/100     0.505G     0.4926     0.5687     0.9825         25        288: 100%|██████████| 4/4 [00:00<00:00,  8.16it/s]\n",
            "                 Class     Images  Instances      Box(P          R      mAP50  mAP50-95): 100%|██████████| 1/1 [00:00<00:00,  9.71it/s]"
          ]
        },
        {
          "output_type": "stream",
          "name": "stdout",
          "text": [
            "                   all         19         19      0.878      0.889      0.832      0.772\n"
          ]
        },
        {
          "output_type": "stream",
          "name": "stderr",
          "text": [
            "\n"
          ]
        },
        {
          "output_type": "stream",
          "name": "stdout",
          "text": [
            "\n",
            "      Epoch    GPU_mem   box_loss   cls_loss   dfl_loss  Instances       Size\n"
          ]
        },
        {
          "output_type": "stream",
          "name": "stderr",
          "text": [
            "     74/100     0.505G     0.4986     0.5213     0.9636         24        288: 100%|██████████| 4/4 [00:00<00:00,  8.26it/s]\n",
            "                 Class     Images  Instances      Box(P          R      mAP50  mAP50-95): 100%|██████████| 1/1 [00:00<00:00, 10.29it/s]"
          ]
        },
        {
          "output_type": "stream",
          "name": "stdout",
          "text": [
            "                   all         19         19      0.877      0.889      0.844       0.78\n"
          ]
        },
        {
          "output_type": "stream",
          "name": "stderr",
          "text": [
            "\n"
          ]
        },
        {
          "output_type": "stream",
          "name": "stdout",
          "text": [
            "\n",
            "      Epoch    GPU_mem   box_loss   cls_loss   dfl_loss  Instances       Size\n"
          ]
        },
        {
          "output_type": "stream",
          "name": "stderr",
          "text": [
            "     75/100     0.505G     0.4958     0.5619     0.9799         26        288: 100%|██████████| 4/4 [00:00<00:00,  8.54it/s]\n",
            "                 Class     Images  Instances      Box(P          R      mAP50  mAP50-95): 100%|██████████| 1/1 [00:00<00:00, 10.22it/s]"
          ]
        },
        {
          "output_type": "stream",
          "name": "stdout",
          "text": [
            "                   all         19         19      0.877      0.889      0.843      0.769\n"
          ]
        },
        {
          "output_type": "stream",
          "name": "stderr",
          "text": [
            "\n"
          ]
        },
        {
          "output_type": "stream",
          "name": "stdout",
          "text": [
            "\n",
            "      Epoch    GPU_mem   box_loss   cls_loss   dfl_loss  Instances       Size\n"
          ]
        },
        {
          "output_type": "stream",
          "name": "stderr",
          "text": [
            "     76/100     0.505G     0.4802     0.5256     0.9928         20        288: 100%|██████████| 4/4 [00:00<00:00,  5.36it/s]\n",
            "                 Class     Images  Instances      Box(P          R      mAP50  mAP50-95): 100%|██████████| 1/1 [00:00<00:00,  7.05it/s]"
          ]
        },
        {
          "output_type": "stream",
          "name": "stdout",
          "text": [
            "                   all         19         19      0.878      0.889      0.829      0.757\n"
          ]
        },
        {
          "output_type": "stream",
          "name": "stderr",
          "text": [
            "\n"
          ]
        },
        {
          "output_type": "stream",
          "name": "stdout",
          "text": [
            "\n",
            "      Epoch    GPU_mem   box_loss   cls_loss   dfl_loss  Instances       Size\n"
          ]
        },
        {
          "output_type": "stream",
          "name": "stderr",
          "text": [
            "     77/100     0.505G      0.529      0.618      1.017         24        288: 100%|██████████| 4/4 [00:00<00:00,  5.56it/s]\n",
            "                 Class     Images  Instances      Box(P          R      mAP50  mAP50-95): 100%|██████████| 1/1 [00:00<00:00,  6.02it/s]\n"
          ]
        },
        {
          "output_type": "stream",
          "name": "stdout",
          "text": [
            "                   all         19         19      0.877      0.889      0.829      0.757\n",
            "\n",
            "      Epoch    GPU_mem   box_loss   cls_loss   dfl_loss  Instances       Size\n"
          ]
        },
        {
          "output_type": "stream",
          "name": "stderr",
          "text": [
            "     78/100     0.505G     0.4842     0.5162     0.9525         21        288: 100%|██████████| 4/4 [00:00<00:00,  4.75it/s]\n",
            "                 Class     Images  Instances      Box(P          R      mAP50  mAP50-95): 100%|██████████| 1/1 [00:00<00:00,  6.23it/s]\n"
          ]
        },
        {
          "output_type": "stream",
          "name": "stdout",
          "text": [
            "                   all         19         19      0.877      0.889       0.83      0.756\n",
            "\n",
            "      Epoch    GPU_mem   box_loss   cls_loss   dfl_loss  Instances       Size\n"
          ]
        },
        {
          "output_type": "stream",
          "name": "stderr",
          "text": [
            "     79/100     0.505G     0.4592     0.5166     0.9664         21        288: 100%|██████████| 4/4 [00:00<00:00,  5.21it/s]\n",
            "                 Class     Images  Instances      Box(P          R      mAP50  mAP50-95): 100%|██████████| 1/1 [00:00<00:00,  6.70it/s]"
          ]
        },
        {
          "output_type": "stream",
          "name": "stdout",
          "text": [
            "                   all         19         19      0.878      0.889      0.837      0.759\n"
          ]
        },
        {
          "output_type": "stream",
          "name": "stderr",
          "text": [
            "\n"
          ]
        },
        {
          "output_type": "stream",
          "name": "stdout",
          "text": [
            "\n",
            "      Epoch    GPU_mem   box_loss   cls_loss   dfl_loss  Instances       Size\n"
          ]
        },
        {
          "output_type": "stream",
          "name": "stderr",
          "text": [
            "     80/100     0.505G     0.4589     0.5256     0.9622         21        288: 100%|██████████| 4/4 [00:00<00:00,  8.27it/s]\n",
            "                 Class     Images  Instances      Box(P          R      mAP50  mAP50-95): 100%|██████████| 1/1 [00:00<00:00, 10.25it/s]"
          ]
        },
        {
          "output_type": "stream",
          "name": "stdout",
          "text": [
            "                   all         19         19      0.878      0.889      0.836      0.759\n"
          ]
        },
        {
          "output_type": "stream",
          "name": "stderr",
          "text": [
            "\n"
          ]
        },
        {
          "output_type": "stream",
          "name": "stdout",
          "text": [
            "\n",
            "      Epoch    GPU_mem   box_loss   cls_loss   dfl_loss  Instances       Size\n"
          ]
        },
        {
          "output_type": "stream",
          "name": "stderr",
          "text": [
            "     81/100     0.505G      0.474      0.509     0.9686         27        288: 100%|██████████| 4/4 [00:00<00:00,  8.79it/s]\n",
            "                 Class     Images  Instances      Box(P          R      mAP50  mAP50-95): 100%|██████████| 1/1 [00:00<00:00, 10.54it/s]"
          ]
        },
        {
          "output_type": "stream",
          "name": "stdout",
          "text": [
            "                   all         19         19      0.877      0.889      0.845      0.786\n"
          ]
        },
        {
          "output_type": "stream",
          "name": "stderr",
          "text": [
            "\n"
          ]
        },
        {
          "output_type": "stream",
          "name": "stdout",
          "text": [
            "\n",
            "      Epoch    GPU_mem   box_loss   cls_loss   dfl_loss  Instances       Size\n"
          ]
        },
        {
          "output_type": "stream",
          "name": "stderr",
          "text": [
            "     82/100     0.505G     0.4536     0.5018     0.9535         19        288: 100%|██████████| 4/4 [00:00<00:00,  8.30it/s]\n",
            "                 Class     Images  Instances      Box(P          R      mAP50  mAP50-95): 100%|██████████| 1/1 [00:00<00:00,  9.40it/s]"
          ]
        },
        {
          "output_type": "stream",
          "name": "stdout",
          "text": [
            "                   all         19         19      0.878      0.889       0.84      0.779\n"
          ]
        },
        {
          "output_type": "stream",
          "name": "stderr",
          "text": [
            "\n"
          ]
        },
        {
          "output_type": "stream",
          "name": "stdout",
          "text": [
            "\n",
            "      Epoch    GPU_mem   box_loss   cls_loss   dfl_loss  Instances       Size\n"
          ]
        },
        {
          "output_type": "stream",
          "name": "stderr",
          "text": [
            "     83/100     0.505G     0.4888     0.5612     0.9853         18        288: 100%|██████████| 4/4 [00:00<00:00,  8.57it/s]\n",
            "                 Class     Images  Instances      Box(P          R      mAP50  mAP50-95): 100%|██████████| 1/1 [00:00<00:00, 10.48it/s]"
          ]
        },
        {
          "output_type": "stream",
          "name": "stdout",
          "text": [
            "                   all         19         19      0.878      0.889      0.851       0.79\n"
          ]
        },
        {
          "output_type": "stream",
          "name": "stderr",
          "text": [
            "\n"
          ]
        },
        {
          "output_type": "stream",
          "name": "stdout",
          "text": [
            "\n",
            "      Epoch    GPU_mem   box_loss   cls_loss   dfl_loss  Instances       Size\n"
          ]
        },
        {
          "output_type": "stream",
          "name": "stderr",
          "text": [
            "     84/100     0.505G     0.4539     0.5332     0.9836         22        288: 100%|██████████| 4/4 [00:00<00:00,  7.91it/s]\n",
            "                 Class     Images  Instances      Box(P          R      mAP50  mAP50-95): 100%|██████████| 1/1 [00:00<00:00,  9.73it/s]"
          ]
        },
        {
          "output_type": "stream",
          "name": "stdout",
          "text": [
            "                   all         19         19      0.877      0.889      0.851      0.791\n"
          ]
        },
        {
          "output_type": "stream",
          "name": "stderr",
          "text": [
            "\n"
          ]
        },
        {
          "output_type": "stream",
          "name": "stdout",
          "text": [
            "\n",
            "      Epoch    GPU_mem   box_loss   cls_loss   dfl_loss  Instances       Size\n"
          ]
        },
        {
          "output_type": "stream",
          "name": "stderr",
          "text": [
            "     85/100     0.505G     0.4876     0.5677       0.96         21        288: 100%|██████████| 4/4 [00:00<00:00,  8.51it/s]\n",
            "                 Class     Images  Instances      Box(P          R      mAP50  mAP50-95): 100%|██████████| 1/1 [00:00<00:00, 10.17it/s]"
          ]
        },
        {
          "output_type": "stream",
          "name": "stdout",
          "text": [
            "                   all         19         19      0.877      0.889      0.845      0.787\n"
          ]
        },
        {
          "output_type": "stream",
          "name": "stderr",
          "text": [
            "\n"
          ]
        },
        {
          "output_type": "stream",
          "name": "stdout",
          "text": [
            "\n",
            "      Epoch    GPU_mem   box_loss   cls_loss   dfl_loss  Instances       Size\n"
          ]
        },
        {
          "output_type": "stream",
          "name": "stderr",
          "text": [
            "     86/100     0.505G     0.4905     0.5104     0.9936         16        288: 100%|██████████| 4/4 [00:00<00:00,  7.99it/s]\n",
            "                 Class     Images  Instances      Box(P          R      mAP50  mAP50-95): 100%|██████████| 1/1 [00:00<00:00, 10.07it/s]"
          ]
        },
        {
          "output_type": "stream",
          "name": "stdout",
          "text": [
            "                   all         19         19      0.877      0.889      0.854      0.793\n"
          ]
        },
        {
          "output_type": "stream",
          "name": "stderr",
          "text": [
            "\n"
          ]
        },
        {
          "output_type": "stream",
          "name": "stdout",
          "text": [
            "\n",
            "      Epoch    GPU_mem   box_loss   cls_loss   dfl_loss  Instances       Size\n"
          ]
        },
        {
          "output_type": "stream",
          "name": "stderr",
          "text": [
            "     87/100     0.505G     0.4608     0.5027      0.981         24        288: 100%|██████████| 4/4 [00:00<00:00,  8.25it/s]\n",
            "                 Class     Images  Instances      Box(P          R      mAP50  mAP50-95): 100%|██████████| 1/1 [00:00<00:00,  9.60it/s]"
          ]
        },
        {
          "output_type": "stream",
          "name": "stdout",
          "text": [
            "                   all         19         19      0.875      0.889      0.863      0.794\n"
          ]
        },
        {
          "output_type": "stream",
          "name": "stderr",
          "text": [
            "\n"
          ]
        },
        {
          "output_type": "stream",
          "name": "stdout",
          "text": [
            "\n",
            "      Epoch    GPU_mem   box_loss   cls_loss   dfl_loss  Instances       Size\n"
          ]
        },
        {
          "output_type": "stream",
          "name": "stderr",
          "text": [
            "     88/100     0.505G     0.4351     0.4983     0.9748         21        288: 100%|██████████| 4/4 [00:00<00:00,  5.39it/s]\n",
            "                 Class     Images  Instances      Box(P          R      mAP50  mAP50-95): 100%|██████████| 1/1 [00:00<00:00,  7.68it/s]"
          ]
        },
        {
          "output_type": "stream",
          "name": "stdout",
          "text": [
            "                   all         19         19      0.875      0.889      0.845      0.772\n"
          ]
        },
        {
          "output_type": "stream",
          "name": "stderr",
          "text": [
            "\n"
          ]
        },
        {
          "output_type": "stream",
          "name": "stdout",
          "text": [
            "\n",
            "      Epoch    GPU_mem   box_loss   cls_loss   dfl_loss  Instances       Size\n"
          ]
        },
        {
          "output_type": "stream",
          "name": "stderr",
          "text": [
            "     89/100     0.505G     0.4266     0.5036     0.9404         24        288: 100%|██████████| 4/4 [00:00<00:00,  5.66it/s]\n",
            "                 Class     Images  Instances      Box(P          R      mAP50  mAP50-95): 100%|██████████| 1/1 [00:00<00:00,  5.90it/s]\n"
          ]
        },
        {
          "output_type": "stream",
          "name": "stdout",
          "text": [
            "                   all         19         19      0.875      0.889      0.854      0.783\n",
            "\n",
            "      Epoch    GPU_mem   box_loss   cls_loss   dfl_loss  Instances       Size\n"
          ]
        },
        {
          "output_type": "stream",
          "name": "stderr",
          "text": [
            "     90/100     0.505G     0.4277     0.4558     0.9709         23        288: 100%|██████████| 4/4 [00:00<00:00,  4.87it/s]\n",
            "                 Class     Images  Instances      Box(P          R      mAP50  mAP50-95): 100%|██████████| 1/1 [00:00<00:00,  7.06it/s]"
          ]
        },
        {
          "output_type": "stream",
          "name": "stdout",
          "text": [
            "                   all         19         19      0.876      0.889      0.845      0.782\n"
          ]
        },
        {
          "output_type": "stream",
          "name": "stderr",
          "text": [
            "\n"
          ]
        },
        {
          "output_type": "stream",
          "name": "stdout",
          "text": [
            "Closing dataloader mosaic\n",
            "\u001b[34m\u001b[1malbumentations: \u001b[0mBlur(p=0.01, blur_limit=(3, 7)), MedianBlur(p=0.01, blur_limit=(3, 7)), ToGray(p=0.01, num_output_channels=3, method='weighted_average'), CLAHE(p=0.01, clip_limit=(1.0, 4.0), tile_grid_size=(8, 8))\n",
            "\n",
            "      Epoch    GPU_mem   box_loss   cls_loss   dfl_loss  Instances       Size\n"
          ]
        },
        {
          "output_type": "stream",
          "name": "stderr",
          "text": [
            "     91/100     0.503G     0.3057     0.6889     0.8288          8        288: 100%|██████████| 4/4 [00:01<00:00,  2.89it/s]\n",
            "                 Class     Images  Instances      Box(P          R      mAP50  mAP50-95): 100%|██████████| 1/1 [00:00<00:00,  7.81it/s]"
          ]
        },
        {
          "output_type": "stream",
          "name": "stdout",
          "text": [
            "                   all         19         19      0.876      0.889      0.854      0.779\n"
          ]
        },
        {
          "output_type": "stream",
          "name": "stderr",
          "text": [
            "\n"
          ]
        },
        {
          "output_type": "stream",
          "name": "stdout",
          "text": [
            "\n",
            "      Epoch    GPU_mem   box_loss   cls_loss   dfl_loss  Instances       Size\n"
          ]
        },
        {
          "output_type": "stream",
          "name": "stderr",
          "text": [
            "     92/100     0.487G     0.3202     0.7726      0.878          8        288: 100%|██████████| 4/4 [00:00<00:00,  8.64it/s]\n",
            "                 Class     Images  Instances      Box(P          R      mAP50  mAP50-95): 100%|██████████| 1/1 [00:00<00:00,  9.14it/s]"
          ]
        },
        {
          "output_type": "stream",
          "name": "stdout",
          "text": [
            "                   all         19         19      0.877      0.889      0.845      0.764\n"
          ]
        },
        {
          "output_type": "stream",
          "name": "stderr",
          "text": [
            "\n"
          ]
        },
        {
          "output_type": "stream",
          "name": "stdout",
          "text": [
            "\n",
            "      Epoch    GPU_mem   box_loss   cls_loss   dfl_loss  Instances       Size\n"
          ]
        },
        {
          "output_type": "stream",
          "name": "stderr",
          "text": [
            "     93/100     0.491G     0.3366     0.6675     0.8635          8        288: 100%|██████████| 4/4 [00:00<00:00,  7.44it/s]\n",
            "                 Class     Images  Instances      Box(P          R      mAP50  mAP50-95): 100%|██████████| 1/1 [00:00<00:00,  8.82it/s]"
          ]
        },
        {
          "output_type": "stream",
          "name": "stdout",
          "text": [
            "                   all         19         19      0.879      0.889       0.84      0.764\n"
          ]
        },
        {
          "output_type": "stream",
          "name": "stderr",
          "text": [
            "\n"
          ]
        },
        {
          "output_type": "stream",
          "name": "stdout",
          "text": [
            "\n",
            "      Epoch    GPU_mem   box_loss   cls_loss   dfl_loss  Instances       Size\n"
          ]
        },
        {
          "output_type": "stream",
          "name": "stderr",
          "text": [
            "     94/100     0.503G     0.2961     0.5633     0.8758          8        288: 100%|██████████| 4/4 [00:00<00:00,  7.46it/s]\n",
            "                 Class     Images  Instances      Box(P          R      mAP50  mAP50-95): 100%|██████████| 1/1 [00:00<00:00,  8.32it/s]"
          ]
        },
        {
          "output_type": "stream",
          "name": "stdout",
          "text": [
            "                   all         19         19      0.879      0.889       0.84      0.768\n"
          ]
        },
        {
          "output_type": "stream",
          "name": "stderr",
          "text": [
            "\n"
          ]
        },
        {
          "output_type": "stream",
          "name": "stdout",
          "text": [
            "\n",
            "      Epoch    GPU_mem   box_loss   cls_loss   dfl_loss  Instances       Size\n"
          ]
        },
        {
          "output_type": "stream",
          "name": "stderr",
          "text": [
            "     95/100     0.503G     0.3073     0.5648     0.8947          8        288: 100%|██████████| 4/4 [00:00<00:00,  8.49it/s]\n",
            "                 Class     Images  Instances      Box(P          R      mAP50  mAP50-95): 100%|██████████| 1/1 [00:00<00:00, 10.46it/s]"
          ]
        },
        {
          "output_type": "stream",
          "name": "stdout",
          "text": [
            "                   all         19         19      0.879      0.889       0.84      0.768\n"
          ]
        },
        {
          "output_type": "stream",
          "name": "stderr",
          "text": [
            "\n"
          ]
        },
        {
          "output_type": "stream",
          "name": "stdout",
          "text": [
            "\n",
            "      Epoch    GPU_mem   box_loss   cls_loss   dfl_loss  Instances       Size\n"
          ]
        },
        {
          "output_type": "stream",
          "name": "stderr",
          "text": [
            "     96/100     0.503G     0.3012     0.5159     0.8801          8        288: 100%|██████████| 4/4 [00:00<00:00,  8.28it/s]\n",
            "                 Class     Images  Instances      Box(P          R      mAP50  mAP50-95): 100%|██████████| 1/1 [00:00<00:00, 10.20it/s]"
          ]
        },
        {
          "output_type": "stream",
          "name": "stdout",
          "text": [
            "                   all         19         19       0.88      0.889       0.84      0.767\n"
          ]
        },
        {
          "output_type": "stream",
          "name": "stderr",
          "text": [
            "\n"
          ]
        },
        {
          "output_type": "stream",
          "name": "stdout",
          "text": [
            "\n",
            "      Epoch    GPU_mem   box_loss   cls_loss   dfl_loss  Instances       Size\n"
          ]
        },
        {
          "output_type": "stream",
          "name": "stderr",
          "text": [
            "     97/100     0.503G     0.2949     0.4904     0.9152          8        288: 100%|██████████| 4/4 [00:00<00:00,  8.75it/s]\n",
            "                 Class     Images  Instances      Box(P          R      mAP50  mAP50-95): 100%|██████████| 1/1 [00:00<00:00, 10.01it/s]"
          ]
        },
        {
          "output_type": "stream",
          "name": "stdout",
          "text": [
            "                   all         19         19       0.88      0.889      0.841      0.765\n"
          ]
        },
        {
          "output_type": "stream",
          "name": "stderr",
          "text": [
            "\n"
          ]
        },
        {
          "output_type": "stream",
          "name": "stdout",
          "text": [
            "\n",
            "      Epoch    GPU_mem   box_loss   cls_loss   dfl_loss  Instances       Size\n"
          ]
        },
        {
          "output_type": "stream",
          "name": "stderr",
          "text": [
            "     98/100     0.503G     0.2965     0.5238      0.862          8        288: 100%|██████████| 4/4 [00:00<00:00,  8.74it/s]\n",
            "                 Class     Images  Instances      Box(P          R      mAP50  mAP50-95): 100%|██████████| 1/1 [00:00<00:00, 10.66it/s]"
          ]
        },
        {
          "output_type": "stream",
          "name": "stdout",
          "text": [
            "                   all         19         19       0.88      0.889      0.852      0.775\n"
          ]
        },
        {
          "output_type": "stream",
          "name": "stderr",
          "text": [
            "\n"
          ]
        },
        {
          "output_type": "stream",
          "name": "stdout",
          "text": [
            "\n",
            "      Epoch    GPU_mem   box_loss   cls_loss   dfl_loss  Instances       Size\n"
          ]
        },
        {
          "output_type": "stream",
          "name": "stderr",
          "text": [
            "     99/100     0.503G     0.2992     0.4981     0.8626          8        288: 100%|██████████| 4/4 [00:00<00:00,  9.08it/s]\n",
            "                 Class     Images  Instances      Box(P          R      mAP50  mAP50-95): 100%|██████████| 1/1 [00:00<00:00,  7.94it/s]"
          ]
        },
        {
          "output_type": "stream",
          "name": "stdout",
          "text": [
            "                   all         19         19       0.88      0.889      0.851      0.776\n"
          ]
        },
        {
          "output_type": "stream",
          "name": "stderr",
          "text": [
            "\n"
          ]
        },
        {
          "output_type": "stream",
          "name": "stdout",
          "text": [
            "\n",
            "      Epoch    GPU_mem   box_loss   cls_loss   dfl_loss  Instances       Size\n"
          ]
        },
        {
          "output_type": "stream",
          "name": "stderr",
          "text": [
            "    100/100     0.503G       0.29     0.5294     0.8362          8        288: 100%|██████████| 4/4 [00:00<00:00,  6.22it/s]\n",
            "                 Class     Images  Instances      Box(P          R      mAP50  mAP50-95): 100%|██████████| 1/1 [00:00<00:00,  7.80it/s]"
          ]
        },
        {
          "output_type": "stream",
          "name": "stdout",
          "text": [
            "                   all         19         19      0.881      0.889      0.851      0.769\n"
          ]
        },
        {
          "output_type": "stream",
          "name": "stderr",
          "text": [
            "\n"
          ]
        },
        {
          "output_type": "stream",
          "name": "stdout",
          "text": [
            "\n",
            "100 epochs completed in 0.042 hours.\n",
            "Optimizer stripped from runs/detect/train/weights/last.pt, 5.2MB\n",
            "Optimizer stripped from runs/detect/train/weights/best.pt, 5.2MB\n",
            "\n",
            "Validating runs/detect/train/weights/best.pt...\n",
            "Ultralytics 8.3.59 🚀 Python-3.10.12 torch-2.5.1+cu121 CUDA:0 (Tesla T4, 15102MiB)\n",
            "YOLOv5n summary (fused): 193 layers, 2,503,334 parameters, 0 gradients, 7.1 GFLOPs\n"
          ]
        },
        {
          "output_type": "stream",
          "name": "stderr",
          "text": [
            "                 Class     Images  Instances      Box(P          R      mAP50  mAP50-95): 100%|██████████| 1/1 [00:00<00:00,  6.08it/s]\n"
          ]
        },
        {
          "output_type": "stream",
          "name": "stdout",
          "text": [
            "                   all         19         19      0.875      0.889      0.863      0.794\n",
            "           cougar_body          9          9      0.774      0.778      0.732      0.614\n",
            "         windsor_chair         10         10      0.977          1      0.995      0.973\n",
            "Speed: 0.1ms preprocess, 1.2ms inference, 0.0ms loss, 2.1ms postprocess per image\n",
            "Results saved to \u001b[1mruns/detect/train\u001b[0m\n",
            "Ultralytics 8.3.59 🚀 Python-3.10.12 torch-2.5.1+cu121 CUDA:0 (Tesla T4, 15102MiB)\n",
            "YOLOv5n summary (fused): 193 layers, 2,503,334 parameters, 0 gradients, 7.1 GFLOPs\n"
          ]
        },
        {
          "output_type": "stream",
          "name": "stderr",
          "text": [
            "\u001b[34m\u001b[1mval: \u001b[0mScanning /content/dataset/val/labels.cache... 19 images, 0 backgrounds, 0 corrupt: 100%|██████████| 19/19 [00:00<?, ?it/s]\n",
            "                 Class     Images  Instances      Box(P          R      mAP50  mAP50-95): 100%|██████████| 2/2 [00:00<00:00,  2.98it/s]\n"
          ]
        },
        {
          "output_type": "stream",
          "name": "stdout",
          "text": [
            "                   all         19         19      0.875      0.889      0.863      0.794\n",
            "           cougar_body          9          9      0.774      0.778      0.732      0.614\n",
            "         windsor_chair         10         10      0.977          1      0.995      0.973\n",
            "Speed: 0.1ms preprocess, 21.3ms inference, 0.0ms loss, 1.7ms postprocess per image\n",
            "Results saved to \u001b[1mruns/detect/train2\u001b[0m\n",
            "\n",
            "image 1/1 /content/sample_data/caltech101/101_ObjectCategories/windsor_chair/image_0052.jpg: 288x288 1 windsor_chair, 6.7ms\n",
            "Speed: 1.0ms preprocess, 6.7ms inference, 2.1ms postprocess per image at shape (1, 3, 288, 288)\n"
          ]
        },
        {
          "output_type": "display_data",
          "data": {
            "text/plain": [
              "<PIL.Image.Image image mode=RGB size=286x300>"
            ],
            "image/png": "[encoded data removed]",
            "image/jpeg": "[encoded data removed]"
          },
          "metadata": {}
        },
        {
          "output_type": "stream",
          "name": "stdout",
          "text": [
            "Ultralytics 8.3.59 🚀 Python-3.10.12 torch-2.5.1+cu121 CPU (Intel Xeon 2.00GHz)\n",
            "\n",
            "\u001b[34m\u001b[1mPyTorch:\u001b[0m starting from 'runs/detect/train/weights/best.pt' with input shape (1, 3, 288, 288) BCHW and output shape(s) (1, 6, 1701) (5.0 MB)\n",
            "\u001b[31m\u001b[1mrequirements:\u001b[0m Ultralytics requirements ['onnx>=1.12.0', 'onnxslim', 'onnxruntime-gpu'] not found, attempting AutoUpdate...\n",
            "Collecting onnx>=1.12.0\n",
            "  Downloading onnx-1.17.0-cp310-cp310-manylinux_2_17_x86_64.manylinux2014_x86_64.whl.metadata (16 kB)\n",
            "Collecting onnxslim\n",
            "  Downloading onnxslim-0.1.47-py3-none-any.whl.metadata (4.4 kB)\n",
            "Collecting onnxruntime-gpu\n",
            "  Downloading onnxruntime_gpu-1.20.1-cp310-cp310-manylinux_2_27_x86_64.manylinux_2_28_x86_64.whl.metadata (4.5 kB)\n",
            "Requirement already satisfied: numpy>=1.20 in /usr/local/lib/python3.10/dist-packages (from onnx>=1.12.0) (1.26.4)\n",
            "Requirement already satisfied: protobuf>=3.20.2 in /usr/local/lib/python3.10/dist-packages (from onnx>=1.12.0) (4.25.5)\n",
            "Requirement already satisfied: sympy in /usr/local/lib/python3.10/dist-packages (from onnxslim) (1.13.1)\n",
            "Requirement already satisfied: packaging in /usr/local/lib/python3.10/dist-packages (from onnxslim) (24.2)\n",
            "Collecting coloredlogs (from onnxruntime-gpu)\n",
            "  Downloading coloredlogs-15.0.1-py2.py3-none-any.whl.metadata (12 kB)\n",
            "Requirement already satisfied: flatbuffers in /usr/local/lib/python3.10/dist-packages (from onnxruntime-gpu) (24.12.23)\n",
            "Collecting humanfriendly>=9.1 (from coloredlogs->onnxruntime-gpu)\n",
            "  Downloading humanfriendly-10.0-py2.py3-none-any.whl.metadata (9.2 kB)\n",
            "Requirement already satisfied: mpmath<1.4,>=1.1.0 in /usr/local/lib/python3.10/dist-packages (from sympy->onnxslim) (1.3.0)\n",
            "Downloading onnx-1.17.0-cp310-cp310-manylinux_2_17_x86_64.manylinux2014_x86_64.whl (16.0 MB)\n",
            "   ━━━━━━━━━━━━━━━━━━━━━━━━━━━━━━━━━━━━━━━━ 16.0/16.0 MB 231.7 MB/s eta 0:00:00\n",
            "Downloading onnxslim-0.1.47-py3-none-any.whl (142 kB)\n",
            "   ━━━━━━━━━━━━━━━━━━━━━━━━━━━━━━━━━━━━━━━━ 142.8/142.8 kB 352.7 MB/s eta 0:00:00\n",
            "Downloading onnxruntime_gpu-1.20.1-cp310-cp310-manylinux_2_27_x86_64.manylinux_2_28_x86_64.whl (291.5 MB)\n",
            "   ━━━━━━━━━━━━━━━━━━━━━━━━━━━━━━━━━━━━━━━━ 291.5/291.5 MB 187.1 MB/s eta 0:00:00\n",
            "Downloading coloredlogs-15.0.1-py2.py3-none-any.whl (46 kB)\n",
            "   ━━━━━━━━━━━━━━━━━━━━━━━━━━━━━━━━━━━━━━━━ 46.0/46.0 kB 147.5 MB/s eta 0:00:00\n",
            "Downloading humanfriendly-10.0-py2.py3-none-any.whl (86 kB)\n",
            "   ━━━━━━━━━━━━━━━━━━━━━━━━━━━━━━━━━━━━━━━━ 86.8/86.8 kB 201.0 MB/s eta 0:00:00\n",
            "Installing collected packages: onnx, humanfriendly, onnxslim, coloredlogs, onnxruntime-gpu\n",
            "Successfully installed coloredlogs-15.0.1 humanfriendly-10.0 onnx-1.17.0 onnxruntime-gpu-1.20.1 onnxslim-0.1.47\n",
            "\n",
            "\u001b[31m\u001b[1mrequirements:\u001b[0m AutoUpdate success ✅ 24.7s, installed 3 packages: ['onnx>=1.12.0', 'onnxslim', 'onnxruntime-gpu']\n",
            "\u001b[31m\u001b[1mrequirements:\u001b[0m ⚠️ \u001b[1mRestart runtime or rerun command for updates to take effect\u001b[0m\n",
            "\n",
            "\n",
            "\u001b[34m\u001b[1mONNX:\u001b[0m starting export with onnx 1.17.0 opset 19...\n",
            "\u001b[34m\u001b[1mONNX:\u001b[0m slimming with onnxslim 0.1.47...\n",
            "\u001b[34m\u001b[1mONNX:\u001b[0m export success ✅ 26.4s, saved as 'runs/detect/train/weights/best.onnx' (9.6 MB)\n",
            "\n",
            "Export complete (27.8s)\n",
            "Results saved to \u001b[1m/content/runs/detect/train/weights\u001b[0m\n",
            "Predict:         yolo predict task=detect model=runs/detect/train/weights/best.onnx imgsz=288  \n",
            "Validate:        yolo val task=detect model=runs/detect/train/weights/best.onnx imgsz=288 data=/content/data.yaml  \n",
            "Visualize:       https://netron.app\n"
          ]
        }
      ]
    },
    {
      "cell_type": "code",
      "source": [
        "i = 32\n",
        "mat_data = scipy.io.loadmat(annotations_train[i])\n",
        "#print(mat_data)\n",
        "boundingbox_data = mat_data['box_coord']\n",
        "print(mat_data['box_coord'])\n",
        "dimensions = Image.open(X_train[i]).size\n",
        "\n",
        "# print(boundingbox_data)\n",
        "# print(dimensions)"
      ],
      "metadata": {
        "colab": {
          "base_uri": "https://localhost:8080/"
        },
        "id": "nJVmRvxWJDah",
        "outputId": "72eb1fbb-473f-4b4b-e801-d46f7bcea73f"
      },
      "execution_count": 20,
      "outputs": [
        {
          "output_type": "stream",
          "name": "stdout",
          "text": [
            "[[  2 299   2 183]]\n"
          ]
        }
      ]
    },
    {
      "cell_type": "code",
      "source": [
        "print(training.__getdist__())"
      ],
      "metadata": {
        "colab": {
          "base_uri": "https://localhost:8080/"
        },
        "id": "34LZ3iHHTyZM",
        "outputId": "e6fe5e56-b940-482e-d13b-a41c5c0f5315"
      },
      "execution_count": 21,
      "outputs": [
        {
          "output_type": "stream",
          "name": "stdout",
          "text": [
            "1    90\n",
            "0    74\n",
            "Name: count, dtype: int64\n"
          ]
        }
      ]
    }
  ]
}